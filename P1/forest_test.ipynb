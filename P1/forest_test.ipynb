{
 "cells": [
  {
   "cell_type": "code",
   "execution_count": 100,
   "metadata": {},
   "outputs": [],
   "source": [
    "# Import libraries\n",
    "import numpy as np\n",
    "import pandas as pd\n",
    "from sklearn.linear_model import LinearRegression as Lin_Reg\n",
    "from sklearn.ensemble import RandomForestRegressor as RFR\n",
    "from sklearn.metrics import mean_squared_error\n",
    "import matplotlib\n",
    "import matplotlib.pyplot as plt\n",
    "import matplotlib.cm as cmx\n",
    "import matplotlib.colors as colors\n",
    "import scipy as sp\n",
    "%matplotlib inline\n",
    "from sklearn.model_selection import KFold\n",
    "def kfold(k, predictor, X):\n",
    "    kf = KFold(n_splits = k, random_state = 0)\n",
    "    count = 0\n",
    "    for trains, tests in kf.split(X):\n",
    "        x_train = X.iloc[trains, 1:-1]\n",
    "        y_train = X.iloc[trains, -1]\n",
    "        x_test = X.iloc[tests, 1:-1]\n",
    "        y_test = X.iloc[tests, -1]\n",
    "        predictor.fit(x_train, y_train)\n",
    "        predictions = predictor.predict(x_test)\n",
    "        count += np.sqrt(mean_squared_error(predictions, y_test))\n",
    "    return count/k\n",
    "\n",
    "from collections import Counter"
   ]
  },
  {
   "cell_type": "code",
   "execution_count": 91,
   "metadata": {},
   "outputs": [],
   "source": [
    "# Load training and test sets (assumes you have these in current working directory)\n",
    "train = pd.read_csv(\"train.csv\")\n",
    "test = pd.read_csv(\"test.csv\")"
   ]
  },
  {
   "cell_type": "code",
   "execution_count": 3,
   "metadata": {},
   "outputs": [
    {
     "data": {
      "text/html": [
       "<div>\n",
       "<style scoped>\n",
       "    .dataframe tbody tr th:only-of-type {\n",
       "        vertical-align: middle;\n",
       "    }\n",
       "\n",
       "    .dataframe tbody tr th {\n",
       "        vertical-align: top;\n",
       "    }\n",
       "\n",
       "    .dataframe thead th {\n",
       "        text-align: right;\n",
       "    }\n",
       "</style>\n",
       "<table border=\"1\" class=\"dataframe\">\n",
       "  <thead>\n",
       "    <tr style=\"text-align: right;\">\n",
       "      <th></th>\n",
       "      <th>Id</th>\n",
       "      <th>Feat 1</th>\n",
       "      <th>Feat 2</th>\n",
       "      <th>Feat 3</th>\n",
       "      <th>Feat 4</th>\n",
       "      <th>Feat 5</th>\n",
       "      <th>Feat 6</th>\n",
       "      <th>Feat 7</th>\n",
       "      <th>Feat 8</th>\n",
       "      <th>Feat 9</th>\n",
       "      <th>...</th>\n",
       "      <th>Feat 243</th>\n",
       "      <th>Feat 244</th>\n",
       "      <th>Feat 245</th>\n",
       "      <th>Feat 246</th>\n",
       "      <th>Feat 247</th>\n",
       "      <th>Feat 248</th>\n",
       "      <th>Feat 249</th>\n",
       "      <th>Feat 250</th>\n",
       "      <th>Feat 251</th>\n",
       "      <th>Target</th>\n",
       "    </tr>\n",
       "  </thead>\n",
       "  <tbody>\n",
       "    <tr>\n",
       "      <th>0</th>\n",
       "      <td>1</td>\n",
       "      <td>0.998952</td>\n",
       "      <td>0.174118</td>\n",
       "      <td>0.999211</td>\n",
       "      <td>0.996460</td>\n",
       "      <td>0.133333</td>\n",
       "      <td>0.057143</td>\n",
       "      <td>0.000</td>\n",
       "      <td>0.0</td>\n",
       "      <td>0.0</td>\n",
       "      <td>...</td>\n",
       "      <td>0.0</td>\n",
       "      <td>0.0</td>\n",
       "      <td>0</td>\n",
       "      <td>0.612863</td>\n",
       "      <td>0.026812</td>\n",
       "      <td>0.522</td>\n",
       "      <td>0.217791</td>\n",
       "      <td>0.233629</td>\n",
       "      <td>0.540962</td>\n",
       "      <td>0.901355</td>\n",
       "    </tr>\n",
       "    <tr>\n",
       "      <th>1</th>\n",
       "      <td>2</td>\n",
       "      <td>0.999445</td>\n",
       "      <td>0.174118</td>\n",
       "      <td>0.999329</td>\n",
       "      <td>0.997079</td>\n",
       "      <td>0.133333</td>\n",
       "      <td>0.000000</td>\n",
       "      <td>0.000</td>\n",
       "      <td>0.0</td>\n",
       "      <td>0.0</td>\n",
       "      <td>...</td>\n",
       "      <td>0.0</td>\n",
       "      <td>0.0</td>\n",
       "      <td>0</td>\n",
       "      <td>0.688941</td>\n",
       "      <td>0.075030</td>\n",
       "      <td>0.704</td>\n",
       "      <td>0.246119</td>\n",
       "      <td>0.143860</td>\n",
       "      <td>0.525384</td>\n",
       "      <td>0.913550</td>\n",
       "    </tr>\n",
       "    <tr>\n",
       "      <th>2</th>\n",
       "      <td>3</td>\n",
       "      <td>0.998759</td>\n",
       "      <td>0.000000</td>\n",
       "      <td>0.997260</td>\n",
       "      <td>0.996325</td>\n",
       "      <td>0.000000</td>\n",
       "      <td>0.085714</td>\n",
       "      <td>0.125</td>\n",
       "      <td>0.0</td>\n",
       "      <td>0.0</td>\n",
       "      <td>...</td>\n",
       "      <td>0.0</td>\n",
       "      <td>0.0</td>\n",
       "      <td>0</td>\n",
       "      <td>0.156863</td>\n",
       "      <td>0.436279</td>\n",
       "      <td>0.000</td>\n",
       "      <td>0.119091</td>\n",
       "      <td>0.162869</td>\n",
       "      <td>0.361124</td>\n",
       "      <td>0.884824</td>\n",
       "    </tr>\n",
       "    <tr>\n",
       "      <th>3</th>\n",
       "      <td>4</td>\n",
       "      <td>0.999619</td>\n",
       "      <td>0.174118</td>\n",
       "      <td>0.997969</td>\n",
       "      <td>0.997321</td>\n",
       "      <td>0.266667</td>\n",
       "      <td>0.057143</td>\n",
       "      <td>0.125</td>\n",
       "      <td>0.0</td>\n",
       "      <td>0.0</td>\n",
       "      <td>...</td>\n",
       "      <td>0.0</td>\n",
       "      <td>0.0</td>\n",
       "      <td>0</td>\n",
       "      <td>0.709647</td>\n",
       "      <td>0.075472</td>\n",
       "      <td>0.513</td>\n",
       "      <td>0.392743</td>\n",
       "      <td>0.377302</td>\n",
       "      <td>0.613776</td>\n",
       "      <td>0.977236</td>\n",
       "    </tr>\n",
       "    <tr>\n",
       "      <th>4</th>\n",
       "      <td>5</td>\n",
       "      <td>0.998278</td>\n",
       "      <td>0.174118</td>\n",
       "      <td>0.998427</td>\n",
       "      <td>0.996269</td>\n",
       "      <td>0.200000</td>\n",
       "      <td>0.000000</td>\n",
       "      <td>0.000</td>\n",
       "      <td>0.0</td>\n",
       "      <td>0.0</td>\n",
       "      <td>...</td>\n",
       "      <td>0.0</td>\n",
       "      <td>0.0</td>\n",
       "      <td>0</td>\n",
       "      <td>0.364235</td>\n",
       "      <td>0.041818</td>\n",
       "      <td>0.200</td>\n",
       "      <td>0.096297</td>\n",
       "      <td>0.166459</td>\n",
       "      <td>0.408322</td>\n",
       "      <td>0.921138</td>\n",
       "    </tr>\n",
       "  </tbody>\n",
       "</table>\n",
       "<p>5 rows × 253 columns</p>\n",
       "</div>"
      ],
      "text/plain": [
       "   Id    Feat 1    Feat 2    Feat 3    Feat 4    Feat 5    Feat 6  Feat 7  \\\n",
       "0   1  0.998952  0.174118  0.999211  0.996460  0.133333  0.057143   0.000   \n",
       "1   2  0.999445  0.174118  0.999329  0.997079  0.133333  0.000000   0.000   \n",
       "2   3  0.998759  0.000000  0.997260  0.996325  0.000000  0.085714   0.125   \n",
       "3   4  0.999619  0.174118  0.997969  0.997321  0.266667  0.057143   0.125   \n",
       "4   5  0.998278  0.174118  0.998427  0.996269  0.200000  0.000000   0.000   \n",
       "\n",
       "   Feat 8  Feat 9    ...     Feat 243  Feat 244  Feat 245  Feat 246  Feat 247  \\\n",
       "0     0.0     0.0    ...          0.0       0.0         0  0.612863  0.026812   \n",
       "1     0.0     0.0    ...          0.0       0.0         0  0.688941  0.075030   \n",
       "2     0.0     0.0    ...          0.0       0.0         0  0.156863  0.436279   \n",
       "3     0.0     0.0    ...          0.0       0.0         0  0.709647  0.075472   \n",
       "4     0.0     0.0    ...          0.0       0.0         0  0.364235  0.041818   \n",
       "\n",
       "   Feat 248  Feat 249  Feat 250  Feat 251    Target  \n",
       "0     0.522  0.217791  0.233629  0.540962  0.901355  \n",
       "1     0.704  0.246119  0.143860  0.525384  0.913550  \n",
       "2     0.000  0.119091  0.162869  0.361124  0.884824  \n",
       "3     0.513  0.392743  0.377302  0.613776  0.977236  \n",
       "4     0.200  0.096297  0.166459  0.408322  0.921138  \n",
       "\n",
       "[5 rows x 253 columns]"
      ]
     },
     "execution_count": 3,
     "metadata": {},
     "output_type": "execute_result"
    }
   ],
   "source": [
    "# Inspect training set\n",
    "train.head()"
   ]
  },
  {
   "cell_type": "code",
   "execution_count": 4,
   "metadata": {},
   "outputs": [
    {
     "data": {
      "text/html": [
       "<div>\n",
       "<style scoped>\n",
       "    .dataframe tbody tr th:only-of-type {\n",
       "        vertical-align: middle;\n",
       "    }\n",
       "\n",
       "    .dataframe tbody tr th {\n",
       "        vertical-align: top;\n",
       "    }\n",
       "\n",
       "    .dataframe thead th {\n",
       "        text-align: right;\n",
       "    }\n",
       "</style>\n",
       "<table border=\"1\" class=\"dataframe\">\n",
       "  <thead>\n",
       "    <tr style=\"text-align: right;\">\n",
       "      <th></th>\n",
       "      <th>Id</th>\n",
       "      <th>Feat 1</th>\n",
       "      <th>Feat 2</th>\n",
       "      <th>Feat 3</th>\n",
       "      <th>Feat 4</th>\n",
       "      <th>Feat 5</th>\n",
       "      <th>Feat 6</th>\n",
       "      <th>Feat 7</th>\n",
       "      <th>Feat 8</th>\n",
       "      <th>Feat 9</th>\n",
       "      <th>...</th>\n",
       "      <th>Feat 242</th>\n",
       "      <th>Feat 243</th>\n",
       "      <th>Feat 244</th>\n",
       "      <th>Feat 245</th>\n",
       "      <th>Feat 246</th>\n",
       "      <th>Feat 247</th>\n",
       "      <th>Feat 248</th>\n",
       "      <th>Feat 249</th>\n",
       "      <th>Feat 250</th>\n",
       "      <th>Feat 251</th>\n",
       "    </tr>\n",
       "  </thead>\n",
       "  <tbody>\n",
       "    <tr>\n",
       "      <th>0</th>\n",
       "      <td>1</td>\n",
       "      <td>0.999849</td>\n",
       "      <td>0.174118</td>\n",
       "      <td>0.999819</td>\n",
       "      <td>0.997841</td>\n",
       "      <td>0.133333</td>\n",
       "      <td>0.2</td>\n",
       "      <td>0.0</td>\n",
       "      <td>0.0</td>\n",
       "      <td>0.000000</td>\n",
       "      <td>...</td>\n",
       "      <td>0.0</td>\n",
       "      <td>0.0</td>\n",
       "      <td>0.0</td>\n",
       "      <td>0</td>\n",
       "      <td>0.728471</td>\n",
       "      <td>0.054397</td>\n",
       "      <td>0.649</td>\n",
       "      <td>0.416164</td>\n",
       "      <td>0.053998</td>\n",
       "      <td>0.667391</td>\n",
       "    </tr>\n",
       "    <tr>\n",
       "      <th>1</th>\n",
       "      <td>2</td>\n",
       "      <td>0.999958</td>\n",
       "      <td>0.164706</td>\n",
       "      <td>1.000000</td>\n",
       "      <td>0.996741</td>\n",
       "      <td>0.066667</td>\n",
       "      <td>0.0</td>\n",
       "      <td>0.0</td>\n",
       "      <td>0.0</td>\n",
       "      <td>0.000000</td>\n",
       "      <td>...</td>\n",
       "      <td>0.0</td>\n",
       "      <td>0.0</td>\n",
       "      <td>0.0</td>\n",
       "      <td>0</td>\n",
       "      <td>0.497255</td>\n",
       "      <td>0.037736</td>\n",
       "      <td>0.375</td>\n",
       "      <td>0.165514</td>\n",
       "      <td>0.101973</td>\n",
       "      <td>0.506650</td>\n",
       "    </tr>\n",
       "    <tr>\n",
       "      <th>2</th>\n",
       "      <td>3</td>\n",
       "      <td>0.999666</td>\n",
       "      <td>0.174118</td>\n",
       "      <td>0.999479</td>\n",
       "      <td>0.997376</td>\n",
       "      <td>0.000000</td>\n",
       "      <td>0.0</td>\n",
       "      <td>0.0</td>\n",
       "      <td>0.0</td>\n",
       "      <td>0.000000</td>\n",
       "      <td>...</td>\n",
       "      <td>0.0</td>\n",
       "      <td>0.0</td>\n",
       "      <td>0.0</td>\n",
       "      <td>0</td>\n",
       "      <td>0.688941</td>\n",
       "      <td>0.019309</td>\n",
       "      <td>1.000</td>\n",
       "      <td>0.192069</td>\n",
       "      <td>0.120700</td>\n",
       "      <td>0.498784</td>\n",
       "    </tr>\n",
       "    <tr>\n",
       "      <th>3</th>\n",
       "      <td>4</td>\n",
       "      <td>0.999735</td>\n",
       "      <td>0.174118</td>\n",
       "      <td>0.999655</td>\n",
       "      <td>0.997173</td>\n",
       "      <td>0.133333</td>\n",
       "      <td>0.0</td>\n",
       "      <td>0.0</td>\n",
       "      <td>0.0</td>\n",
       "      <td>0.363636</td>\n",
       "      <td>...</td>\n",
       "      <td>0.0</td>\n",
       "      <td>0.0</td>\n",
       "      <td>0.0</td>\n",
       "      <td>0</td>\n",
       "      <td>0.654118</td>\n",
       "      <td>0.019089</td>\n",
       "      <td>0.333</td>\n",
       "      <td>0.451252</td>\n",
       "      <td>0.164180</td>\n",
       "      <td>0.774466</td>\n",
       "    </tr>\n",
       "    <tr>\n",
       "      <th>4</th>\n",
       "      <td>5</td>\n",
       "      <td>0.999806</td>\n",
       "      <td>0.164706</td>\n",
       "      <td>0.999551</td>\n",
       "      <td>0.997234</td>\n",
       "      <td>0.000000</td>\n",
       "      <td>0.0</td>\n",
       "      <td>0.0</td>\n",
       "      <td>0.0</td>\n",
       "      <td>0.000000</td>\n",
       "      <td>...</td>\n",
       "      <td>0.0</td>\n",
       "      <td>0.0</td>\n",
       "      <td>0.0</td>\n",
       "      <td>0</td>\n",
       "      <td>0.627451</td>\n",
       "      <td>0.160433</td>\n",
       "      <td>0.882</td>\n",
       "      <td>0.147407</td>\n",
       "      <td>0.000000</td>\n",
       "      <td>0.481240</td>\n",
       "    </tr>\n",
       "  </tbody>\n",
       "</table>\n",
       "<p>5 rows × 252 columns</p>\n",
       "</div>"
      ],
      "text/plain": [
       "   Id    Feat 1    Feat 2    Feat 3    Feat 4    Feat 5  Feat 6  Feat 7  \\\n",
       "0   1  0.999849  0.174118  0.999819  0.997841  0.133333     0.2     0.0   \n",
       "1   2  0.999958  0.164706  1.000000  0.996741  0.066667     0.0     0.0   \n",
       "2   3  0.999666  0.174118  0.999479  0.997376  0.000000     0.0     0.0   \n",
       "3   4  0.999735  0.174118  0.999655  0.997173  0.133333     0.0     0.0   \n",
       "4   5  0.999806  0.164706  0.999551  0.997234  0.000000     0.0     0.0   \n",
       "\n",
       "   Feat 8    Feat 9    ...     Feat 242  Feat 243  Feat 244  Feat 245  \\\n",
       "0     0.0  0.000000    ...          0.0       0.0       0.0         0   \n",
       "1     0.0  0.000000    ...          0.0       0.0       0.0         0   \n",
       "2     0.0  0.000000    ...          0.0       0.0       0.0         0   \n",
       "3     0.0  0.363636    ...          0.0       0.0       0.0         0   \n",
       "4     0.0  0.000000    ...          0.0       0.0       0.0         0   \n",
       "\n",
       "   Feat 246  Feat 247  Feat 248  Feat 249  Feat 250  Feat 251  \n",
       "0  0.728471  0.054397     0.649  0.416164  0.053998  0.667391  \n",
       "1  0.497255  0.037736     0.375  0.165514  0.101973  0.506650  \n",
       "2  0.688941  0.019309     1.000  0.192069  0.120700  0.498784  \n",
       "3  0.654118  0.019089     0.333  0.451252  0.164180  0.774466  \n",
       "4  0.627451  0.160433     0.882  0.147407  0.000000  0.481240  \n",
       "\n",
       "[5 rows x 252 columns]"
      ]
     },
     "execution_count": 4,
     "metadata": {},
     "output_type": "execute_result"
    }
   ],
   "source": [
    "# Inspect test set\n",
    "test.head()"
   ]
  },
  {
   "cell_type": "code",
   "execution_count": 5,
   "metadata": {},
   "outputs": [
    {
     "data": {
      "image/png": "[encoded data removed]",
      "text/plain": [
       "<Figure size 432x288 with 1 Axes>"
      ]
     },
     "metadata": {},
     "output_type": "display_data"
    }
   ],
   "source": [
    "# Explore distribution of target\n",
    "plt.hist(train['Target'], bins = 100)\n",
    "plt.title(\"Distribution of Dependent Variable\")\n",
    "plt.show()"
   ]
  },
  {
   "cell_type": "code",
   "execution_count": 81,
   "metadata": {},
   "outputs": [],
   "source": [
    "# Split training set into X and y (removing first column containing IDs)\n",
    "X_train = train.iloc[:, 1:-1]\n",
    "y_train = train.iloc[:, -1]"
   ]
  },
  {
   "cell_type": "code",
   "execution_count": 5,
   "metadata": {},
   "outputs": [],
   "source": [
    "# Define function to compute RMSE\n",
    "def scoreRMSE(predictor, X, true_y):\n",
    "    predictions = predictor.predict(X)\n",
    "    return np.sqrt(mean_squared_error(predictions, true_y))"
   ]
  },
  {
   "cell_type": "code",
   "execution_count": 101,
   "metadata": {},
   "outputs": [
    {
     "name": "stdout",
     "output_type": "stream",
     "text": [
      "1\n",
      "0.027169137663525363\n",
      "2\n",
      "0.027079539239580064\n",
      "4\n",
      "0.027066751093652107\n"
     ]
    }
   ],
   "source": [
    "for min_leaf in [1,2,4]:\n",
    "    print min_leaf\n",
    "    rfr = RFR(n_estimators=50, min_samples_leaf=min_leaf)\n",
    "    print kfold(5, rfr, train)"
   ]
  },
  {
   "cell_type": "code",
   "execution_count": 103,
   "metadata": {},
   "outputs": [
    {
     "name": "stdout",
     "output_type": "stream",
     "text": [
      "6\n",
      "0.026910287496352138\n",
      "8\n",
      "0.02698256102925829\n",
      "10\n",
      "0.026940021926311813\n"
     ]
    }
   ],
   "source": [
    "for min_leaf in [6,8,10]:\n",
    "    print min_leaf\n",
    "    rfr = RFR(n_estimators=50, min_samples_leaf=min_leaf)\n",
    "    print kfold(5, rfr, train)"
   ]
  },
  {
   "cell_type": "code",
   "execution_count": 104,
   "metadata": {},
   "outputs": [
    {
     "name": "stdout",
     "output_type": "stream",
     "text": [
      "12\n",
      "0.02701564392881874\n",
      "15\n",
      "0.026969103852985003\n",
      "20\n",
      "0.0269298872479265\n"
     ]
    }
   ],
   "source": [
    "for min_leaf in [12,15,20]:\n",
    "    print min_leaf\n",
    "    rfr = RFR(n_estimators=50, min_samples_leaf=min_leaf)\n",
    "    print kfold(5, rfr, train)"
   ]
  },
  {
   "cell_type": "code",
   "execution_count": 111,
   "metadata": {},
   "outputs": [
    {
     "name": "stdout",
     "output_type": "stream",
     "text": [
      "('Training RMSE: ', 0.010017586115933095)\n"
     ]
    }
   ],
   "source": [
    "# Fit unregularized linear regression and see RMSE on training set\n",
    "\n",
    "# >>> regr = RandomForestRegressor(max_depth=2, random_state=0,\n",
    "# ...                              n_estimators=100)\n",
    "# >>> regr.fit(X, y)\n",
    "\n",
    "rfR = RFR(n_estimators=2000, min_samples_leaf=1)\n",
    "rfR.fit(X_train, y_train)\n",
    "\n",
    "print (\"Training RMSE: \", scoreRMSE(rfR, X_train, y_train))"
   ]
  },
  {
   "cell_type": "code",
   "execution_count": 75,
   "metadata": {},
   "outputs": [
    {
     "data": {
      "text/html": [
       "<div>\n",
       "<style scoped>\n",
       "    .dataframe tbody tr th:only-of-type {\n",
       "        vertical-align: middle;\n",
       "    }\n",
       "\n",
       "    .dataframe tbody tr th {\n",
       "        vertical-align: top;\n",
       "    }\n",
       "\n",
       "    .dataframe thead th {\n",
       "        text-align: right;\n",
       "    }\n",
       "</style>\n",
       "<table border=\"1\" class=\"dataframe\">\n",
       "  <thead>\n",
       "    <tr style=\"text-align: right;\">\n",
       "      <th></th>\n",
       "      <th>Feat 1</th>\n",
       "      <th>Feat 2</th>\n",
       "      <th>Feat 3</th>\n",
       "      <th>Feat 4</th>\n",
       "      <th>Feat 5</th>\n",
       "      <th>Feat 6</th>\n",
       "      <th>Feat 7</th>\n",
       "      <th>Feat 8</th>\n",
       "      <th>Feat 9</th>\n",
       "      <th>Feat 10</th>\n",
       "      <th>...</th>\n",
       "      <th>Feat 242</th>\n",
       "      <th>Feat 243</th>\n",
       "      <th>Feat 244</th>\n",
       "      <th>Feat 245</th>\n",
       "      <th>Feat 246</th>\n",
       "      <th>Feat 247</th>\n",
       "      <th>Feat 248</th>\n",
       "      <th>Feat 249</th>\n",
       "      <th>Feat 250</th>\n",
       "      <th>Feat 251</th>\n",
       "    </tr>\n",
       "  </thead>\n",
       "  <tbody>\n",
       "    <tr>\n",
       "      <th>0</th>\n",
       "      <td>0.999849</td>\n",
       "      <td>0.174118</td>\n",
       "      <td>0.999819</td>\n",
       "      <td>0.997841</td>\n",
       "      <td>0.133333</td>\n",
       "      <td>0.2</td>\n",
       "      <td>0.0</td>\n",
       "      <td>0.0</td>\n",
       "      <td>0.000000</td>\n",
       "      <td>0.000000</td>\n",
       "      <td>...</td>\n",
       "      <td>0.0</td>\n",
       "      <td>0.0</td>\n",
       "      <td>0.0</td>\n",
       "      <td>0</td>\n",
       "      <td>0.728471</td>\n",
       "      <td>0.054397</td>\n",
       "      <td>0.649</td>\n",
       "      <td>0.416164</td>\n",
       "      <td>0.053998</td>\n",
       "      <td>0.667391</td>\n",
       "    </tr>\n",
       "    <tr>\n",
       "      <th>1</th>\n",
       "      <td>0.999958</td>\n",
       "      <td>0.164706</td>\n",
       "      <td>1.000000</td>\n",
       "      <td>0.996741</td>\n",
       "      <td>0.066667</td>\n",
       "      <td>0.0</td>\n",
       "      <td>0.0</td>\n",
       "      <td>0.0</td>\n",
       "      <td>0.000000</td>\n",
       "      <td>0.000000</td>\n",
       "      <td>...</td>\n",
       "      <td>0.0</td>\n",
       "      <td>0.0</td>\n",
       "      <td>0.0</td>\n",
       "      <td>0</td>\n",
       "      <td>0.497255</td>\n",
       "      <td>0.037736</td>\n",
       "      <td>0.375</td>\n",
       "      <td>0.165514</td>\n",
       "      <td>0.101973</td>\n",
       "      <td>0.506650</td>\n",
       "    </tr>\n",
       "    <tr>\n",
       "      <th>2</th>\n",
       "      <td>0.999666</td>\n",
       "      <td>0.174118</td>\n",
       "      <td>0.999479</td>\n",
       "      <td>0.997376</td>\n",
       "      <td>0.000000</td>\n",
       "      <td>0.0</td>\n",
       "      <td>0.0</td>\n",
       "      <td>0.0</td>\n",
       "      <td>0.000000</td>\n",
       "      <td>0.000000</td>\n",
       "      <td>...</td>\n",
       "      <td>0.0</td>\n",
       "      <td>0.0</td>\n",
       "      <td>0.0</td>\n",
       "      <td>0</td>\n",
       "      <td>0.688941</td>\n",
       "      <td>0.019309</td>\n",
       "      <td>1.000</td>\n",
       "      <td>0.192069</td>\n",
       "      <td>0.120700</td>\n",
       "      <td>0.498784</td>\n",
       "    </tr>\n",
       "    <tr>\n",
       "      <th>3</th>\n",
       "      <td>0.999735</td>\n",
       "      <td>0.174118</td>\n",
       "      <td>0.999655</td>\n",
       "      <td>0.997173</td>\n",
       "      <td>0.133333</td>\n",
       "      <td>0.0</td>\n",
       "      <td>0.0</td>\n",
       "      <td>0.0</td>\n",
       "      <td>0.363636</td>\n",
       "      <td>0.166667</td>\n",
       "      <td>...</td>\n",
       "      <td>0.0</td>\n",
       "      <td>0.0</td>\n",
       "      <td>0.0</td>\n",
       "      <td>0</td>\n",
       "      <td>0.654118</td>\n",
       "      <td>0.019089</td>\n",
       "      <td>0.333</td>\n",
       "      <td>0.451252</td>\n",
       "      <td>0.164180</td>\n",
       "      <td>0.774466</td>\n",
       "    </tr>\n",
       "    <tr>\n",
       "      <th>4</th>\n",
       "      <td>0.999806</td>\n",
       "      <td>0.164706</td>\n",
       "      <td>0.999551</td>\n",
       "      <td>0.997234</td>\n",
       "      <td>0.000000</td>\n",
       "      <td>0.0</td>\n",
       "      <td>0.0</td>\n",
       "      <td>0.0</td>\n",
       "      <td>0.000000</td>\n",
       "      <td>0.000000</td>\n",
       "      <td>...</td>\n",
       "      <td>0.0</td>\n",
       "      <td>0.0</td>\n",
       "      <td>0.0</td>\n",
       "      <td>0</td>\n",
       "      <td>0.627451</td>\n",
       "      <td>0.160433</td>\n",
       "      <td>0.882</td>\n",
       "      <td>0.147407</td>\n",
       "      <td>0.000000</td>\n",
       "      <td>0.481240</td>\n",
       "    </tr>\n",
       "  </tbody>\n",
       "</table>\n",
       "<p>5 rows × 251 columns</p>\n",
       "</div>"
      ],
      "text/plain": [
       "     Feat 1    Feat 2    Feat 3    Feat 4    Feat 5  Feat 6  Feat 7  Feat 8  \\\n",
       "0  0.999849  0.174118  0.999819  0.997841  0.133333     0.2     0.0     0.0   \n",
       "1  0.999958  0.164706  1.000000  0.996741  0.066667     0.0     0.0     0.0   \n",
       "2  0.999666  0.174118  0.999479  0.997376  0.000000     0.0     0.0     0.0   \n",
       "3  0.999735  0.174118  0.999655  0.997173  0.133333     0.0     0.0     0.0   \n",
       "4  0.999806  0.164706  0.999551  0.997234  0.000000     0.0     0.0     0.0   \n",
       "\n",
       "     Feat 9   Feat 10    ...     Feat 242  Feat 243  Feat 244  Feat 245  \\\n",
       "0  0.000000  0.000000    ...          0.0       0.0       0.0         0   \n",
       "1  0.000000  0.000000    ...          0.0       0.0       0.0         0   \n",
       "2  0.000000  0.000000    ...          0.0       0.0       0.0         0   \n",
       "3  0.363636  0.166667    ...          0.0       0.0       0.0         0   \n",
       "4  0.000000  0.000000    ...          0.0       0.0       0.0         0   \n",
       "\n",
       "   Feat 246  Feat 247  Feat 248  Feat 249  Feat 250  Feat 251  \n",
       "0  0.728471  0.054397     0.649  0.416164  0.053998  0.667391  \n",
       "1  0.497255  0.037736     0.375  0.165514  0.101973  0.506650  \n",
       "2  0.688941  0.019309     1.000  0.192069  0.120700  0.498784  \n",
       "3  0.654118  0.019089     0.333  0.451252  0.164180  0.774466  \n",
       "4  0.627451  0.160433     0.882  0.147407  0.000000  0.481240  \n",
       "\n",
       "[5 rows x 251 columns]"
      ]
     },
     "execution_count": 75,
     "metadata": {},
     "output_type": "execute_result"
    }
   ],
   "source": [
    "# Remove first column to make predictions\n",
    "X_test = test.iloc[:, 1:]\n",
    "X_test.head()"
   ]
  },
  {
   "cell_type": "code",
   "execution_count": 112,
   "metadata": {},
   "outputs": [],
   "source": [
    "# Make predictions using linear regression model fitted above\n",
    "predictions = rfR.predict(X_test)"
   ]
  },
  {
   "cell_type": "code",
   "execution_count": 113,
   "metadata": {},
   "outputs": [],
   "source": [
    "# Format predictions to be compatible with Kaggle upload\n",
    "sample_submission = pd.DataFrame(data=predictions, columns=['Predicted'])\n",
    "sample_submission.insert(0, \"Id\", range(1, 1 + X_test.shape[0]))\n",
    "sample_submission['Id'] = sample_submission['Id'].astype(str)\n",
    "sample_submission.head()\n",
    "# Save predictions to .csv file for upload to Kaggle\n",
    "sample_submission.to_csv(\"rfr2000.csv\", index=False)"
   ]
  },
  {
   "cell_type": "code",
   "execution_count": 10,
   "metadata": {},
   "outputs": [],
   "source": [
    "# Save predictions to .csv file for upload to Kaggle\n",
    "sample_submission.to_csv(\"sample_submission.csv\", index=False)"
   ]
  },
  {
   "cell_type": "code",
   "execution_count": 27,
   "metadata": {},
   "outputs": [
    {
     "name": "stdout",
     "output_type": "stream",
     "text": [
      "Index([u'Feat 1', u'Feat 2', u'Feat 3', u'Feat 4', u'Feat 5', u'Feat 6',\n",
      "       u'Feat 7', u'Feat 8', u'Feat 9', u'Feat 10',\n",
      "       ...\n",
      "       u'Feat 242', u'Feat 243', u'Feat 244', u'Feat 245', u'Feat 246',\n",
      "       u'Feat 247', u'Feat 248', u'Feat 249', u'Feat 250', u'Feat 251'],\n",
      "      dtype='object', length=251)\n"
     ]
    }
   ],
   "source": [
    "print X_train.columns"
   ]
  },
  {
   "cell_type": "code",
   "execution_count": 42,
   "metadata": {},
   "outputs": [
    {
     "name": "stdout",
     "output_type": "stream",
     "text": [
      "[('Feat 251', 0.08), ('Feat 249', 0.06), ('Feat 247', 0.05), ('Feat 248', 0.04), ('Feat 250', 0.04), ('Feat 3', 0.03), ('Feat 4', 0.03), ('Feat 1', 0.02), ('Feat 13', 0.02), ('Feat 125', 0.02), ('Feat 151', 0.02), ('Feat 171', 0.02), ('Feat 172', 0.02), ('Feat 177', 0.02), ('Feat 246', 0.02), ('Feat 5', 0.01), ('Feat 6', 0.01), ('Feat 7', 0.01), ('Feat 9', 0.01), ('Feat 10', 0.01), ('Feat 12', 0.01), ('Feat 14', 0.01), ('Feat 84', 0.01), ('Feat 120', 0.01), ('Feat 124', 0.01), ('Feat 126', 0.01), ('Feat 127', 0.01), ('Feat 128', 0.01), ('Feat 130', 0.01), ('Feat 131', 0.01), ('Feat 137', 0.01), ('Feat 149', 0.01), ('Feat 150', 0.01), ('Feat 153', 0.01), ('Feat 154', 0.01), ('Feat 165', 0.01), ('Feat 175', 0.01), ('Feat 176', 0.01), ('Feat 182', 0.01), ('Feat 183', 0.01), ('Feat 197', 0.01), ('Feat 200', 0.01), ('Feat 214', 0.01), ('Feat 219', 0.01), ('Feat 232', 0.01), ('Feat 233', 0.01), ('Feat 2', 0.0), ('Feat 8', 0.0), ('Feat 11', 0.0), ('Feat 15', 0.0), ('Feat 16', 0.0), ('Feat 17', 0.0), ('Feat 18', 0.0), ('Feat 19', 0.0), ('Feat 20', 0.0), ('Feat 21', 0.0), ('Feat 22', 0.0), ('Feat 23', 0.0), ('Feat 24', 0.0), ('Feat 25', 0.0), ('Feat 26', 0.0), ('Feat 27', 0.0), ('Feat 28', 0.0), ('Feat 29', 0.0), ('Feat 30', 0.0), ('Feat 31', 0.0), ('Feat 32', 0.0), ('Feat 33', 0.0), ('Feat 34', 0.0), ('Feat 35', 0.0), ('Feat 36', 0.0), ('Feat 37', 0.0), ('Feat 38', 0.0), ('Feat 39', 0.0), ('Feat 40', 0.0), ('Feat 41', 0.0), ('Feat 42', 0.0), ('Feat 43', 0.0), ('Feat 44', 0.0), ('Feat 45', 0.0), ('Feat 46', 0.0), ('Feat 47', 0.0), ('Feat 48', 0.0), ('Feat 49', 0.0), ('Feat 50', 0.0), ('Feat 51', 0.0), ('Feat 52', 0.0), ('Feat 53', 0.0), ('Feat 54', 0.0), ('Feat 55', 0.0), ('Feat 56', 0.0), ('Feat 57', 0.0), ('Feat 58', 0.0), ('Feat 59', 0.0), ('Feat 60', 0.0), ('Feat 61', 0.0), ('Feat 62', 0.0), ('Feat 63', 0.0), ('Feat 64', 0.0), ('Feat 65', 0.0), ('Feat 66', 0.0), ('Feat 67', 0.0), ('Feat 68', 0.0), ('Feat 69', 0.0), ('Feat 70', 0.0), ('Feat 71', 0.0), ('Feat 72', 0.0), ('Feat 73', 0.0), ('Feat 74', 0.0), ('Feat 75', 0.0), ('Feat 76', 0.0), ('Feat 77', 0.0), ('Feat 78', 0.0), ('Feat 79', 0.0), ('Feat 80', 0.0), ('Feat 81', 0.0), ('Feat 82', 0.0), ('Feat 83', 0.0), ('Feat 85', 0.0), ('Feat 86', 0.0), ('Feat 87', 0.0), ('Feat 88', 0.0), ('Feat 89', 0.0), ('Feat 90', 0.0), ('Feat 91', 0.0), ('Feat 92', 0.0), ('Feat 93', 0.0), ('Feat 94', 0.0), ('Feat 95', 0.0), ('Feat 96', 0.0), ('Feat 97', 0.0), ('Feat 98', 0.0), ('Feat 99', 0.0), ('Feat 100', 0.0), ('Feat 101', 0.0), ('Feat 102', 0.0), ('Feat 103', 0.0), ('Feat 104', 0.0), ('Feat 105', 0.0), ('Feat 106', 0.0), ('Feat 107', 0.0), ('Feat 108', 0.0), ('Feat 109', 0.0), ('Feat 110', 0.0), ('Feat 111', 0.0), ('Feat 112', 0.0), ('Feat 113', 0.0), ('Feat 114', 0.0), ('Feat 115', 0.0), ('Feat 116', 0.0), ('Feat 117', 0.0), ('Feat 118', 0.0), ('Feat 119', 0.0), ('Feat 121', 0.0), ('Feat 122', 0.0), ('Feat 123', 0.0), ('Feat 129', 0.0), ('Feat 132', 0.0), ('Feat 133', 0.0), ('Feat 134', 0.0), ('Feat 135', 0.0), ('Feat 136', 0.0), ('Feat 138', 0.0), ('Feat 139', 0.0), ('Feat 140', 0.0), ('Feat 141', 0.0), ('Feat 142', 0.0), ('Feat 143', 0.0), ('Feat 144', 0.0), ('Feat 145', 0.0), ('Feat 146', 0.0), ('Feat 147', 0.0), ('Feat 148', 0.0), ('Feat 152', 0.0), ('Feat 155', 0.0), ('Feat 156', 0.0), ('Feat 157', 0.0), ('Feat 158', 0.0), ('Feat 159', 0.0), ('Feat 160', 0.0), ('Feat 161', 0.0), ('Feat 162', 0.0), ('Feat 163', 0.0), ('Feat 164', 0.0), ('Feat 166', 0.0), ('Feat 167', 0.0), ('Feat 168', 0.0), ('Feat 169', 0.0), ('Feat 170', 0.0), ('Feat 173', 0.0), ('Feat 174', 0.0), ('Feat 178', 0.0), ('Feat 179', 0.0), ('Feat 180', 0.0), ('Feat 181', 0.0), ('Feat 184', 0.0), ('Feat 185', 0.0), ('Feat 186', 0.0), ('Feat 187', 0.0), ('Feat 188', 0.0), ('Feat 189', 0.0), ('Feat 190', 0.0), ('Feat 191', 0.0), ('Feat 192', 0.0), ('Feat 193', 0.0), ('Feat 194', 0.0), ('Feat 195', 0.0), ('Feat 196', 0.0), ('Feat 198', 0.0), ('Feat 199', 0.0), ('Feat 201', 0.0), ('Feat 202', 0.0), ('Feat 203', 0.0), ('Feat 204', 0.0), ('Feat 205', 0.0), ('Feat 206', 0.0), ('Feat 207', 0.0), ('Feat 208', 0.0), ('Feat 209', 0.0), ('Feat 210', 0.0), ('Feat 211', 0.0), ('Feat 212', 0.0), ('Feat 213', 0.0), ('Feat 215', 0.0), ('Feat 216', 0.0), ('Feat 217', 0.0), ('Feat 218', 0.0), ('Feat 220', 0.0), ('Feat 221', 0.0), ('Feat 222', 0.0), ('Feat 223', 0.0), ('Feat 224', 0.0), ('Feat 225', 0.0), ('Feat 226', 0.0), ('Feat 227', 0.0), ('Feat 228', 0.0), ('Feat 229', 0.0), ('Feat 230', 0.0), ('Feat 231', 0.0), ('Feat 234', 0.0), ('Feat 235', 0.0), ('Feat 236', 0.0), ('Feat 237', 0.0), ('Feat 238', 0.0), ('Feat 239', 0.0), ('Feat 240', 0.0), ('Feat 241', 0.0), ('Feat 242', 0.0), ('Feat 243', 0.0), ('Feat 244', 0.0), ('Feat 245', 0.0)]\n"
     ]
    }
   ],
   "source": [
    "# Get numerical feature importances\n",
    "importances = list(rfR.feature_importances_)\n",
    "featimp = [(feature, round(importance, 2)) for feature, importance in zip(X_train.columns, importances)]\n",
    "featimp = sorted(featimp, key = lambda x: x[1], reverse = True)\n",
    "print featimp"
   ]
  },
  {
   "cell_type": "code",
   "execution_count": 44,
   "metadata": {},
   "outputs": [
    {
     "name": "stdout",
     "output_type": "stream",
     "text": [
      "0.8\n"
     ]
    }
   ],
   "source": [
    "# List of features sorted from most to least important\n",
    "sorted_importances = [importance[1] for importance in featimp]\n",
    "sorted_features = [importance[0] for importance in featimp]\n",
    "print sum(sorted_importances)\n",
    "# Cumulative importances\n",
    "cumulative_importances = np.cumsum(sorted_importances)"
   ]
  },
  {
   "cell_type": "code",
   "execution_count": 46,
   "metadata": {},
   "outputs": [
    {
     "name": "stdout",
     "output_type": "stream",
     "text": [
      "['Feat 251', 'Feat 249', 'Feat 247', 'Feat 248', 'Feat 250', 'Feat 3', 'Feat 4', 'Feat 1', 'Feat 13', 'Feat 125', 'Feat 151', 'Feat 171', 'Feat 172', 'Feat 177', 'Feat 246', 'Feat 5', 'Feat 6', 'Feat 7', 'Feat 9', 'Feat 10', 'Feat 12', 'Feat 14', 'Feat 84', 'Feat 120', 'Feat 124', 'Feat 126', 'Feat 127', 'Feat 128', 'Feat 130', 'Feat 131', 'Feat 137', 'Feat 149', 'Feat 150', 'Feat 153', 'Feat 154', 'Feat 165', 'Feat 175', 'Feat 176', 'Feat 182', 'Feat 183', 'Feat 197', 'Feat 200', 'Feat 214', 'Feat 219', 'Feat 232', 'Feat 233', 'Feat 2', 'Feat 8', 'Feat 11']\n"
     ]
    }
   ],
   "source": [
    "# Extract the names of the most important features\n",
    "important_feature_names = [feature[0] for feature in featimp[0:49]]\n",
    "print important_feature_names\n"
   ]
  },
  {
   "cell_type": "code",
   "execution_count": 51,
   "metadata": {},
   "outputs": [
    {
     "name": "stdout",
     "output_type": "stream",
     "text": [
      "(5331, 49)\n",
      "(5331,)\n"
     ]
    }
   ],
   "source": [
    "print X_train[important_feature_names].shape\n",
    "print y_train.shape"
   ]
  },
  {
   "cell_type": "code",
   "execution_count": 56,
   "metadata": {},
   "outputs": [
    {
     "ename": "ValueError",
     "evalue": "Number of features of the model must match the input. Model n_features is 49 and input n_features is 251 ",
     "output_type": "error",
     "traceback": [
      "\u001b[0;31m---------------------------------------------------------------------------\u001b[0m",
      "\u001b[0;31mValueError\u001b[0m                                Traceback (most recent call last)",
      "\u001b[0;32m<ipython-input-56-37a931532f98>\u001b[0m in \u001b[0;36m<module>\u001b[0;34m()\u001b[0m\n\u001b[1;32m      2\u001b[0m \u001b[0mrfR\u001b[0m\u001b[0;34m.\u001b[0m\u001b[0mfit\u001b[0m\u001b[0;34m(\u001b[0m\u001b[0mX_train\u001b[0m\u001b[0;34m[\u001b[0m\u001b[0mimportant_feature_names\u001b[0m\u001b[0;34m]\u001b[0m\u001b[0;34m,\u001b[0m \u001b[0my_train\u001b[0m\u001b[0;34m)\u001b[0m\u001b[0;34m\u001b[0m\u001b[0m\n\u001b[1;32m      3\u001b[0m \u001b[0;34m\u001b[0m\u001b[0m\n\u001b[0;32m----> 4\u001b[0;31m \u001b[0;32mprint\u001b[0m \u001b[0;34m(\u001b[0m\u001b[0;34m\"Training RMSE: \"\u001b[0m\u001b[0;34m,\u001b[0m \u001b[0mscoreRMSE\u001b[0m\u001b[0;34m(\u001b[0m\u001b[0mrfR\u001b[0m\u001b[0;34m,\u001b[0m \u001b[0mX_train\u001b[0m\u001b[0;34m,\u001b[0m \u001b[0my_train\u001b[0m\u001b[0;34m)\u001b[0m\u001b[0;34m)\u001b[0m\u001b[0;34m\u001b[0m\u001b[0m\n\u001b[0m",
      "\u001b[0;32m<ipython-input-5-80a23a65fc8f>\u001b[0m in \u001b[0;36mscoreRMSE\u001b[0;34m(predictor, X, true_y)\u001b[0m\n\u001b[1;32m      1\u001b[0m \u001b[0;31m# Define function to compute RMSE\u001b[0m\u001b[0;34m\u001b[0m\u001b[0;34m\u001b[0m\u001b[0m\n\u001b[1;32m      2\u001b[0m \u001b[0;32mdef\u001b[0m \u001b[0mscoreRMSE\u001b[0m\u001b[0;34m(\u001b[0m\u001b[0mpredictor\u001b[0m\u001b[0;34m,\u001b[0m \u001b[0mX\u001b[0m\u001b[0;34m,\u001b[0m \u001b[0mtrue_y\u001b[0m\u001b[0;34m)\u001b[0m\u001b[0;34m:\u001b[0m\u001b[0;34m\u001b[0m\u001b[0m\n\u001b[0;32m----> 3\u001b[0;31m     \u001b[0mpredictions\u001b[0m \u001b[0;34m=\u001b[0m \u001b[0mpredictor\u001b[0m\u001b[0;34m.\u001b[0m\u001b[0mpredict\u001b[0m\u001b[0;34m(\u001b[0m\u001b[0mX\u001b[0m\u001b[0;34m)\u001b[0m\u001b[0;34m\u001b[0m\u001b[0m\n\u001b[0m\u001b[1;32m      4\u001b[0m     \u001b[0;32mreturn\u001b[0m \u001b[0mnp\u001b[0m\u001b[0;34m.\u001b[0m\u001b[0msqrt\u001b[0m\u001b[0;34m(\u001b[0m\u001b[0mmean_squared_error\u001b[0m\u001b[0;34m(\u001b[0m\u001b[0mpredictions\u001b[0m\u001b[0;34m,\u001b[0m \u001b[0mtrue_y\u001b[0m\u001b[0;34m)\u001b[0m\u001b[0;34m)\u001b[0m\u001b[0;34m\u001b[0m\u001b[0m\n",
      "\u001b[0;32m/Library/Frameworks/Python.framework/Versions/2.7/lib/python2.7/site-packages/sklearn/ensemble/forest.pyc\u001b[0m in \u001b[0;36mpredict\u001b[0;34m(self, X)\u001b[0m\n\u001b[1;32m    686\u001b[0m         \u001b[0mcheck_is_fitted\u001b[0m\u001b[0;34m(\u001b[0m\u001b[0mself\u001b[0m\u001b[0;34m,\u001b[0m \u001b[0;34m'estimators_'\u001b[0m\u001b[0;34m)\u001b[0m\u001b[0;34m\u001b[0m\u001b[0m\n\u001b[1;32m    687\u001b[0m         \u001b[0;31m# Check data\u001b[0m\u001b[0;34m\u001b[0m\u001b[0;34m\u001b[0m\u001b[0m\n\u001b[0;32m--> 688\u001b[0;31m         \u001b[0mX\u001b[0m \u001b[0;34m=\u001b[0m \u001b[0mself\u001b[0m\u001b[0;34m.\u001b[0m\u001b[0m_validate_X_predict\u001b[0m\u001b[0;34m(\u001b[0m\u001b[0mX\u001b[0m\u001b[0;34m)\u001b[0m\u001b[0;34m\u001b[0m\u001b[0m\n\u001b[0m\u001b[1;32m    689\u001b[0m \u001b[0;34m\u001b[0m\u001b[0m\n\u001b[1;32m    690\u001b[0m         \u001b[0;31m# Assign chunk of trees to jobs\u001b[0m\u001b[0;34m\u001b[0m\u001b[0;34m\u001b[0m\u001b[0m\n",
      "\u001b[0;32m/Library/Frameworks/Python.framework/Versions/2.7/lib/python2.7/site-packages/sklearn/ensemble/forest.pyc\u001b[0m in \u001b[0;36m_validate_X_predict\u001b[0;34m(self, X)\u001b[0m\n\u001b[1;32m    360\u001b[0m                                  \"call `fit` before exploiting the model.\")\n\u001b[1;32m    361\u001b[0m \u001b[0;34m\u001b[0m\u001b[0m\n\u001b[0;32m--> 362\u001b[0;31m         \u001b[0;32mreturn\u001b[0m \u001b[0mself\u001b[0m\u001b[0;34m.\u001b[0m\u001b[0mestimators_\u001b[0m\u001b[0;34m[\u001b[0m\u001b[0;36m0\u001b[0m\u001b[0;34m]\u001b[0m\u001b[0;34m.\u001b[0m\u001b[0m_validate_X_predict\u001b[0m\u001b[0;34m(\u001b[0m\u001b[0mX\u001b[0m\u001b[0;34m,\u001b[0m \u001b[0mcheck_input\u001b[0m\u001b[0;34m=\u001b[0m\u001b[0mTrue\u001b[0m\u001b[0;34m)\u001b[0m\u001b[0;34m\u001b[0m\u001b[0m\n\u001b[0m\u001b[1;32m    363\u001b[0m \u001b[0;34m\u001b[0m\u001b[0m\n\u001b[1;32m    364\u001b[0m     \u001b[0;34m@\u001b[0m\u001b[0mproperty\u001b[0m\u001b[0;34m\u001b[0m\u001b[0m\n",
      "\u001b[0;32m/Library/Frameworks/Python.framework/Versions/2.7/lib/python2.7/site-packages/sklearn/tree/tree.pyc\u001b[0m in \u001b[0;36m_validate_X_predict\u001b[0;34m(self, X, check_input)\u001b[0m\n\u001b[1;32m    386\u001b[0m                              \u001b[0;34m\"match the input. Model n_features is %s and \"\u001b[0m\u001b[0;34m\u001b[0m\u001b[0m\n\u001b[1;32m    387\u001b[0m                              \u001b[0;34m\"input n_features is %s \"\u001b[0m\u001b[0;34m\u001b[0m\u001b[0m\n\u001b[0;32m--> 388\u001b[0;31m                              % (self.n_features_, n_features))\n\u001b[0m\u001b[1;32m    389\u001b[0m \u001b[0;34m\u001b[0m\u001b[0m\n\u001b[1;32m    390\u001b[0m         \u001b[0;32mreturn\u001b[0m \u001b[0mX\u001b[0m\u001b[0;34m\u001b[0m\u001b[0m\n",
      "\u001b[0;31mValueError\u001b[0m: Number of features of the model must match the input. Model n_features is 49 and input n_features is 251 "
     ]
    }
   ],
   "source": [
    "rfR = RFR(n_estimators=100)\n",
    "rfR.fit(X_train[important_feature_names], y_train)\n"
   ]
  },
  {
   "cell_type": "code",
   "execution_count": 57,
   "metadata": {},
   "outputs": [
    {
     "name": "stdout",
     "output_type": "stream",
     "text": [
      "('Training RMSE: ', 0.010185181751690031)\n"
     ]
    }
   ],
   "source": [
    "print (\"Training RMSE: \", scoreRMSE(rfR, X_train[important_feature_names], y_train))\n",
    "X_test = test.iloc[:, 1:][important_feature_names]\n"
   ]
  },
  {
   "cell_type": "code",
   "execution_count": 58,
   "metadata": {},
   "outputs": [],
   "source": [
    "predictions = rfR.predict(X_test)"
   ]
  },
  {
   "cell_type": "code",
   "execution_count": 59,
   "metadata": {},
   "outputs": [
    {
     "data": {
      "text/html": [
       "<div>\n",
       "<style scoped>\n",
       "    .dataframe tbody tr th:only-of-type {\n",
       "        vertical-align: middle;\n",
       "    }\n",
       "\n",
       "    .dataframe tbody tr th {\n",
       "        vertical-align: top;\n",
       "    }\n",
       "\n",
       "    .dataframe thead th {\n",
       "        text-align: right;\n",
       "    }\n",
       "</style>\n",
       "<table border=\"1\" class=\"dataframe\">\n",
       "  <thead>\n",
       "    <tr style=\"text-align: right;\">\n",
       "      <th></th>\n",
       "      <th>Id</th>\n",
       "      <th>Predicted</th>\n",
       "    </tr>\n",
       "  </thead>\n",
       "  <tbody>\n",
       "    <tr>\n",
       "      <th>0</th>\n",
       "      <td>1</td>\n",
       "      <td>0.933655</td>\n",
       "    </tr>\n",
       "    <tr>\n",
       "      <th>1</th>\n",
       "      <td>2</td>\n",
       "      <td>0.909929</td>\n",
       "    </tr>\n",
       "    <tr>\n",
       "      <th>2</th>\n",
       "      <td>3</td>\n",
       "      <td>0.915780</td>\n",
       "    </tr>\n",
       "    <tr>\n",
       "      <th>3</th>\n",
       "      <td>4</td>\n",
       "      <td>0.924992</td>\n",
       "    </tr>\n",
       "    <tr>\n",
       "      <th>4</th>\n",
       "      <td>5</td>\n",
       "      <td>0.935605</td>\n",
       "    </tr>\n",
       "  </tbody>\n",
       "</table>\n",
       "</div>"
      ],
      "text/plain": [
       "  Id  Predicted\n",
       "0  1   0.933655\n",
       "1  2   0.909929\n",
       "2  3   0.915780\n",
       "3  4   0.924992\n",
       "4  5   0.935605"
      ]
     },
     "execution_count": 59,
     "metadata": {},
     "output_type": "execute_result"
    }
   ],
   "source": [
    "sample_submission = pd.DataFrame(data=predictions, columns=['Predicted'])\n",
    "sample_submission.insert(0, \"Id\", range(1, 1 + X_test.shape[0]))\n",
    "sample_submission['Id'] = sample_submission['Id'].astype(str)\n",
    "sample_submission.head()"
   ]
  },
  {
   "cell_type": "code",
   "execution_count": 60,
   "metadata": {},
   "outputs": [],
   "source": [
    "# Save predictions to .csv file for upload to Kaggle\n",
    "sample_submission.to_csv(\"rfr_imp.csv\", index=False)"
   ]
  },
  {
   "cell_type": "code",
   "execution_count": null,
   "metadata": {},
   "outputs": [],
   "source": []
  }
 ],
 "metadata": {
  "anaconda-cloud": {},
  "kernelspec": {
   "display_name": "Python 3",
   "language": "python",
   "name": "python3"
  },
  "language_info": {
   "codemirror_mode": {
    "name": "ipython",
    "version": 3
   },
   "file_extension": ".py",
   "mimetype": "text/x-python",
   "name": "python",
   "nbconvert_exporter": "python",
   "pygments_lexer": "ipython3",
   "version": "3.6.6"
  }
 },
 "nbformat": 4,
 "nbformat_minor": 2
}
