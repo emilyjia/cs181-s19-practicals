{
 "cells": [
  {
   "cell_type": "code",
   "execution_count": 9,
   "metadata": {},
   "outputs": [],
   "source": [
    "# Import libraries\n",
    "import numpy as np\n",
    "import pandas as pd\n",
    "from sklearn.linear_model import LinearRegression as Lin_Reg\n",
    "from sklearn.ensemble import RandomForestRegressor as RFR, AdaBoostRegressor as ABR, ExtraTreesRegressor as ETR, BaggingRegressor as BR\n",
    "from sklearn.metrics import mean_squared_error\n",
    "import matplotlib\n",
    "import matplotlib.pyplot as plt\n",
    "import matplotlib.cm as cmx\n",
    "import matplotlib.colors as colors\n",
    "import scipy as sp\n",
    "%matplotlib inline\n",
    "from sklearn.model_selection import KFold\n",
    "def kfold(k, predictor, X):\n",
    "    kf = KFold(n_splits = k, random_state = 0)\n",
    "    count = 0\n",
    "    for trains, tests in kf.split(X):\n",
    "        x_train = X.iloc[trains, 1:-1]\n",
    "        y_train = X.iloc[trains, -1]\n",
    "        x_test = X.iloc[tests, 1:-1]\n",
    "        y_test = X.iloc[tests, -1]\n",
    "        predictor.fit(x_train, y_train)\n",
    "        predictions = predictor.predict(x_test)\n",
    "        count += np.sqrt(mean_squared_error(predictions, y_test))\n",
    "    return count/k\n",
    "\n",
    "from collections import Counter"
   ]
  },
  {
   "cell_type": "code",
   "execution_count": 2,
   "metadata": {},
   "outputs": [],
   "source": [
    "# Load training and test sets (assumes you have these in current working directory)\n",
    "train = pd.read_csv(\"train.csv\")\n",
    "test = pd.read_csv(\"test.csv\")"
   ]
  },
  {
   "cell_type": "code",
   "execution_count": 3,
   "metadata": {},
   "outputs": [
    {
     "data": {
      "text/html": [
       "<div>\n",
       "<style scoped>\n",
       "    .dataframe tbody tr th:only-of-type {\n",
       "        vertical-align: middle;\n",
       "    }\n",
       "\n",
       "    .dataframe tbody tr th {\n",
       "        vertical-align: top;\n",
       "    }\n",
       "\n",
       "    .dataframe thead th {\n",
       "        text-align: right;\n",
       "    }\n",
       "</style>\n",
       "<table border=\"1\" class=\"dataframe\">\n",
       "  <thead>\n",
       "    <tr style=\"text-align: right;\">\n",
       "      <th></th>\n",
       "      <th>Id</th>\n",
       "      <th>Feat 1</th>\n",
       "      <th>Feat 2</th>\n",
       "      <th>Feat 3</th>\n",
       "      <th>Feat 4</th>\n",
       "      <th>Feat 5</th>\n",
       "      <th>Feat 6</th>\n",
       "      <th>Feat 7</th>\n",
       "      <th>Feat 8</th>\n",
       "      <th>Feat 9</th>\n",
       "      <th>...</th>\n",
       "      <th>Feat 243</th>\n",
       "      <th>Feat 244</th>\n",
       "      <th>Feat 245</th>\n",
       "      <th>Feat 246</th>\n",
       "      <th>Feat 247</th>\n",
       "      <th>Feat 248</th>\n",
       "      <th>Feat 249</th>\n",
       "      <th>Feat 250</th>\n",
       "      <th>Feat 251</th>\n",
       "      <th>Target</th>\n",
       "    </tr>\n",
       "  </thead>\n",
       "  <tbody>\n",
       "    <tr>\n",
       "      <th>0</th>\n",
       "      <td>1</td>\n",
       "      <td>0.998952</td>\n",
       "      <td>0.174118</td>\n",
       "      <td>0.999211</td>\n",
       "      <td>0.996460</td>\n",
       "      <td>0.133333</td>\n",
       "      <td>0.057143</td>\n",
       "      <td>0.000</td>\n",
       "      <td>0.0</td>\n",
       "      <td>0.0</td>\n",
       "      <td>...</td>\n",
       "      <td>0.0</td>\n",
       "      <td>0.0</td>\n",
       "      <td>0</td>\n",
       "      <td>0.612863</td>\n",
       "      <td>0.026812</td>\n",
       "      <td>0.522</td>\n",
       "      <td>0.217791</td>\n",
       "      <td>0.233629</td>\n",
       "      <td>0.540962</td>\n",
       "      <td>0.901355</td>\n",
       "    </tr>\n",
       "    <tr>\n",
       "      <th>1</th>\n",
       "      <td>2</td>\n",
       "      <td>0.999445</td>\n",
       "      <td>0.174118</td>\n",
       "      <td>0.999329</td>\n",
       "      <td>0.997079</td>\n",
       "      <td>0.133333</td>\n",
       "      <td>0.000000</td>\n",
       "      <td>0.000</td>\n",
       "      <td>0.0</td>\n",
       "      <td>0.0</td>\n",
       "      <td>...</td>\n",
       "      <td>0.0</td>\n",
       "      <td>0.0</td>\n",
       "      <td>0</td>\n",
       "      <td>0.688941</td>\n",
       "      <td>0.075030</td>\n",
       "      <td>0.704</td>\n",
       "      <td>0.246119</td>\n",
       "      <td>0.143860</td>\n",
       "      <td>0.525384</td>\n",
       "      <td>0.913550</td>\n",
       "    </tr>\n",
       "    <tr>\n",
       "      <th>2</th>\n",
       "      <td>3</td>\n",
       "      <td>0.998759</td>\n",
       "      <td>0.000000</td>\n",
       "      <td>0.997260</td>\n",
       "      <td>0.996325</td>\n",
       "      <td>0.000000</td>\n",
       "      <td>0.085714</td>\n",
       "      <td>0.125</td>\n",
       "      <td>0.0</td>\n",
       "      <td>0.0</td>\n",
       "      <td>...</td>\n",
       "      <td>0.0</td>\n",
       "      <td>0.0</td>\n",
       "      <td>0</td>\n",
       "      <td>0.156863</td>\n",
       "      <td>0.436279</td>\n",
       "      <td>0.000</td>\n",
       "      <td>0.119091</td>\n",
       "      <td>0.162869</td>\n",
       "      <td>0.361124</td>\n",
       "      <td>0.884824</td>\n",
       "    </tr>\n",
       "    <tr>\n",
       "      <th>3</th>\n",
       "      <td>4</td>\n",
       "      <td>0.999619</td>\n",
       "      <td>0.174118</td>\n",
       "      <td>0.997969</td>\n",
       "      <td>0.997321</td>\n",
       "      <td>0.266667</td>\n",
       "      <td>0.057143</td>\n",
       "      <td>0.125</td>\n",
       "      <td>0.0</td>\n",
       "      <td>0.0</td>\n",
       "      <td>...</td>\n",
       "      <td>0.0</td>\n",
       "      <td>0.0</td>\n",
       "      <td>0</td>\n",
       "      <td>0.709647</td>\n",
       "      <td>0.075472</td>\n",
       "      <td>0.513</td>\n",
       "      <td>0.392743</td>\n",
       "      <td>0.377302</td>\n",
       "      <td>0.613776</td>\n",
       "      <td>0.977236</td>\n",
       "    </tr>\n",
       "    <tr>\n",
       "      <th>4</th>\n",
       "      <td>5</td>\n",
       "      <td>0.998278</td>\n",
       "      <td>0.174118</td>\n",
       "      <td>0.998427</td>\n",
       "      <td>0.996269</td>\n",
       "      <td>0.200000</td>\n",
       "      <td>0.000000</td>\n",
       "      <td>0.000</td>\n",
       "      <td>0.0</td>\n",
       "      <td>0.0</td>\n",
       "      <td>...</td>\n",
       "      <td>0.0</td>\n",
       "      <td>0.0</td>\n",
       "      <td>0</td>\n",
       "      <td>0.364235</td>\n",
       "      <td>0.041818</td>\n",
       "      <td>0.200</td>\n",
       "      <td>0.096297</td>\n",
       "      <td>0.166459</td>\n",
       "      <td>0.408322</td>\n",
       "      <td>0.921138</td>\n",
       "    </tr>\n",
       "  </tbody>\n",
       "</table>\n",
       "<p>5 rows × 253 columns</p>\n",
       "</div>"
      ],
      "text/plain": [
       "   Id    Feat 1    Feat 2    Feat 3    Feat 4    Feat 5    Feat 6  Feat 7  \\\n",
       "0   1  0.998952  0.174118  0.999211  0.996460  0.133333  0.057143   0.000   \n",
       "1   2  0.999445  0.174118  0.999329  0.997079  0.133333  0.000000   0.000   \n",
       "2   3  0.998759  0.000000  0.997260  0.996325  0.000000  0.085714   0.125   \n",
       "3   4  0.999619  0.174118  0.997969  0.997321  0.266667  0.057143   0.125   \n",
       "4   5  0.998278  0.174118  0.998427  0.996269  0.200000  0.000000   0.000   \n",
       "\n",
       "   Feat 8  Feat 9    ...     Feat 243  Feat 244  Feat 245  Feat 246  Feat 247  \\\n",
       "0     0.0     0.0    ...          0.0       0.0         0  0.612863  0.026812   \n",
       "1     0.0     0.0    ...          0.0       0.0         0  0.688941  0.075030   \n",
       "2     0.0     0.0    ...          0.0       0.0         0  0.156863  0.436279   \n",
       "3     0.0     0.0    ...          0.0       0.0         0  0.709647  0.075472   \n",
       "4     0.0     0.0    ...          0.0       0.0         0  0.364235  0.041818   \n",
       "\n",
       "   Feat 248  Feat 249  Feat 250  Feat 251    Target  \n",
       "0     0.522  0.217791  0.233629  0.540962  0.901355  \n",
       "1     0.704  0.246119  0.143860  0.525384  0.913550  \n",
       "2     0.000  0.119091  0.162869  0.361124  0.884824  \n",
       "3     0.513  0.392743  0.377302  0.613776  0.977236  \n",
       "4     0.200  0.096297  0.166459  0.408322  0.921138  \n",
       "\n",
       "[5 rows x 253 columns]"
      ]
     },
     "execution_count": 3,
     "metadata": {},
     "output_type": "execute_result"
    }
   ],
   "source": [
    "# Inspect training set\n",
    "train.head()"
   ]
  },
  {
   "cell_type": "code",
   "execution_count": 4,
   "metadata": {},
   "outputs": [
    {
     "data": {
      "text/html": [
       "<div>\n",
       "<style scoped>\n",
       "    .dataframe tbody tr th:only-of-type {\n",
       "        vertical-align: middle;\n",
       "    }\n",
       "\n",
       "    .dataframe tbody tr th {\n",
       "        vertical-align: top;\n",
       "    }\n",
       "\n",
       "    .dataframe thead th {\n",
       "        text-align: right;\n",
       "    }\n",
       "</style>\n",
       "<table border=\"1\" class=\"dataframe\">\n",
       "  <thead>\n",
       "    <tr style=\"text-align: right;\">\n",
       "      <th></th>\n",
       "      <th>Id</th>\n",
       "      <th>Feat 1</th>\n",
       "      <th>Feat 2</th>\n",
       "      <th>Feat 3</th>\n",
       "      <th>Feat 4</th>\n",
       "      <th>Feat 5</th>\n",
       "      <th>Feat 6</th>\n",
       "      <th>Feat 7</th>\n",
       "      <th>Feat 8</th>\n",
       "      <th>Feat 9</th>\n",
       "      <th>...</th>\n",
       "      <th>Feat 242</th>\n",
       "      <th>Feat 243</th>\n",
       "      <th>Feat 244</th>\n",
       "      <th>Feat 245</th>\n",
       "      <th>Feat 246</th>\n",
       "      <th>Feat 247</th>\n",
       "      <th>Feat 248</th>\n",
       "      <th>Feat 249</th>\n",
       "      <th>Feat 250</th>\n",
       "      <th>Feat 251</th>\n",
       "    </tr>\n",
       "  </thead>\n",
       "  <tbody>\n",
       "    <tr>\n",
       "      <th>0</th>\n",
       "      <td>1</td>\n",
       "      <td>0.999849</td>\n",
       "      <td>0.174118</td>\n",
       "      <td>0.999819</td>\n",
       "      <td>0.997841</td>\n",
       "      <td>0.133333</td>\n",
       "      <td>0.2</td>\n",
       "      <td>0.0</td>\n",
       "      <td>0.0</td>\n",
       "      <td>0.000000</td>\n",
       "      <td>...</td>\n",
       "      <td>0.0</td>\n",
       "      <td>0.0</td>\n",
       "      <td>0.0</td>\n",
       "      <td>0</td>\n",
       "      <td>0.728471</td>\n",
       "      <td>0.054397</td>\n",
       "      <td>0.649</td>\n",
       "      <td>0.416164</td>\n",
       "      <td>0.053998</td>\n",
       "      <td>0.667391</td>\n",
       "    </tr>\n",
       "    <tr>\n",
       "      <th>1</th>\n",
       "      <td>2</td>\n",
       "      <td>0.999958</td>\n",
       "      <td>0.164706</td>\n",
       "      <td>1.000000</td>\n",
       "      <td>0.996741</td>\n",
       "      <td>0.066667</td>\n",
       "      <td>0.0</td>\n",
       "      <td>0.0</td>\n",
       "      <td>0.0</td>\n",
       "      <td>0.000000</td>\n",
       "      <td>...</td>\n",
       "      <td>0.0</td>\n",
       "      <td>0.0</td>\n",
       "      <td>0.0</td>\n",
       "      <td>0</td>\n",
       "      <td>0.497255</td>\n",
       "      <td>0.037736</td>\n",
       "      <td>0.375</td>\n",
       "      <td>0.165514</td>\n",
       "      <td>0.101973</td>\n",
       "      <td>0.506650</td>\n",
       "    </tr>\n",
       "    <tr>\n",
       "      <th>2</th>\n",
       "      <td>3</td>\n",
       "      <td>0.999666</td>\n",
       "      <td>0.174118</td>\n",
       "      <td>0.999479</td>\n",
       "      <td>0.997376</td>\n",
       "      <td>0.000000</td>\n",
       "      <td>0.0</td>\n",
       "      <td>0.0</td>\n",
       "      <td>0.0</td>\n",
       "      <td>0.000000</td>\n",
       "      <td>...</td>\n",
       "      <td>0.0</td>\n",
       "      <td>0.0</td>\n",
       "      <td>0.0</td>\n",
       "      <td>0</td>\n",
       "      <td>0.688941</td>\n",
       "      <td>0.019309</td>\n",
       "      <td>1.000</td>\n",
       "      <td>0.192069</td>\n",
       "      <td>0.120700</td>\n",
       "      <td>0.498784</td>\n",
       "    </tr>\n",
       "    <tr>\n",
       "      <th>3</th>\n",
       "      <td>4</td>\n",
       "      <td>0.999735</td>\n",
       "      <td>0.174118</td>\n",
       "      <td>0.999655</td>\n",
       "      <td>0.997173</td>\n",
       "      <td>0.133333</td>\n",
       "      <td>0.0</td>\n",
       "      <td>0.0</td>\n",
       "      <td>0.0</td>\n",
       "      <td>0.363636</td>\n",
       "      <td>...</td>\n",
       "      <td>0.0</td>\n",
       "      <td>0.0</td>\n",
       "      <td>0.0</td>\n",
       "      <td>0</td>\n",
       "      <td>0.654118</td>\n",
       "      <td>0.019089</td>\n",
       "      <td>0.333</td>\n",
       "      <td>0.451252</td>\n",
       "      <td>0.164180</td>\n",
       "      <td>0.774466</td>\n",
       "    </tr>\n",
       "    <tr>\n",
       "      <th>4</th>\n",
       "      <td>5</td>\n",
       "      <td>0.999806</td>\n",
       "      <td>0.164706</td>\n",
       "      <td>0.999551</td>\n",
       "      <td>0.997234</td>\n",
       "      <td>0.000000</td>\n",
       "      <td>0.0</td>\n",
       "      <td>0.0</td>\n",
       "      <td>0.0</td>\n",
       "      <td>0.000000</td>\n",
       "      <td>...</td>\n",
       "      <td>0.0</td>\n",
       "      <td>0.0</td>\n",
       "      <td>0.0</td>\n",
       "      <td>0</td>\n",
       "      <td>0.627451</td>\n",
       "      <td>0.160433</td>\n",
       "      <td>0.882</td>\n",
       "      <td>0.147407</td>\n",
       "      <td>0.000000</td>\n",
       "      <td>0.481240</td>\n",
       "    </tr>\n",
       "  </tbody>\n",
       "</table>\n",
       "<p>5 rows × 252 columns</p>\n",
       "</div>"
      ],
      "text/plain": [
       "   Id    Feat 1    Feat 2    Feat 3    Feat 4    Feat 5  Feat 6  Feat 7  \\\n",
       "0   1  0.999849  0.174118  0.999819  0.997841  0.133333     0.2     0.0   \n",
       "1   2  0.999958  0.164706  1.000000  0.996741  0.066667     0.0     0.0   \n",
       "2   3  0.999666  0.174118  0.999479  0.997376  0.000000     0.0     0.0   \n",
       "3   4  0.999735  0.174118  0.999655  0.997173  0.133333     0.0     0.0   \n",
       "4   5  0.999806  0.164706  0.999551  0.997234  0.000000     0.0     0.0   \n",
       "\n",
       "   Feat 8    Feat 9    ...     Feat 242  Feat 243  Feat 244  Feat 245  \\\n",
       "0     0.0  0.000000    ...          0.0       0.0       0.0         0   \n",
       "1     0.0  0.000000    ...          0.0       0.0       0.0         0   \n",
       "2     0.0  0.000000    ...          0.0       0.0       0.0         0   \n",
       "3     0.0  0.363636    ...          0.0       0.0       0.0         0   \n",
       "4     0.0  0.000000    ...          0.0       0.0       0.0         0   \n",
       "\n",
       "   Feat 246  Feat 247  Feat 248  Feat 249  Feat 250  Feat 251  \n",
       "0  0.728471  0.054397     0.649  0.416164  0.053998  0.667391  \n",
       "1  0.497255  0.037736     0.375  0.165514  0.101973  0.506650  \n",
       "2  0.688941  0.019309     1.000  0.192069  0.120700  0.498784  \n",
       "3  0.654118  0.019089     0.333  0.451252  0.164180  0.774466  \n",
       "4  0.627451  0.160433     0.882  0.147407  0.000000  0.481240  \n",
       "\n",
       "[5 rows x 252 columns]"
      ]
     },
     "execution_count": 4,
     "metadata": {},
     "output_type": "execute_result"
    }
   ],
   "source": [
    "# Inspect test set\n",
    "test.head()"
   ]
  },
  {
   "cell_type": "code",
   "execution_count": 5,
   "metadata": {},
   "outputs": [],
   "source": [
    "# Split training set into X and y (removing first column containing IDs)\n",
    "X_train = train.iloc[:, 1:-1]\n",
    "y_train = train.iloc[:, -1]"
   ]
  },
  {
   "cell_type": "code",
   "execution_count": 6,
   "metadata": {},
   "outputs": [],
   "source": [
    "# Define function to compute RMSE\n",
    "def scoreRMSE(predictor, X, true_y):\n",
    "    predictions = predictor.predict(X)\n",
    "    return np.sqrt(mean_squared_error(predictions, true_y))"
   ]
  },
  {
   "cell_type": "code",
   "execution_count": 10,
   "metadata": {},
   "outputs": [
    {
     "name": "stdout",
     "output_type": "stream",
     "text": [
      "RFR n = 50 : 0.027152880683807758\n",
      "ABR n = 50 : 0.029322638314763914\n",
      "BR n = 50 : 0.027034923144826695\n",
      "ETR n = 50 : 0.02718804400477707\n",
      "RFR n = 75 : 0.026947865558143304\n",
      "ABR n = 75 : 0.02944534852472768\n",
      "BR n = 75 : 0.027098553115467532\n",
      "ETR n = 75 : 0.027135860388625505\n",
      "RFR n = 100 : 0.026913787983221815\n",
      "ABR n = 100 : 0.029054524755758704\n",
      "BR n = 100 : 0.026940555757043738\n",
      "ETR n = 100 : 0.027120922569592427\n",
      "RFR n = 125 : 0.026905848566217323\n",
      "ABR n = 125 : 0.02933265211059597\n",
      "BR n = 125 : 0.02689425214395493\n",
      "ETR n = 125 : 0.027102500282994647\n",
      "RFR n = 150 : 0.02686969225376329\n",
      "ABR n = 150 : 0.028953887313950648\n",
      "BR n = 150 : 0.02687091485696306\n",
      "ETR n = 150 : 0.027009915629994073\n",
      "RFR n = 175 : 0.026902252522980803\n",
      "ABR n = 175 : 0.029551181493814267\n",
      "BR n = 175 : 0.026846609024094546\n",
      "ETR n = 175 : 0.02702222898198551\n",
      "RFR n = 200 : 0.026848159874397166\n",
      "ABR n = 200 : 0.029416299994313038\n",
      "BR n = 200 : 0.026886047812234914\n",
      "ETR n = 200 : 0.026992788363546842\n",
      "RFR n = 225 : 0.0268363225102952\n",
      "ABR n = 225 : 0.029197374205947674\n",
      "BR n = 225 : 0.026833860261556774\n",
      "ETR n = 225 : 0.027009261802550234\n",
      "RFR n = 250 : 0.02688851080045328\n",
      "ABR n = 250 : 0.029042927389533856\n",
      "BR n = 250 : 0.026849199324191435\n",
      "ETR n = 250 : 0.027014599637350218\n",
      "RFR n = 275 : 0.026803317372697318\n",
      "ABR n = 275 : 0.02915441266198197\n",
      "BR n = 275 : 0.02685606828069407\n",
      "ETR n = 275 : 0.02699061416230718\n",
      "RFR n = 300 : 0.02682025960054311\n",
      "ABR n = 300 : 0.029116905658976334\n",
      "BR n = 300 : 0.026833802610899814\n",
      "ETR n = 300 : 0.026992413617462234\n",
      "RFR n = 325 : 0.02681830739634833\n",
      "ABR n = 325 : 0.029126333860639612\n",
      "BR n = 325 : 0.026847389841495883\n",
      "ETR n = 325 : 0.02695457914449446\n"
     ]
    }
   ],
   "source": [
    "for n_est in range(50, 350, 25):\n",
    "    print(\"RFR n =\", n_est, \":\", kfold(10, RFR(n_estimators=n_est), train))\n",
    "    print(\"ABR n =\", n_est, \":\", kfold(10, ABR(n_estimators=n_est), train))\n",
    "    print(\"BR n =\", n_est, \":\", kfold(10, BR(n_estimators=n_est), train))\n",
    "    print(\"ETR n =\", n_est, \":\", kfold(10, ETR(n_estimators=n_est), train))"
   ]
  },
  {
   "cell_type": "code",
   "execution_count": 12,
   "metadata": {},
   "outputs": [
    {
     "name": "stdout",
     "output_type": "stream",
     "text": [
      "RFR n = 50 : 0.010459998106587457\n",
      "ABR n = 50 : 0.028151063821895743\n",
      "BR n = 50 : 0.01034430202642949\n",
      "ETR n = 50 : 0.0021228399088563978\n",
      "RFR n = 75 : 0.01032399737093872\n",
      "ABR n = 75 : 0.029926560081168434\n",
      "BR n = 75 : 0.010313168581899531\n",
      "ETR n = 75 : 0.002122831449061378\n",
      "RFR n = 100 : 0.010229984597762165\n",
      "ABR n = 100 : 0.028404736816260247\n",
      "BR n = 100 : 0.010205892617720832\n",
      "ETR n = 100 : 0.002122830802281152\n",
      "RFR n = 125 : 0.0102090449043317\n",
      "ABR n = 125 : 0.029077167839701157\n",
      "BR n = 125 : 0.010267924406875814\n",
      "ETR n = 125 : 0.0021228265017234987\n",
      "RFR n = 150 : 0.010116688958378568\n",
      "ABR n = 150 : 0.02890635250886352\n",
      "BR n = 150 : 0.010167699278428623\n",
      "ETR n = 150 : 0.002122825485695412\n",
      "RFR n = 175 : 0.010127141080715897\n",
      "ABR n = 175 : 0.028213203332107056\n",
      "BR n = 175 : 0.010124540857739922\n",
      "ETR n = 175 : 0.002122825932854721\n",
      "RFR n = 200 : 0.01014598470168394\n",
      "ABR n = 200 : 0.02865194032684834\n",
      "BR n = 200 : 0.010157547813377125\n",
      "ETR n = 200 : 0.0021228240376605246\n",
      "RFR n = 225 : 0.0100724017670848\n",
      "ABR n = 225 : 0.028565416370154997\n",
      "BR n = 225 : 0.010100962611801448\n",
      "ETR n = 225 : 0.0021228251653658803\n",
      "RFR n = 250 : 0.010064293665362215\n",
      "ABR n = 250 : 0.02822242694979026\n",
      "BR n = 250 : 0.010058770319688715\n",
      "ETR n = 250 : 0.002122822662280688\n",
      "RFR n = 275 : 0.010043559695031243\n",
      "ABR n = 275 : 0.029046368285488337\n",
      "BR n = 275 : 0.010031787733345046\n",
      "ETR n = 275 : 0.0021228227379995186\n",
      "RFR n = 300 : 0.010109280948045904\n",
      "ABR n = 300 : 0.028597298258960766\n",
      "BR n = 300 : 0.010069282686974905\n",
      "ETR n = 300 : 0.0021228232301809934\n",
      "RFR n = 325 : 0.010060983775837693\n",
      "ABR n = 325 : 0.027963581130807887\n",
      "BR n = 325 : 0.010059593348616194\n",
      "ETR n = 325 : 0.0021228237079335337\n"
     ]
    }
   ],
   "source": [
    "for n_est in range(50, 350, 25):\n",
    "    rfr = RFR(n_estimators=n_est)\n",
    "    rfr.fit(X_train, y_train)\n",
    "    print(\"RFR n =\", n_est, \":\", scoreRMSE(rfr, X_train, y_train))\n",
    "    \n",
    "    abr = ABR(n_estimators=n_est)\n",
    "    abr.fit(X_train, y_train)\n",
    "    print(\"ABR n =\", n_est, \":\", scoreRMSE(abr, X_train, y_train))\n",
    "    \n",
    "    br = BR(n_estimators=n_est)\n",
    "    br.fit(X_train, y_train)\n",
    "    print(\"BR n =\", n_est, \":\", scoreRMSE(br, X_train, y_train))\n",
    "    \n",
    "    etr = ETR(n_estimators=n_est)\n",
    "    etr.fit(X_train, y_train)\n",
    "    print(\"ETR n =\", n_est, \":\", scoreRMSE(etr, X_train, y_train))"
   ]
  },
  {
   "cell_type": "code",
   "execution_count": 13,
   "metadata": {},
   "outputs": [
    {
     "name": "stdout",
     "output_type": "stream",
     "text": [
      "Training RMSE:  0.032418983721719974\n"
     ]
    }
   ],
   "source": [
    "from sklearn.neural_network import MLPRegressor as MLP\n",
    "\n",
    "mlp = MLP()\n",
    "mlp.fit(X_train, y_train)\n",
    "\n",
    "print(\"Training RMSE: \", scoreRMSE(mlp, X_train, y_train))"
   ]
  },
  {
   "cell_type": "code",
   "execution_count": 98,
   "metadata": {},
   "outputs": [
    {
     "data": {
      "text/plain": [
       "0.02796802133524843"
      ]
     },
     "execution_count": 98,
     "metadata": {},
     "output_type": "execute_result"
    }
   ],
   "source": [
    "kfold(10, MLP(hidden_layer_sizes=(1000,500,100,100,100),activation='logistic', alpha=0.00005, solver='sgd', learning_rate_init=0.0005), train)"
   ]
  },
  {
   "cell_type": "code",
   "execution_count": 104,
   "metadata": {},
   "outputs": [
    {
     "data": {
      "text/plain": [
       "0.029742836179759823"
      ]
     },
     "execution_count": 104,
     "metadata": {},
     "output_type": "execute_result"
    }
   ],
   "source": [
    "from sklearn.kernel_ridge import KernelRidge as KR\n",
    "\n",
    "kfold(10, KR(alpha=1), train)"
   ]
  },
  {
   "cell_type": "code",
   "execution_count": 107,
   "metadata": {},
   "outputs": [
    {
     "data": {
      "text/plain": [
       "0.028141823013705915"
      ]
     },
     "execution_count": 107,
     "metadata": {},
     "output_type": "execute_result"
    }
   ],
   "source": [
    "from sklearn.svm import SVR\n",
    "\n",
    "kfold(10, SVR(), train)"
   ]
  },
  {
   "cell_type": "code",
   "execution_count": 122,
   "metadata": {},
   "outputs": [
    {
     "data": {
      "text/plain": [
       "0.037553002433404196"
      ]
     },
     "execution_count": 122,
     "metadata": {},
     "output_type": "execute_result"
    }
   ],
   "source": [
    "from sklearn.tree import DecisionTreeRegressor as DTR\n",
    "\n",
    "kfold(10, DTR(), train)"
   ]
  },
  {
   "cell_type": "code",
   "execution_count": 124,
   "metadata": {},
   "outputs": [
    {
     "data": {
      "text/plain": [
       "0.027492723581277672"
      ]
     },
     "execution_count": 124,
     "metadata": {},
     "output_type": "execute_result"
    }
   ],
   "source": [
    "from sklearn.neighbors import KNeighborsRegressor as KNR\n",
    "\n",
    "kfold(10, KNR(n_neighbors=10, weights='distance'), train)"
   ]
  },
  {
   "cell_type": "code",
   "execution_count": 136,
   "metadata": {},
   "outputs": [
    {
     "data": {
      "text/plain": [
       "0.027032063335554347"
      ]
     },
     "execution_count": 136,
     "metadata": {},
     "output_type": "execute_result"
    }
   ],
   "source": [
    "kfold(10, KNR(n_neighbors=30, weights='uniform', algorithm='kd_tree'), train)"
   ]
  },
  {
   "cell_type": "code",
   "execution_count": 140,
   "metadata": {},
   "outputs": [
    {
     "data": {
      "text/plain": [
       "0.02679644096620772"
      ]
     },
     "execution_count": 140,
     "metadata": {},
     "output_type": "execute_result"
    }
   ],
   "source": [
    "kfold(10, RFR(n_estimators=1000), train)"
   ]
  },
  {
   "cell_type": "code",
   "execution_count": 225,
   "metadata": {},
   "outputs": [
    {
     "data": {
      "text/html": [
       "<div>\n",
       "<style scoped>\n",
       "    .dataframe tbody tr th:only-of-type {\n",
       "        vertical-align: middle;\n",
       "    }\n",
       "\n",
       "    .dataframe tbody tr th {\n",
       "        vertical-align: top;\n",
       "    }\n",
       "\n",
       "    .dataframe thead th {\n",
       "        text-align: right;\n",
       "    }\n",
       "</style>\n",
       "<table border=\"1\" class=\"dataframe\">\n",
       "  <thead>\n",
       "    <tr style=\"text-align: right;\">\n",
       "      <th></th>\n",
       "      <th>Id</th>\n",
       "      <th>Predicted</th>\n",
       "    </tr>\n",
       "  </thead>\n",
       "  <tbody>\n",
       "    <tr>\n",
       "      <th>0</th>\n",
       "      <td>1</td>\n",
       "      <td>0.939037</td>\n",
       "    </tr>\n",
       "    <tr>\n",
       "      <th>1</th>\n",
       "      <td>2</td>\n",
       "      <td>0.910711</td>\n",
       "    </tr>\n",
       "    <tr>\n",
       "      <th>2</th>\n",
       "      <td>3</td>\n",
       "      <td>0.916856</td>\n",
       "    </tr>\n",
       "    <tr>\n",
       "      <th>3</th>\n",
       "      <td>4</td>\n",
       "      <td>0.930083</td>\n",
       "    </tr>\n",
       "    <tr>\n",
       "      <th>4</th>\n",
       "      <td>5</td>\n",
       "      <td>0.931816</td>\n",
       "    </tr>\n",
       "  </tbody>\n",
       "</table>\n",
       "</div>"
      ],
      "text/plain": [
       "  Id  Predicted\n",
       "0  1   0.939037\n",
       "1  2   0.910711\n",
       "2  3   0.916856\n",
       "3  4   0.930083\n",
       "4  5   0.931816"
      ]
     },
     "execution_count": 225,
     "metadata": {},
     "output_type": "execute_result"
    }
   ],
   "source": [
    "brpredict = br.predict(test.iloc[:, 1:])\n",
    "\n",
    "submission4 = pd.DataFrame(data=brpredict, columns=['Predicted'])\n",
    "submission4.insert(0, \"Id\", range(1, 1 + test.shape[0]))\n",
    "submission4['Id'] = submission4['Id'].astype(str)\n",
    "submission4.head()"
   ]
  },
  {
   "cell_type": "code",
   "execution_count": 226,
   "metadata": {},
   "outputs": [],
   "source": [
    "submission4.to_csv(\"br1500.csv\", index=False)"
   ]
  },
  {
   "cell_type": "code",
   "execution_count": 240,
   "metadata": {},
   "outputs": [
    {
     "data": {
      "text/html": [
       "<div>\n",
       "<style scoped>\n",
       "    .dataframe tbody tr th:only-of-type {\n",
       "        vertical-align: middle;\n",
       "    }\n",
       "\n",
       "    .dataframe tbody tr th {\n",
       "        vertical-align: top;\n",
       "    }\n",
       "\n",
       "    .dataframe thead th {\n",
       "        text-align: right;\n",
       "    }\n",
       "</style>\n",
       "<table border=\"1\" class=\"dataframe\">\n",
       "  <thead>\n",
       "    <tr style=\"text-align: right;\">\n",
       "      <th></th>\n",
       "      <th>Id</th>\n",
       "      <th>Predicted</th>\n",
       "    </tr>\n",
       "  </thead>\n",
       "  <tbody>\n",
       "    <tr>\n",
       "      <th>0</th>\n",
       "      <td>1</td>\n",
       "      <td>0.940034</td>\n",
       "    </tr>\n",
       "    <tr>\n",
       "      <th>1</th>\n",
       "      <td>2</td>\n",
       "      <td>0.909831</td>\n",
       "    </tr>\n",
       "    <tr>\n",
       "      <th>2</th>\n",
       "      <td>3</td>\n",
       "      <td>0.915914</td>\n",
       "    </tr>\n",
       "    <tr>\n",
       "      <th>3</th>\n",
       "      <td>4</td>\n",
       "      <td>0.931259</td>\n",
       "    </tr>\n",
       "    <tr>\n",
       "      <th>4</th>\n",
       "      <td>5</td>\n",
       "      <td>0.931471</td>\n",
       "    </tr>\n",
       "  </tbody>\n",
       "</table>\n",
       "</div>"
      ],
      "text/plain": [
       "  Id  Predicted\n",
       "0  1   0.940034\n",
       "1  2   0.909831\n",
       "2  3   0.915914\n",
       "3  4   0.931259\n",
       "4  5   0.931471"
      ]
     },
     "execution_count": 240,
     "metadata": {},
     "output_type": "execute_result"
    }
   ],
   "source": [
    "rfr15 = RFR(n_estimators=1500, n_jobs=-1)\n",
    "rfr15.fit(X_train, y_train)\n",
    "\n",
    "rfr15predict = rfr15.predict(test.iloc[:, 1:])\n",
    "\n",
    "submission5 = pd.DataFrame(data=rfr15predict, columns=['Predicted'])\n",
    "submission5.insert(0, \"Id\", range(1, 1 + test.shape[0]))\n",
    "submission5['Id'] = submission5['Id'].astype(str)\n",
    "submission5.head()"
   ]
  },
  {
   "cell_type": "code",
   "execution_count": 228,
   "metadata": {},
   "outputs": [],
   "source": [
    "submission5.to_csv(\"rfr1500.csv\", index=False)"
   ]
  },
  {
   "cell_type": "code",
   "execution_count": 230,
   "metadata": {},
   "outputs": [
    {
     "name": "stdout",
     "output_type": "stream",
     "text": [
      "Fitting 4 folds for each of 12 candidates, totalling 48 fits\n",
      "[CV] alpha=5e-05, hidden_layer_sizes=(100, 100, 100, 100, 100, 100) ..\n",
      "[CV] alpha=5e-05, hidden_layer_sizes=(100, 100, 100, 100, 100, 100) ..\n",
      "[CV] alpha=5e-05, hidden_layer_sizes=(100, 100, 100, 100, 100, 100) ..\n",
      "[CV] alpha=5e-05, hidden_layer_sizes=(100, 100, 100, 100, 100, 100) ..\n",
      "[CV]  alpha=5e-05, hidden_layer_sizes=(100, 100, 100, 100, 100, 100), score=-0.0022213548013956252, total=   2.4s\n",
      "[CV]  alpha=5e-05, hidden_layer_sizes=(100, 100, 100, 100, 100, 100), score=-0.002131314202196588, total=   2.6s\n",
      "[CV]  alpha=5e-05, hidden_layer_sizes=(100, 100, 100, 100, 100, 100), score=-0.006831750891926669, total=   2.5s\n",
      "[CV]  alpha=5e-05, hidden_layer_sizes=(100, 100, 100, 100, 100, 100), score=-0.0002091274860729353, total=   2.6s\n",
      "[CV] alpha=5e-05, hidden_layer_sizes=(500, 500, 100, 100, 100, 100) ..\n",
      "[CV] alpha=5e-05, hidden_layer_sizes=(500, 500, 100, 100, 100, 100) ..\n",
      "[CV] alpha=5e-05, hidden_layer_sizes=(500, 500, 100, 100, 100, 100) ..\n",
      "[CV] alpha=5e-05, hidden_layer_sizes=(500, 500, 100, 100, 100, 100) ..\n",
      "[CV]  alpha=5e-05, hidden_layer_sizes=(500, 500, 100, 100, 100, 100), score=-0.0013164191823589189, total=   7.8s\n",
      "[CV]  alpha=5e-05, hidden_layer_sizes=(500, 500, 100, 100, 100, 100), score=-0.001956461973257273, total=   7.9s\n",
      "[CV] alpha=5e-05, hidden_layer_sizes=(500, 500, 500, 500, 100, 100) ..\n",
      "[CV]  alpha=5e-05, hidden_layer_sizes=(500, 500, 100, 100, 100, 100), score=-0.0006346366337162124, total=   7.7s\n",
      "[CV] alpha=5e-05, hidden_layer_sizes=(500, 500, 500, 500, 100, 100) ..\n",
      "[CV] alpha=5e-05, hidden_layer_sizes=(500, 500, 500, 500, 100, 100) ..\n",
      "[CV]  alpha=5e-05, hidden_layer_sizes=(500, 500, 100, 100, 100, 100), score=-0.033737238665209945, total=   8.0s\n",
      "[CV] alpha=5e-05, hidden_layer_sizes=(500, 500, 500, 500, 100, 100) ..\n",
      "[CV]  alpha=5e-05, hidden_layer_sizes=(500, 500, 500, 500, 100, 100), score=-0.002210160962973884, total=  17.4s\n",
      "[CV]  alpha=5e-05, hidden_layer_sizes=(500, 500, 500, 500, 100, 100), score=-0.020969548578983588, total=  17.4s\n",
      "[CV] alpha=5e-05, hidden_layer_sizes=(1000, 1000, 500, 500, 100, 100) \n",
      "[CV] alpha=5e-05, hidden_layer_sizes=(1000, 1000, 500, 500, 100, 100) \n",
      "[CV]  alpha=5e-05, hidden_layer_sizes=(500, 500, 500, 500, 100, 100), score=-0.0005381593240978422, total=  17.5s\n",
      "[CV] alpha=5e-05, hidden_layer_sizes=(1000, 1000, 500, 500, 100, 100) \n",
      "[CV]  alpha=5e-05, hidden_layer_sizes=(500, 500, 500, 500, 100, 100), score=-0.004478281439738829, total=  19.9s\n",
      "[CV] alpha=5e-05, hidden_layer_sizes=(1000, 1000, 500, 500, 100, 100) \n",
      "[CV]  alpha=5e-05, hidden_layer_sizes=(1000, 1000, 500, 500, 100, 100), score=-0.0031652102246901848, total=  33.8s\n",
      "[CV] alpha=0.0001, hidden_layer_sizes=(100, 100, 100, 100, 100, 100) .\n",
      "[CV]  alpha=5e-05, hidden_layer_sizes=(1000, 1000, 500, 500, 100, 100), score=-0.003164249885831971, total=  33.8s\n",
      "[CV] alpha=0.0001, hidden_layer_sizes=(100, 100, 100, 100, 100, 100) .\n",
      "[CV]  alpha=5e-05, hidden_layer_sizes=(1000, 1000, 500, 500, 100, 100), score=-3.9456825851047483e-07, total=  34.0s\n",
      "[CV] alpha=0.0001, hidden_layer_sizes=(100, 100, 100, 100, 100, 100) .\n",
      "[CV]  alpha=0.0001, hidden_layer_sizes=(100, 100, 100, 100, 100, 100), score=-0.0002090925781501607, total=   2.3s\n",
      "[CV] alpha=0.0001, hidden_layer_sizes=(100, 100, 100, 100, 100, 100) .\n",
      "[CV]  alpha=0.0001, hidden_layer_sizes=(100, 100, 100, 100, 100, 100), score=-0.0068309170802465236, total=   2.2s\n",
      "[CV]  alpha=0.0001, hidden_layer_sizes=(100, 100, 100, 100, 100, 100), score=-0.0021317385777006592, total=   2.2s\n",
      "[CV] alpha=0.0001, hidden_layer_sizes=(500, 500, 100, 100, 100, 100) .\n",
      "[CV] alpha=0.0001, hidden_layer_sizes=(500, 500, 100, 100, 100, 100) .\n",
      "[CV]  alpha=5e-05, hidden_layer_sizes=(1000, 1000, 500, 500, 100, 100), score=-0.015515527950358708, total=  34.2s\n",
      "[CV] alpha=0.0001, hidden_layer_sizes=(500, 500, 100, 100, 100, 100) .\n",
      "[CV]  alpha=0.0001, hidden_layer_sizes=(100, 100, 100, 100, 100, 100), score=-0.0022210536794453617, total=   2.6s\n",
      "[CV] alpha=0.0001, hidden_layer_sizes=(500, 500, 100, 100, 100, 100) .\n",
      "[CV]  alpha=0.0001, hidden_layer_sizes=(500, 500, 100, 100, 100, 100), score=-0.0013169605751661706, total=   9.2s\n",
      "[CV]  alpha=0.0001, hidden_layer_sizes=(500, 500, 100, 100, 100, 100), score=-0.0019566298272075677, total=   9.3s\n",
      "[CV] alpha=0.0001, hidden_layer_sizes=(500, 500, 500, 500, 100, 100) .\n",
      "[CV] alpha=0.0001, hidden_layer_sizes=(500, 500, 500, 500, 100, 100) .\n",
      "[CV]  alpha=0.0001, hidden_layer_sizes=(500, 500, 100, 100, 100, 100), score=-0.033736936488832914, total=   9.3s\n",
      "[CV] alpha=0.0001, hidden_layer_sizes=(500, 500, 500, 500, 100, 100) .\n",
      "[CV]  alpha=0.0001, hidden_layer_sizes=(500, 500, 100, 100, 100, 100), score=-0.0006349014898994199, total=   9.5s\n",
      "[CV] alpha=0.0001, hidden_layer_sizes=(500, 500, 500, 500, 100, 100) .\n"
     ]
    },
    {
     "name": "stderr",
     "output_type": "stream",
     "text": [
      "[Parallel(n_jobs=4)]: Done  24 tasks      | elapsed:  1.3min\n"
     ]
    },
    {
     "name": "stdout",
     "output_type": "stream",
     "text": [
      "[CV]  alpha=0.0001, hidden_layer_sizes=(500, 500, 500, 500, 100, 100), score=-0.020967980529727814, total=  17.5s\n",
      "[CV] alpha=0.0001, hidden_layer_sizes=(1000, 1000, 500, 500, 100, 100) \n",
      "[CV]  alpha=0.0001, hidden_layer_sizes=(500, 500, 500, 500, 100, 100), score=-0.0022096714331294454, total=  18.0s\n",
      "[CV] alpha=0.0001, hidden_layer_sizes=(1000, 1000, 500, 500, 100, 100) \n",
      "[CV]  alpha=0.0001, hidden_layer_sizes=(500, 500, 500, 500, 100, 100), score=-0.0005379230199198393, total=  18.4s\n",
      "[CV] alpha=0.0001, hidden_layer_sizes=(1000, 1000, 500, 500, 100, 100) \n",
      "[CV]  alpha=0.0001, hidden_layer_sizes=(500, 500, 500, 500, 100, 100), score=-0.0044789764674477706, total=  18.2s\n",
      "[CV] alpha=0.0001, hidden_layer_sizes=(1000, 1000, 500, 500, 100, 100) \n",
      "[CV]  alpha=0.0001, hidden_layer_sizes=(1000, 1000, 500, 500, 100, 100), score=-0.003170416255596331, total=  33.8s\n",
      "[CV] alpha=0.001, hidden_layer_sizes=(100, 100, 100, 100, 100, 100) ..\n",
      "[CV]  alpha=0.0001, hidden_layer_sizes=(1000, 1000, 500, 500, 100, 100), score=-3.1647900522457917e-07, total=  34.3s\n",
      "[CV] alpha=0.001, hidden_layer_sizes=(100, 100, 100, 100, 100, 100) ..\n",
      "[CV]  alpha=0.0001, hidden_layer_sizes=(1000, 1000, 500, 500, 100, 100), score=-0.0031783626556094458, total=  34.4s\n",
      "[CV] alpha=0.001, hidden_layer_sizes=(100, 100, 100, 100, 100, 100) ..\n",
      "[CV]  alpha=0.001, hidden_layer_sizes=(100, 100, 100, 100, 100, 100), score=-0.00020998103302694027, total=   2.5s\n",
      "[CV] alpha=0.001, hidden_layer_sizes=(100, 100, 100, 100, 100, 100) ..\n",
      "[CV]  alpha=0.001, hidden_layer_sizes=(100, 100, 100, 100, 100, 100), score=-0.0021418921095079924, total=   2.4s\n",
      "[CV] alpha=0.001, hidden_layer_sizes=(500, 500, 100, 100, 100, 100) ..\n",
      "[CV]  alpha=0.0001, hidden_layer_sizes=(1000, 1000, 500, 500, 100, 100), score=-0.015514787068589442, total=  33.8s\n",
      "[CV] alpha=0.001, hidden_layer_sizes=(500, 500, 100, 100, 100, 100) ..\n",
      "[CV]  alpha=0.001, hidden_layer_sizes=(100, 100, 100, 100, 100, 100), score=-0.006822300433030781, total=   2.3s\n",
      "[CV] alpha=0.001, hidden_layer_sizes=(500, 500, 100, 100, 100, 100) ..\n",
      "[CV]  alpha=0.001, hidden_layer_sizes=(100, 100, 100, 100, 100, 100), score=-0.002215825642986946, total=   2.5s\n",
      "[CV] alpha=0.001, hidden_layer_sizes=(500, 500, 100, 100, 100, 100) ..\n",
      "[CV]  alpha=0.001, hidden_layer_sizes=(500, 500, 100, 100, 100, 100), score=-0.0019544708660133026, total=   8.2s\n",
      "[CV] alpha=0.001, hidden_layer_sizes=(500, 500, 500, 500, 100, 100) ..\n",
      "[CV]  alpha=0.001, hidden_layer_sizes=(500, 500, 100, 100, 100, 100), score=-0.03375330440600366, total=   8.3s\n",
      "[CV] alpha=0.001, hidden_layer_sizes=(500, 500, 500, 500, 100, 100) ..\n",
      "[CV]  alpha=0.001, hidden_layer_sizes=(500, 500, 100, 100, 100, 100), score=-7.686854993460557e-05, total=   9.5s\n",
      "[CV] alpha=0.001, hidden_layer_sizes=(500, 500, 500, 500, 100, 100) ..\n",
      "[CV]  alpha=0.001, hidden_layer_sizes=(500, 500, 100, 100, 100, 100), score=-0.0006383072214783958, total=   8.5s\n",
      "[CV] alpha=0.001, hidden_layer_sizes=(500, 500, 500, 500, 100, 100) ..\n",
      "[CV]  alpha=0.001, hidden_layer_sizes=(500, 500, 500, 500, 100, 100), score=-0.0008857211110997465, total=  18.3s\n",
      "[CV] alpha=0.001, hidden_layer_sizes=(1000, 1000, 500, 500, 100, 100) \n",
      "[CV]  alpha=0.001, hidden_layer_sizes=(500, 500, 500, 500, 100, 100), score=-0.0032520780424594165, total=  19.2s\n",
      "[CV] alpha=0.001, hidden_layer_sizes=(1000, 1000, 500, 500, 100, 100) \n",
      "[CV]  alpha=0.001, hidden_layer_sizes=(500, 500, 500, 500, 100, 100), score=-0.00693562943631898, total=  19.2s\n",
      "[CV] alpha=0.001, hidden_layer_sizes=(1000, 1000, 500, 500, 100, 100) \n",
      "[CV]  alpha=0.001, hidden_layer_sizes=(500, 500, 500, 500, 100, 100), score=-0.0021537524494845695, total=  19.4s\n",
      "[CV] alpha=0.001, hidden_layer_sizes=(1000, 1000, 500, 500, 100, 100) \n",
      "[CV]  alpha=0.001, hidden_layer_sizes=(1000, 1000, 500, 500, 100, 100), score=-0.00015591389261304656, total=  38.1s\n",
      "[CV]  alpha=0.001, hidden_layer_sizes=(1000, 1000, 500, 500, 100, 100), score=-0.012938189980570503, total=  38.0s\n",
      "[CV]  alpha=0.001, hidden_layer_sizes=(1000, 1000, 500, 500, 100, 100), score=-0.021971410646670186, total=  38.3s\n",
      "[CV]  alpha=0.001, hidden_layer_sizes=(1000, 1000, 500, 500, 100, 100), score=-0.010474719033485735, total=  37.4s\n"
     ]
    },
    {
     "name": "stderr",
     "output_type": "stream",
     "text": [
      "[Parallel(n_jobs=4)]: Done  48 out of  48 | elapsed:  3.4min finished\n"
     ]
    },
    {
     "ename": "AttributeError",
     "evalue": "'GridSearchCV' object has no attribute 'best_params'",
     "output_type": "error",
     "traceback": [
      "\u001b[0;31m---------------------------------------------------------------------------\u001b[0m",
      "\u001b[0;31mAttributeError\u001b[0m                            Traceback (most recent call last)",
      "\u001b[0;32m<ipython-input-230-8c9d97c66a4e>\u001b[0m in \u001b[0;36m<module>\u001b[0;34m()\u001b[0m\n\u001b[1;32m      8\u001b[0m \u001b[0mgsmlp\u001b[0m\u001b[0;34m.\u001b[0m\u001b[0mfit\u001b[0m\u001b[0;34m(\u001b[0m\u001b[0mX_train\u001b[0m\u001b[0;34m,\u001b[0m \u001b[0my_train\u001b[0m\u001b[0;34m)\u001b[0m\u001b[0;34m\u001b[0m\u001b[0m\n\u001b[1;32m      9\u001b[0m \u001b[0;34m\u001b[0m\u001b[0m\n\u001b[0;32m---> 10\u001b[0;31m \u001b[0mprint\u001b[0m\u001b[0;34m(\u001b[0m\u001b[0mgsmlp\u001b[0m\u001b[0;34m.\u001b[0m\u001b[0mbest_params\u001b[0m\u001b[0;34m)\u001b[0m\u001b[0;34m\u001b[0m\u001b[0m\n\u001b[0m",
      "\u001b[0;31mAttributeError\u001b[0m: 'GridSearchCV' object has no attribute 'best_params'"
     ]
    }
   ],
   "source": [
    "params = {\n",
    "    'hidden_layer_sizes': [(100, 100, 100, 100, 100, 100), (500, 500, 100, 100, 100, 100), (500, 500, 500, 500, 100, 100), (1000, 1000, 500, 500, 100, 100)],\n",
    "    'alpha': [0.00005, 0.0001, 0.001]\n",
    "}\n",
    "\n",
    "mlp = MLP(activation='logistic', random_state=50)\n",
    "gsmlp = GridSearchCV(estimator=mlp, param_grid=params, cv=4, n_jobs=4, verbose=3)\n",
    "gsmlp.fit(X_train, y_train)"
   ]
  },
  {
   "cell_type": "code",
   "execution_count": 249,
   "metadata": {},
   "outputs": [
    {
     "name": "stdout",
     "output_type": "stream",
     "text": [
      "Fitting 4 folds for each of 3 candidates, totalling 12 fits\n",
      "[CV] hidden_layer_sizes=(400, 400, 100, 100, 100, 100) ...............\n",
      "[CV] hidden_layer_sizes=(400, 400, 100, 100, 100, 100) ...............\n",
      "[CV] hidden_layer_sizes=(400, 400, 100, 100, 100, 100) ...............\n",
      "[CV] hidden_layer_sizes=(400, 400, 100, 100, 100, 100) ...............\n",
      "[CV]  hidden_layer_sizes=(400, 400, 100, 100, 100, 100), score=-0.002782290238506402, total=  10.2s\n",
      "[CV]  hidden_layer_sizes=(400, 400, 100, 100, 100, 100), score=-3.4159072292982984e-05, total=  10.3s\n",
      "[CV] hidden_layer_sizes=(500, 500, 100, 100, 100, 100) ...............\n",
      "[CV] hidden_layer_sizes=(500, 500, 100, 100, 100, 100) ...............\n",
      "[CV]  hidden_layer_sizes=(400, 400, 100, 100, 100, 100), score=-0.005963434902424236, total=  10.7s\n",
      "[CV] hidden_layer_sizes=(500, 500, 100, 100, 100, 100) ...............\n",
      "[CV]  hidden_layer_sizes=(400, 400, 100, 100, 100, 100), score=-0.00409296081757593, total=  11.2s\n",
      "[CV] hidden_layer_sizes=(500, 500, 100, 100, 100, 100) ...............\n",
      "[CV]  hidden_layer_sizes=(500, 500, 100, 100, 100, 100), score=-1.0359407025539724e-06, total=  10.0s\n",
      "[CV] hidden_layer_sizes=(600, 600, 100, 100, 100, 100) ...............\n",
      "[CV]  hidden_layer_sizes=(500, 500, 100, 100, 100, 100), score=-0.0016872649003414342, total=  10.2s\n",
      "[CV] hidden_layer_sizes=(600, 600, 100, 100, 100, 100) ...............\n",
      "[CV]  hidden_layer_sizes=(500, 500, 100, 100, 100, 100), score=-0.007896872629665319, total=  10.3s\n",
      "[CV] hidden_layer_sizes=(600, 600, 100, 100, 100, 100) ...............\n",
      "[CV]  hidden_layer_sizes=(500, 500, 100, 100, 100, 100), score=-0.003034637730991996, total=  10.5s\n",
      "[CV] hidden_layer_sizes=(600, 600, 100, 100, 100, 100) ...............\n",
      "[CV]  hidden_layer_sizes=(600, 600, 100, 100, 100, 100), score=-0.0027301374496118136, total=  13.3s\n",
      "[CV]  hidden_layer_sizes=(600, 600, 100, 100, 100, 100), score=-3.1961782476663814e-05, total=  13.6s\n"
     ]
    },
    {
     "name": "stderr",
     "output_type": "stream",
     "text": [
      "[Parallel(n_jobs=4)]: Done  10 out of  12 | elapsed:   35.4s remaining:    7.1s\n"
     ]
    },
    {
     "name": "stdout",
     "output_type": "stream",
     "text": [
      "[CV]  hidden_layer_sizes=(600, 600, 100, 100, 100, 100), score=-0.005812005858984559, total=  13.3s\n",
      "[CV]  hidden_layer_sizes=(600, 600, 100, 100, 100, 100), score=-0.004077449499403363, total=  12.7s\n"
     ]
    },
    {
     "name": "stderr",
     "output_type": "stream",
     "text": [
      "[Parallel(n_jobs=4)]: Done  12 out of  12 | elapsed:   36.0s finished\n"
     ]
    },
    {
     "data": {
      "text/plain": [
       "GridSearchCV(cv=4, error_score='raise',\n",
       "       estimator=MLPRegressor(activation='logistic', alpha=0.001, batch_size='auto',\n",
       "       beta_1=0.9, beta_2=0.999, early_stopping=False, epsilon=1e-08,\n",
       "       hidden_layer_sizes=(100,), learning_rate='constant',\n",
       "       learning_rate_init=0.0001, max_iter=200, momentum=0.9,\n",
       "       nesterovs_momentum=True, power_t=0.5, random_state=50, shuffle=True,\n",
       "       solver='sgd', tol=0.0001, validation_fraction=0.1, verbose=False,\n",
       "       warm_start=False),\n",
       "       fit_params=None, iid=True, n_jobs=4,\n",
       "       param_grid={'hidden_layer_sizes': [(400, 400, 100, 100, 100, 100), (500, 500, 100, 100, 100, 100), (600, 600, 100, 100, 100, 100)]},\n",
       "       pre_dispatch='2*n_jobs', refit=True, return_train_score='warn',\n",
       "       scoring=None, verbose=3)"
      ]
     },
     "execution_count": 249,
     "metadata": {},
     "output_type": "execute_result"
    }
   ],
   "source": [
    "params = {\n",
    "    'hidden_layer_sizes': [(400, 400, 100, 100, 100, 100), (500, 500, 100, 100, 100, 100), (600, 600, 100, 100, 100, 100)],\n",
    "}\n",
    "\n",
    "mlp = MLP(activation='logistic', solver='sgd', random_state=50, learning_rate_init=0.0001, alpha=0.001)\n",
    "gsmlp = GridSearchCV(estimator=mlp, param_grid=params, cv=4, n_jobs=4, verbose=3)\n",
    "gsmlp.fit(X_train, y_train)"
   ]
  },
  {
   "cell_type": "code",
   "execution_count": 250,
   "metadata": {},
   "outputs": [
    {
     "data": {
      "text/plain": [
       "0.027972472343201306"
      ]
     },
     "execution_count": 250,
     "metadata": {},
     "output_type": "execute_result"
    }
   ],
   "source": [
    "kfold(10, gsmlp.best_estimator_, train)"
   ]
  },
  {
   "cell_type": "code",
   "execution_count": 251,
   "metadata": {},
   "outputs": [
    {
     "data": {
      "text/html": [
       "<div>\n",
       "<style scoped>\n",
       "    .dataframe tbody tr th:only-of-type {\n",
       "        vertical-align: middle;\n",
       "    }\n",
       "\n",
       "    .dataframe tbody tr th {\n",
       "        vertical-align: top;\n",
       "    }\n",
       "\n",
       "    .dataframe thead th {\n",
       "        text-align: right;\n",
       "    }\n",
       "</style>\n",
       "<table border=\"1\" class=\"dataframe\">\n",
       "  <thead>\n",
       "    <tr style=\"text-align: right;\">\n",
       "      <th></th>\n",
       "      <th>Id</th>\n",
       "      <th>Predicted</th>\n",
       "    </tr>\n",
       "  </thead>\n",
       "  <tbody>\n",
       "    <tr>\n",
       "      <th>0</th>\n",
       "      <td>1</td>\n",
       "      <td>0.919634</td>\n",
       "    </tr>\n",
       "    <tr>\n",
       "      <th>1</th>\n",
       "      <td>2</td>\n",
       "      <td>0.919633</td>\n",
       "    </tr>\n",
       "    <tr>\n",
       "      <th>2</th>\n",
       "      <td>3</td>\n",
       "      <td>0.919634</td>\n",
       "    </tr>\n",
       "    <tr>\n",
       "      <th>3</th>\n",
       "      <td>4</td>\n",
       "      <td>0.919634</td>\n",
       "    </tr>\n",
       "    <tr>\n",
       "      <th>4</th>\n",
       "      <td>5</td>\n",
       "      <td>0.919634</td>\n",
       "    </tr>\n",
       "  </tbody>\n",
       "</table>\n",
       "</div>"
      ],
      "text/plain": [
       "  Id  Predicted\n",
       "0  1   0.919634\n",
       "1  2   0.919633\n",
       "2  3   0.919634\n",
       "3  4   0.919634\n",
       "4  5   0.919634"
      ]
     },
     "execution_count": 251,
     "metadata": {},
     "output_type": "execute_result"
    }
   ],
   "source": [
    "mlppredict = gsmlp.best_estimator_.predict(test.iloc[:, 1:])\n",
    "\n",
    "submission6 = pd.DataFrame(data=mlppredict, columns=['Predicted'])\n",
    "submission6.insert(0, \"Id\", range(1, 1 + test.shape[0]))\n",
    "submission6['Id'] = submission6['Id'].astype(str)\n",
    "submission6.head()"
   ]
  },
  {
   "cell_type": "code",
   "execution_count": 252,
   "metadata": {},
   "outputs": [],
   "source": [
    "submission6.to_csv(\"mlp.csv\", index=False)"
   ]
  },
  {
   "cell_type": "code",
   "execution_count": null,
   "metadata": {},
   "outputs": [],
   "source": []
  }
 ],
 "metadata": {
  "kernelspec": {
   "display_name": "Python 3",
   "language": "python",
   "name": "python3"
  },
  "language_info": {
   "codemirror_mode": {
    "name": "ipython",
    "version": 3
   },
   "file_extension": ".py",
   "mimetype": "text/x-python",
   "name": "python",
   "nbconvert_exporter": "python",
   "pygments_lexer": "ipython3",
   "version": "3.6.6"
  }
 },
 "nbformat": 4,
 "nbformat_minor": 2
}
