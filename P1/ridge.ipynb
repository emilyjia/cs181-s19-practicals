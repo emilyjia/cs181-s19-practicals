{
 "cells": [
  {
   "cell_type": "code",
   "execution_count": 2,
   "metadata": {},
   "outputs": [],
   "source": [
    "# Import libraries\n",
    "import numpy as np\n",
    "import pandas as pd\n",
    "from sklearn.linear_model import LinearRegression as Lin_Reg\n",
    "from sklearn.linear_model import Ridge\n",
    "from sklearn.metrics import mean_squared_error\n",
    "from sklearn.linear_model import Lasso\n",
    "import matplotlib\n",
    "import matplotlib.pyplot as plt\n",
    "import matplotlib.cm as cmx\n",
    "import matplotlib.colors as colors\n",
    "import scipy as sp\n",
    "%matplotlib inline\n",
    "\n",
    "from collections import Counter\n",
    "\n",
    "# Load training and test sets (assumes you have these in current working directory)\n",
    "train = pd.read_csv(\"train.csv\")\n",
    "test = pd.read_csv(\"test.csv\")\n",
    "# Split training set into X and y (removing first column containing IDs)\n",
    "X_train = train.iloc[:, 1:-1]\n",
    "y_train = train.iloc[:, -1]\n",
    "\n",
    "# Define function to compute RMSE\n",
    "def scoreRMSE(predictor, X, true_y):\n",
    "    predictions = predictor.predict(X)\n",
    "    return np.sqrt(mean_squared_error(predictions, true_y))\n",
    "\n",
    "from sklearn.model_selection import KFold\n",
    "def kfold(k, predictor, X):\n",
    "    kf = KFold(n_splits = k, random_state = 0)\n",
    "    count = 0\n",
    "    coeff_used = 0 \n",
    "    for trains, tests in kf.split(X):\n",
    "        x_train = X.iloc[trains, 1:-1]\n",
    "        y_train = X.iloc[trains, -1]\n",
    "        x_test = X.iloc[tests, 1:-1]\n",
    "        y_test = X.iloc[tests, -1]\n",
    "        predictor.fit(x_train, y_train)\n",
    "        predictions = predictor.predict(x_test)\n",
    "        count += np.sqrt(mean_squared_error(predictions, unit_round(y_test)))\n",
    "        coeff_used += np.sum(predictor.coef_!=0)\n",
    "    return count/k\n",
    "\n",
    "def unit_round(y_array):\n",
    "    for y in y_array:\n",
    "        if y < 0:\n",
    "            y = 0\n",
    "        if y > 1:\n",
    "            y = 1\n",
    "    return y_array\n",
    "    "
   ]
  },
  {
   "cell_type": "code",
   "execution_count": 46,
   "metadata": {},
   "outputs": [
    {
     "name": "stdout",
     "output_type": "stream",
     "text": [
      "TRAINING RMSE: 0.026357953023403557\n"
     ]
    },
    {
     "data": {
      "text/plain": [
       "<matplotlib.collections.PathCollection at 0x101bfb810>"
      ]
     },
     "execution_count": 46,
     "metadata": {},
     "output_type": "execute_result"
    },
    {
     "data": {
      "image/png": "[encoded data removed]",
      "text/plain": [
       "<matplotlib.figure.Figure at 0x10ad4b990>"
      ]
     },
     "metadata": {},
     "output_type": "display_data"
    }
   ],
   "source": [
    "# ridge regression\n",
    "rr = Ridge(alpha = 0.01)\n",
    "rr.fit(X_train, y_train)\n",
    "print \"TRAINING RMSE:\", scoreRMSE(rr, X_train, y_train)\n",
    "prediction = rr.predict(X_train)\n",
    "plt.scatter(prediction, y_train)"
   ]
  },
  {
   "cell_type": "code",
   "execution_count": 4,
   "metadata": {},
   "outputs": [
    {
     "name": "stdout",
     "output_type": "stream",
     "text": [
      "0.02744802553565275\n",
      "0.027972577683165006\n"
     ]
    }
   ],
   "source": [
    "print kfold(10, Lasso(alpha = 10**-4), train)\n",
    "print kfold(10, Lasso(), train)"
   ]
  },
  {
   "cell_type": "code",
   "execution_count": 3,
   "metadata": {},
   "outputs": [
    {
     "name": "stdout",
     "output_type": "stream",
     "text": [
      "0.02727860423989813\n",
      "0.02726106067390489\n",
      "0.027249426121184025\n"
     ]
    }
   ],
   "source": [
    "print kfold(5, Ridge(alpha = 10**1), train)\n",
    "print kfold(10, Ridge(alpha = 10**1.5), train)\n",
    "print kfold(15, Ridge(alpha = 10**1.5), train)"
   ]
  },
  {
   "cell_type": "code",
   "execution_count": 43,
   "metadata": {},
   "outputs": [
    {
     "name": "stdout",
     "output_type": "stream",
     "text": [
      "10 folds\n",
      "1e-10 0.13001469468026766\n",
      "1e-08 0.028717990350055327\n",
      "1e-06 0.027888444197912365\n",
      "0.0001 0.02788759452119577\n",
      "0.01 0.02785337885849116\n",
      "1 0.027452928577104053\n",
      "======\n",
      "5 folds\n",
      "1e-10 0.162071500156964\n",
      "1e-08 0.028769355519006324\n",
      "1e-06 0.028052144305038124\n",
      "0.0001 0.028051229041438214\n",
      "0.01 0.028002810738069726\n",
      "1 0.027479992292171025\n",
      "======\n",
      "15 folds\n",
      "1e-10 0.1001580835898616\n",
      "1e-08 0.02855939120175371\n",
      "1e-06 0.027909624113536036\n",
      "0.0001 0.027908844284835883\n",
      "0.01 0.027875029327060437\n",
      "1 0.02745622862188565\n"
     ]
    }
   ],
   "source": [
    "# what should alpha be? turns out it doesn't really matter \n",
    "print \"10 folds\"\n",
    "for alpha in list(10**x for x in range(-12, 3, 2)):\n",
    "    print alpha, kfold(10, Ridge(alpha = alpha), train)\n",
    "\n",
    "print \"======\"\n",
    "print \"5 folds\"\n",
    "for alpha in list(10**x for x in range(-12, 3, 2)):\n",
    "    print alpha, kfold(5, Ridge(alpha = alpha), train)\n",
    "\n",
    "print \"======\"\n",
    "print \"15 folds\"\n",
    "for alpha in list(10**x for x in range(-12, 3, 2)):\n",
    "    print alpha, kfold(15, Ridge(alpha = alpha), train)"
   ]
  },
  {
   "cell_type": "code",
   "execution_count": 14,
   "metadata": {},
   "outputs": [
    {
     "name": "stdout",
     "output_type": "stream",
     "text": [
      "-4\n",
      "COEFF USED: 9\n",
      "TRAINING RMSE: 0.027426477245999246\n"
     ]
    },
    {
     "data": {
      "text/plain": [
       "<matplotlib.collections.PathCollection at 0x1023e2910>"
      ]
     },
     "execution_count": 14,
     "metadata": {},
     "output_type": "execute_result"
    },
    {
     "data": {
      "image/png": "[encoded data removed]",
      "text/plain": [
       "<matplotlib.figure.Figure at 0x10a763c90>"
      ]
     },
     "metadata": {},
     "output_type": "display_data"
    }
   ],
   "source": [
    "# lasso regression. gives everything a 0.92\n",
    "for alpha in [-4]:\n",
    "    lasso = Lasso(alpha = 10**alpha)\n",
    "    lasso.fit(X_train,y_train)\n",
    "    print alpha\n",
    "    print \"COEFF USED:\", np.sum(lasso.coef_!=0)\n",
    "    print \"TRAINING RMSE:\", scoreRMSE(lasso, X_train, y_train)\n",
    "    prediction = lasso.predict(X_train)\n",
    "plt.scatter(prediction, y_train)"
   ]
  },
  {
   "cell_type": "code",
   "execution_count": 54,
   "metadata": {},
   "outputs": [
    {
     "name": "stdout",
     "output_type": "stream",
     "text": [
      "10 folds\n",
      "1e-10 (0.027882633883628417, 207)\n",
      "1e-08 (0.027879910462535858, 206)\n",
      "1e-06 (0.0276995717839462, 182)\n",
      "0.0001 (0.02744802553565275, 9)\n",
      "0.01 (0.027972577683165006, 0)\n",
      "1 (0.027972577683165006, 0)\n",
      "100 (0.027972577683165006, 0)\n"
     ]
    }
   ],
   "source": [
    "# change values of alpha. this shit takes forever to run and doesn't even do that well\n",
    "print \"10 folds\"\n",
    "for alpha in list(10**x for x in range(-10, 3, 2)):\n",
    "    print alpha, kfold(10, Lasso(alpha = alpha), train)\n",
    "\n",
    "    "
   ]
  },
  {
   "cell_type": "code",
   "execution_count": 5,
   "metadata": {},
   "outputs": [
    {
     "name": "stdout",
     "output_type": "stream",
     "text": [
      "0.027972577683165006\n"
     ]
    }
   ],
   "source": [
    "print kfold(10, Lasso(alpha = 10**1), train)"
   ]
  },
  {
   "cell_type": "code",
   "execution_count": 15,
   "metadata": {},
   "outputs": [
    {
     "name": "stdout",
     "output_type": "stream",
     "text": [
      "TRAINING RMSE: 0.027045282763387007\n",
      "42\n"
     ]
    }
   ],
   "source": [
    "from sklearn.linear_model import ElasticNet\n",
    "# need to test alpha, l1_ratio\n",
    "elastic = ElasticNet(random_state = 0, alpha = 0.0001, l1_ratio = 0.3)\n",
    "elastic.fit(X_train, y_train)\n",
    "coeff_used = np.sum(elastic.coef_!=0)\n",
    "print \"TRAINING RMSE:\", scoreRMSE(elastic, X_train, y_train)\n",
    "print coeff_used"
   ]
  },
  {
   "cell_type": "code",
   "execution_count": 16,
   "metadata": {},
   "outputs": [
    {
     "data": {
      "text/plain": [
       "152"
      ]
     },
     "execution_count": 16,
     "metadata": {},
     "output_type": "execute_result"
    }
   ],
   "source": [
    "sum(X_train.var() > 0.001)"
   ]
  },
  {
   "cell_type": "code",
   "execution_count": 11,
   "metadata": {},
   "outputs": [
    {
     "ename": "ImportError",
     "evalue": "No module named cross_validation",
     "output_type": "error",
     "traceback": [
      "\u001b[0;31m---------------------------------------------------------------------------\u001b[0m",
      "\u001b[0;31mImportError\u001b[0m                               Traceback (most recent call last)",
      "\u001b[0;32m<ipython-input-11-031e24d23116>\u001b[0m in \u001b[0;36m<module>\u001b[0;34m()\u001b[0m\n\u001b[0;32m----> 1\u001b[0;31m \u001b[0;32mfrom\u001b[0m \u001b[0msklearn\u001b[0m\u001b[0;34m.\u001b[0m\u001b[0mcross_validation\u001b[0m \u001b[0;32mimport\u001b[0m \u001b[0mKFold\u001b[0m\u001b[0;34m\u001b[0m\u001b[0m\n\u001b[0m\u001b[1;32m      2\u001b[0m \u001b[0;34m\u001b[0m\u001b[0m\n\u001b[1;32m      3\u001b[0m \u001b[0;32mdef\u001b[0m \u001b[0mkfold\u001b[0m\u001b[0;34m(\u001b[0m\u001b[0mk\u001b[0m\u001b[0;34m,\u001b[0m \u001b[0mpredictor\u001b[0m\u001b[0;34m,\u001b[0m \u001b[0mX\u001b[0m\u001b[0;34m)\u001b[0m\u001b[0;34m:\u001b[0m\u001b[0;34m\u001b[0m\u001b[0m\n\u001b[1;32m      4\u001b[0m     \u001b[0mkf\u001b[0m \u001b[0;34m=\u001b[0m \u001b[0mKFold\u001b[0m\u001b[0;34m(\u001b[0m\u001b[0mX\u001b[0m\u001b[0;34m.\u001b[0m\u001b[0mshape\u001b[0m\u001b[0;34m[\u001b[0m\u001b[0;36m0\u001b[0m\u001b[0;34m]\u001b[0m\u001b[0;34m,\u001b[0m \u001b[0mk\u001b[0m\u001b[0;34m)\u001b[0m\u001b[0;34m\u001b[0m\u001b[0m\n\u001b[1;32m      5\u001b[0m     \u001b[0mcount\u001b[0m \u001b[0;34m=\u001b[0m \u001b[0;36m0\u001b[0m\u001b[0;34m\u001b[0m\u001b[0m\n",
      "\u001b[0;31mImportError\u001b[0m: No module named cross_validation"
     ]
    }
   ],
   "source": [
    "from sklearn.model import KFold\n",
    "\n",
    "def kfold(k, predictor, X):\n",
    "    kf = KFold(X.shape[0], k)\n",
    "    count = 0\n",
    "    for trains, tests in kf:\n",
    "        x_train = X.iloc[trains, 1:-1]\n",
    "        y_train = X.iloc[trains, -1]\n",
    "        x_test = X.iloc[tests, 1:-1]\n",
    "        y_test = X.iloc[tests, -1]\n",
    "        predictor.fit(x_train, y_train)\n",
    "        predictions = predictor.predict(x_test)\n",
    "        count += np.sqrt(mean_squared_error(predictions, y_test))\n",
    "    return count/k\n",
    "\n",
    "kfold(10, Ridge(), train)"
   ]
  },
  {
   "cell_type": "code",
   "execution_count": 10,
   "metadata": {},
   "outputs": [],
   "source": [
    "# Make predictions using linear regression model fitted above\n",
    "predictions = linReg.predict(X_test)"
   ]
  },
  {
   "cell_type": "code",
   "execution_count": 11,
   "metadata": {},
   "outputs": [
    {
     "data": {
      "text/html": [
       "<div>\n",
       "<style scoped>\n",
       "    .dataframe tbody tr th:only-of-type {\n",
       "        vertical-align: middle;\n",
       "    }\n",
       "\n",
       "    .dataframe tbody tr th {\n",
       "        vertical-align: top;\n",
       "    }\n",
       "\n",
       "    .dataframe thead th {\n",
       "        text-align: right;\n",
       "    }\n",
       "</style>\n",
       "<table border=\"1\" class=\"dataframe\">\n",
       "  <thead>\n",
       "    <tr style=\"text-align: right;\">\n",
       "      <th></th>\n",
       "      <th>Id</th>\n",
       "      <th>Predicted</th>\n",
       "    </tr>\n",
       "  </thead>\n",
       "  <tbody>\n",
       "    <tr>\n",
       "      <th>0</th>\n",
       "      <td>1</td>\n",
       "      <td>0.934613</td>\n",
       "    </tr>\n",
       "    <tr>\n",
       "      <th>1</th>\n",
       "      <td>2</td>\n",
       "      <td>0.925099</td>\n",
       "    </tr>\n",
       "    <tr>\n",
       "      <th>2</th>\n",
       "      <td>3</td>\n",
       "      <td>0.922504</td>\n",
       "    </tr>\n",
       "    <tr>\n",
       "      <th>3</th>\n",
       "      <td>4</td>\n",
       "      <td>0.934105</td>\n",
       "    </tr>\n",
       "    <tr>\n",
       "      <th>4</th>\n",
       "      <td>5</td>\n",
       "      <td>0.926756</td>\n",
       "    </tr>\n",
       "  </tbody>\n",
       "</table>\n",
       "</div>"
      ],
      "text/plain": [
       "  Id  Predicted\n",
       "0  1   0.934613\n",
       "1  2   0.925099\n",
       "2  3   0.922504\n",
       "3  4   0.934105\n",
       "4  5   0.926756"
      ]
     },
     "execution_count": 11,
     "metadata": {},
     "output_type": "execute_result"
    }
   ],
   "source": [
    "# Format predictions to be compatible with Kaggle upload\n",
    "sample_submission = pd.DataFrame(data=predictions, columns=['Predicted'])\n",
    "sample_submission.insert(0, \"Id\", range(1, 1 + X_test.shape[0]))\n",
    "sample_submission['Id'] = sample_submission['Id'].astype(str)\n",
    "sample_submission.head()"
   ]
  },
  {
   "cell_type": "code",
   "execution_count": 12,
   "metadata": {},
   "outputs": [],
   "source": [
    "# Save predictions to .csv file for upload to Kaggle\n",
    "sample_submission.to_csv(\"sample_submission.csv\", index=False)"
   ]
  },
  {
   "cell_type": "code",
   "execution_count": null,
   "metadata": {},
   "outputs": [],
   "source": []
  }
 ],
 "metadata": {
  "anaconda-cloud": {},
  "kernelspec": {
   "display_name": "Python 2",
   "language": "python",
   "name": "python2"
  },
  "language_info": {
   "codemirror_mode": {
    "name": "ipython",
    "version": 2
   },
   "file_extension": ".py",
   "mimetype": "text/x-python",
   "name": "python",
   "nbconvert_exporter": "python",
   "pygments_lexer": "ipython2",
   "version": "2.7.14"
  }
 },
 "nbformat": 4,
 "nbformat_minor": 2
}
