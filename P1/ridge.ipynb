{
 "cells": [
  {
   "cell_type": "code",
   "execution_count": 1,
   "metadata": {},
   "outputs": [],
   "source": [
    "# Import libraries\n",
    "import numpy as np\n",
    "import pandas as pd\n",
    "from sklearn.linear_model import LinearRegression as Lin_Reg\n",
    "from sklearn.linear_model import Ridge\n",
    "from sklearn.metrics import mean_squared_error\n",
    "from sklearn.linear_model import Lasso\n",
    "import matplotlib\n",
    "import matplotlib.pyplot as plt\n",
    "import matplotlib.cm as cmx\n",
    "import matplotlib.colors as colors\n",
    "import scipy as sp\n",
    "%matplotlib inline\n",
    "\n",
<<<<<<< HEAD
    "from collections import Counter"
=======
    "from collections import Counter\n",
    "\n",
    "# Load training and test sets (assumes you have these in current working directory)\n",
    "train = pd.read_csv(\"train.csv\")\n",
    "test = pd.read_csv(\"test.csv\")\n",
    "# Split training set into X and y (removing first column containing IDs)\n",
    "X_train = train.iloc[:, 1:-1]\n",
    "y_train = train.iloc[:, -1]\n",
    "\n",
    "# Define function to compute RMSE\n",
    "def scoreRMSE(predictor, X, true_y):\n",
    "    predictions = predictor.predict(X)\n",
    "    return np.sqrt(mean_squared_error(predictions, true_y))\n",
    "\n",
    "from sklearn.model_selection import KFold\n",
    "def kfold(k, predictor, X):\n",
    "    kf = KFold(n_splits = k, random_state = 0)\n",
    "    count = 0\n",
    "    coeff_used = 0 \n",
    "    for trains, tests in kf.split(X):\n",
    "        x_train = X.iloc[trains, 1:-1]\n",
    "        y_train = X.iloc[trains, -1]\n",
    "        x_test = X.iloc[tests, 1:-1]\n",
    "        y_test = X.iloc[tests, -1]\n",
    "        predictor.fit(x_train, y_train)\n",
    "        predictions = predictor.predict(x_test)\n",
    "        count += np.sqrt(mean_squared_error(predictions, unit_round(y_test)))\n",
    "        coeff_used += np.sum(predictor.coef_!=0)\n",
    "    return count/k\n",
    "\n",
    "def unit_round(y_array):\n",
    "    for y in y_array:\n",
    "        if y < 0:\n",
    "            y = 0\n",
    "        if y > 1:\n",
    "            y = 1\n",
    "    return y_array\n",
    "    "
>>>>>>> f55662659e41538491e39d9000edb9e5b6efde16
   ]
  },
  {
   "cell_type": "code",
<<<<<<< HEAD
   "execution_count": 2,
   "metadata": {},
   "outputs": [],
   "source": [
    "# Load training and test sets (assumes you have these in current working directory)\n",
    "train = pd.read_csv(\"train.csv\")\n",
    "test = pd.read_csv(\"test.csv\")"
=======
   "execution_count": 3,
   "metadata": {},
   "outputs": [
    {
     "name": "stdout",
     "output_type": "stream",
     "text": [
      "TRAINING RMSE: 0.026357953023403557\n"
     ]
    },
    {
     "data": {
      "text/plain": [
       "<matplotlib.collections.PathCollection at 0x10ac747b8>"
      ]
     },
     "execution_count": 3,
     "metadata": {},
     "output_type": "execute_result"
    },
    {
     "data": {
      "image/png": "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\n",
      "text/plain": [
       "<Figure size 432x288 with 1 Axes>"
      ]
     },
     "metadata": {
      "needs_background": "light"
     },
     "output_type": "display_data"
    }
   ],
   "source": [
    "# ridge regression\n",
    "rr = Ridge(alpha = 0.01)\n",
    "rr.fit(X_train, y_train)\n",
    "print(\"TRAINING RMSE:\", scoreRMSE(rr, X_train, y_train))\n",
    "prediction = rr.predict(X_train)\n",
    "plt.scatter(prediction, y_train)"
>>>>>>> f55662659e41538491e39d9000edb9e5b6efde16
   ]
  },
  {
   "cell_type": "code",
<<<<<<< HEAD
   "execution_count": 3,
   "metadata": {},
   "outputs": [],
   "source": [
    "# Split training set into X and y (removing first column containing IDs)\n",
    "X_train = train.iloc[:, 1:-1]\n",
    "y_train = train.iloc[:, -1]"
=======
   "execution_count": 4,
   "metadata": {},
   "outputs": [
    {
     "name": "stdout",
     "output_type": "stream",
     "text": [
      "0.02744802553565275\n",
      "0.027972577683165006\n"
     ]
    }
   ],
   "source": [
    "print(kfold(10, Lasso(alpha = 10**-4), train))\n",
    "print(kfold(10, Lasso(), train))"
>>>>>>> f55662659e41538491e39d9000edb9e5b6efde16
   ]
  },
  {
   "cell_type": "code",
<<<<<<< HEAD
   "execution_count": 4,
   "metadata": {},
   "outputs": [],
   "source": [
    "# Define function to compute RMSE\n",
    "def scoreRMSE(predictor, X, true_y):\n",
    "    predictions = predictor.predict(X)\n",
    "    return np.sqrt(mean_squared_error(predictions, true_y))"
=======
   "execution_count": 5,
   "metadata": {},
   "outputs": [
    {
     "name": "stdout",
     "output_type": "stream",
     "text": [
      "0.027251917479214682\n",
      "0.02726106067390489\n",
      "0.027249426121184025\n"
     ]
    }
   ],
   "source": [
    "print(kfold(5, Ridge(alpha = 10**1), train))\n",
    "print(kfold(10, Ridge(alpha = 10**1.5), train))\n",
    "print(kfold(15, Ridge(alpha = 10**1.5), train))"
>>>>>>> f55662659e41538491e39d9000edb9e5b6efde16
   ]
  },
  {
   "cell_type": "code",
<<<<<<< HEAD
   "execution_count": 5,
   "metadata": {},
   "outputs": [
    {
     "ename": "SyntaxError",
     "evalue": "invalid syntax (<ipython-input-5-91e417ffb4f6>, line 3)",
     "output_type": "error",
     "traceback": [
      "\u001b[0;36m  File \u001b[0;32m\"<ipython-input-5-91e417ffb4f6>\"\u001b[0;36m, line \u001b[0;32m3\u001b[0m\n\u001b[0;31m    print \"TRAINING RMSE:\", scoreRMSE(rr, X_train, y_train)\u001b[0m\n\u001b[0m                         ^\u001b[0m\n\u001b[0;31mSyntaxError\u001b[0m\u001b[0;31m:\u001b[0m invalid syntax\n"
=======
   "execution_count": 43,
   "metadata": {},
   "outputs": [
    {
     "name": "stdout",
     "output_type": "stream",
     "text": [
      "10 folds\n",
      "1e-10 0.13001469468026766\n",
      "1e-08 0.028717990350055327\n",
      "1e-06 0.027888444197912365\n",
      "0.0001 0.02788759452119577\n",
      "0.01 0.02785337885849116\n",
      "1 0.027452928577104053\n",
      "======\n",
      "5 folds\n",
      "1e-10 0.162071500156964\n",
      "1e-08 0.028769355519006324\n",
      "1e-06 0.028052144305038124\n",
      "0.0001 0.028051229041438214\n",
      "0.01 0.028002810738069726\n",
      "1 0.027479992292171025\n",
      "======\n",
      "15 folds\n",
      "1e-10 0.1001580835898616\n",
      "1e-08 0.02855939120175371\n",
      "1e-06 0.027909624113536036\n",
      "0.0001 0.027908844284835883\n",
      "0.01 0.027875029327060437\n",
      "1 0.02745622862188565\n"
>>>>>>> f55662659e41538491e39d9000edb9e5b6efde16
     ]
    }
   ],
   "source": [
<<<<<<< HEAD
    "rr = Ridge(alpha = 0.01)\n",
    "rr.fit(X_train, y_train)\n",
    "print \"TRAINING RMSE:\", scoreRMSE(rr, X_train, y_train)"
=======
    "# what should alpha be? turns out it doesn't really matter \n",
    "print \"10 folds\"\n",
    "for alpha in list(10**x for x in range(-12, 3, 2)):\n",
    "    print alpha, kfold(10, Ridge(alpha = alpha), train)\n",
    "\n",
    "print \"======\"\n",
    "print \"5 folds\"\n",
    "for alpha in list(10**x for x in range(-12, 3, 2)):\n",
    "    print alpha, kfold(5, Ridge(alpha = alpha), train)\n",
    "\n",
    "print \"======\"\n",
    "print \"15 folds\"\n",
    "for alpha in list(10**x for x in range(-12, 3, 2)):\n",
    "    print alpha, kfold(15, Ridge(alpha = alpha), train)"
>>>>>>> f55662659e41538491e39d9000edb9e5b6efde16
   ]
  },
  {
   "cell_type": "code",
<<<<<<< HEAD
   "execution_count": 6,
   "metadata": {},
   "outputs": [
    {
     "ename": "SyntaxError",
     "evalue": "invalid syntax (<ipython-input-6-a9c4651b4a50>, line 4)",
     "output_type": "error",
     "traceback": [
      "\u001b[0;36m  File \u001b[0;32m\"<ipython-input-6-a9c4651b4a50>\"\u001b[0;36m, line \u001b[0;32m4\u001b[0m\n\u001b[0;31m    print \"TRAINING RMSE:\", scoreRMSE(lasso, X_train, y_train)\u001b[0m\n\u001b[0m                         ^\u001b[0m\n\u001b[0;31mSyntaxError\u001b[0m\u001b[0;31m:\u001b[0m invalid syntax\n"
     ]
    }
   ],
   "source": [
    "lasso = Lasso(alpha = 0.000001)\n",
    "lasso.fit(X_train,y_train)\n",
    "coeff_used = np.sum(lasso.coef_!=0)\n",
    "print \"TRAINING RMSE:\", scoreRMSE(lasso, X_train, y_train)\n",
    "print coeff_used\n",
    "prediction = lasso.predict(X_train)\n",
=======
   "execution_count": 14,
   "metadata": {},
   "outputs": [
    {
     "name": "stdout",
     "output_type": "stream",
     "text": [
      "-4\n",
      "COEFF USED: 9\n",
      "TRAINING RMSE: 0.027426477245999246\n"
     ]
    },
    {
     "data": {
      "text/plain": [
       "<matplotlib.collections.PathCollection at 0x1023e2910>"
      ]
     },
     "execution_count": 14,
     "metadata": {},
     "output_type": "execute_result"
    },
    {
     "data": {
      "image/png": "iVBORw0KGgoAAAANSUhEUgAAAYsAAAD8CAYAAACGsIhGAAAABHNCSVQICAgIfAhkiAAAAAlwSFlz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\n",
      "text/plain": [
       "<matplotlib.figure.Figure at 0x10a763c90>"
      ]
     },
     "metadata": {},
     "output_type": "display_data"
    }
   ],
   "source": [
    "# lasso regression. gives everything a 0.92\n",
    "for alpha in [-4]:\n",
    "    lasso = Lasso(alpha = 10**alpha)\n",
    "    lasso.fit(X_train,y_train)\n",
    "    print alpha\n",
    "    print \"COEFF USED:\", np.sum(lasso.coef_!=0)\n",
    "    print \"TRAINING RMSE:\", scoreRMSE(lasso, X_train, y_train)\n",
    "    prediction = lasso.predict(X_train)\n",
>>>>>>> f55662659e41538491e39d9000edb9e5b6efde16
    "plt.scatter(prediction, y_train)"
   ]
  },
  {
   "cell_type": "code",
   "execution_count": 7,
   "metadata": {},
   "outputs": [
    {
<<<<<<< HEAD
     "ename": "SyntaxError",
     "evalue": "invalid syntax (<ipython-input-7-487eb2edba37>, line 6)",
     "output_type": "error",
     "traceback": [
      "\u001b[0;36m  File \u001b[0;32m\"<ipython-input-7-487eb2edba37>\"\u001b[0;36m, line \u001b[0;32m6\u001b[0m\n\u001b[0;31m    print \"TRAINING RMSE:\", scoreRMSE(elastic, X_train, y_train)\u001b[0m\n\u001b[0m                         ^\u001b[0m\n\u001b[0;31mSyntaxError\u001b[0m\u001b[0;31m:\u001b[0m invalid syntax\n"
=======
     "name": "stdout",
     "output_type": "stream",
     "text": [
      "10 folds\n"
     ]
    },
    {
     "name": "stderr",
     "output_type": "stream",
     "text": [
      "/Users/michaelyue/anaconda/lib/python3.6/site-packages/sklearn/linear_model/coordinate_descent.py:491: ConvergenceWarning: Objective did not converge. You might want to increase the number of iterations. Fitting data with very small alpha may cause precision problems.\n",
      "  ConvergenceWarning)\n"
     ]
    },
    {
     "name": "stdout",
     "output_type": "stream",
     "text": [
      "1e-10 0.027882633883628417\n",
      "1e-09 0.027882384052530386\n",
      "1e-08 0.027879910462535858\n",
      "1e-07 0.027855741173532438\n",
      "1e-06 0.0276995717839462\n",
      "1e-05 0.0272644785226414\n",
      "0.0001 0.02744802553565275\n",
      "0.001 0.027972577683165006\n",
      "0.01 0.027972577683165006\n",
      "0.1 0.027972577683165006\n",
      "1 0.027972577683165006\n",
      "10 0.027972577683165006\n",
      "100 0.027972577683165006\n"
     ]
    }
   ],
   "source": [
    "# change values of alpha. this shit takes forever to run and doesn't even do that well\n",
    "print(\"10 folds\")\n",
    "for alpha in list(10**x for x in range(-10, 3, 1)):\n",
    "    print(alpha, kfold(10, Lasso(alpha = alpha), train))\n",
    "\n",
    "    "
   ]
  },
  {
   "cell_type": "code",
   "execution_count": 5,
   "metadata": {},
   "outputs": [
    {
     "name": "stdout",
     "output_type": "stream",
     "text": [
      "0.027972577683165006\n"
     ]
    }
   ],
   "source": [
    "print kfold(10, Lasso(alpha = 10**1), train)"
   ]
  },
  {
   "cell_type": "code",
   "execution_count": 15,
   "metadata": {},
   "outputs": [
    {
     "name": "stdout",
     "output_type": "stream",
     "text": [
      "TRAINING RMSE: 0.027045282763387007\n",
      "42\n"
>>>>>>> f55662659e41538491e39d9000edb9e5b6efde16
     ]
    }
   ],
   "source": [
    "from sklearn.linear_model import ElasticNet\n",
    "# need to test alpha, l1_ratio\n",
    "elastic = ElasticNet(random_state = 0, alpha = 0.0001, l1_ratio = 0.3)\n",
    "elastic.fit(X_train, y_train)\n",
    "coeff_used = np.sum(elastic.coef_!=0)\n",
    "print \"TRAINING RMSE:\", scoreRMSE(elastic, X_train, y_train)\n",
    "print coeff_used"
   ]
  },
  {
   "cell_type": "code",
<<<<<<< HEAD
   "execution_count": 8,
=======
   "execution_count": 16,
>>>>>>> f55662659e41538491e39d9000edb9e5b6efde16
   "metadata": {},
   "outputs": [
    {
     "data": {
      "text/plain": [
<<<<<<< HEAD
       "18"
      ]
     },
     "execution_count": 8,
=======
       "152"
      ]
     },
     "execution_count": 16,
>>>>>>> f55662659e41538491e39d9000edb9e5b6efde16
     "metadata": {},
     "output_type": "execute_result"
    }
   ],
   "source": [
<<<<<<< HEAD
    "sum(X_train.var() > 0.01)"
=======
    "sum(X_train.var() > 0.001)"
>>>>>>> f55662659e41538491e39d9000edb9e5b6efde16
   ]
  },
  {
   "cell_type": "code",
<<<<<<< HEAD
   "execution_count": 10,
   "metadata": {},
   "outputs": [
    {
     "data": {
      "text/plain": [
       "0.027452928577104053"
      ]
     },
     "execution_count": 10,
     "metadata": {},
     "output_type": "execute_result"
    }
   ],
   "source": [
    "from sklearn.cross_validation import KFold\n",
=======
   "execution_count": 11,
   "metadata": {},
   "outputs": [
    {
     "ename": "ImportError",
     "evalue": "No module named cross_validation",
     "output_type": "error",
     "traceback": [
      "\u001b[0;31m---------------------------------------------------------------------------\u001b[0m",
      "\u001b[0;31mImportError\u001b[0m                               Traceback (most recent call last)",
      "\u001b[0;32m<ipython-input-11-031e24d23116>\u001b[0m in \u001b[0;36m<module>\u001b[0;34m()\u001b[0m\n\u001b[0;32m----> 1\u001b[0;31m \u001b[0;32mfrom\u001b[0m \u001b[0msklearn\u001b[0m\u001b[0;34m.\u001b[0m\u001b[0mcross_validation\u001b[0m \u001b[0;32mimport\u001b[0m \u001b[0mKFold\u001b[0m\u001b[0;34m\u001b[0m\u001b[0m\n\u001b[0m\u001b[1;32m      2\u001b[0m \u001b[0;34m\u001b[0m\u001b[0m\n\u001b[1;32m      3\u001b[0m \u001b[0;32mdef\u001b[0m \u001b[0mkfold\u001b[0m\u001b[0;34m(\u001b[0m\u001b[0mk\u001b[0m\u001b[0;34m,\u001b[0m \u001b[0mpredictor\u001b[0m\u001b[0;34m,\u001b[0m \u001b[0mX\u001b[0m\u001b[0;34m)\u001b[0m\u001b[0;34m:\u001b[0m\u001b[0;34m\u001b[0m\u001b[0m\n\u001b[1;32m      4\u001b[0m     \u001b[0mkf\u001b[0m \u001b[0;34m=\u001b[0m \u001b[0mKFold\u001b[0m\u001b[0;34m(\u001b[0m\u001b[0mX\u001b[0m\u001b[0;34m.\u001b[0m\u001b[0mshape\u001b[0m\u001b[0;34m[\u001b[0m\u001b[0;36m0\u001b[0m\u001b[0;34m]\u001b[0m\u001b[0;34m,\u001b[0m \u001b[0mk\u001b[0m\u001b[0;34m)\u001b[0m\u001b[0;34m\u001b[0m\u001b[0m\n\u001b[1;32m      5\u001b[0m     \u001b[0mcount\u001b[0m \u001b[0;34m=\u001b[0m \u001b[0;36m0\u001b[0m\u001b[0;34m\u001b[0m\u001b[0m\n",
      "\u001b[0;31mImportError\u001b[0m: No module named cross_validation"
     ]
    }
   ],
   "source": [
    "from sklearn.model import KFold\n",
>>>>>>> f55662659e41538491e39d9000edb9e5b6efde16
    "\n",
    "def kfold(k, predictor, X):\n",
    "    kf = KFold(X.shape[0], k)\n",
    "    count = 0\n",
    "    for trains, tests in kf:\n",
    "        x_train = X.iloc[trains, 1:-1]\n",
    "        y_train = X.iloc[trains, -1]\n",
    "        x_test = X.iloc[tests, 1:-1]\n",
    "        y_test = X.iloc[tests, -1]\n",
    "        predictor.fit(x_train, y_train)\n",
    "        predictions = predictor.predict(x_test)\n",
    "        count += np.sqrt(mean_squared_error(predictions, y_test))\n",
    "    return count/k\n",
    "\n",
    "kfold(10, Ridge(), train)"
   ]
  },
  {
   "cell_type": "code",
   "execution_count": 10,
   "metadata": {},
   "outputs": [],
   "source": [
    "# Make predictions using linear regression model fitted above\n",
    "predictions = linReg.predict(X_test)"
   ]
  },
  {
   "cell_type": "code",
   "execution_count": 11,
   "metadata": {},
   "outputs": [
    {
     "data": {
      "text/html": [
       "<div>\n",
       "<style scoped>\n",
       "    .dataframe tbody tr th:only-of-type {\n",
       "        vertical-align: middle;\n",
       "    }\n",
       "\n",
       "    .dataframe tbody tr th {\n",
       "        vertical-align: top;\n",
       "    }\n",
       "\n",
       "    .dataframe thead th {\n",
       "        text-align: right;\n",
       "    }\n",
       "</style>\n",
       "<table border=\"1\" class=\"dataframe\">\n",
       "  <thead>\n",
       "    <tr style=\"text-align: right;\">\n",
       "      <th></th>\n",
       "      <th>Id</th>\n",
       "      <th>Predicted</th>\n",
       "    </tr>\n",
       "  </thead>\n",
       "  <tbody>\n",
       "    <tr>\n",
       "      <th>0</th>\n",
       "      <td>1</td>\n",
       "      <td>0.934613</td>\n",
       "    </tr>\n",
       "    <tr>\n",
       "      <th>1</th>\n",
       "      <td>2</td>\n",
       "      <td>0.925099</td>\n",
       "    </tr>\n",
       "    <tr>\n",
       "      <th>2</th>\n",
       "      <td>3</td>\n",
       "      <td>0.922504</td>\n",
       "    </tr>\n",
       "    <tr>\n",
       "      <th>3</th>\n",
       "      <td>4</td>\n",
       "      <td>0.934105</td>\n",
       "    </tr>\n",
       "    <tr>\n",
       "      <th>4</th>\n",
       "      <td>5</td>\n",
       "      <td>0.926756</td>\n",
       "    </tr>\n",
       "  </tbody>\n",
       "</table>\n",
       "</div>"
      ],
      "text/plain": [
       "  Id  Predicted\n",
       "0  1   0.934613\n",
       "1  2   0.925099\n",
       "2  3   0.922504\n",
       "3  4   0.934105\n",
       "4  5   0.926756"
      ]
     },
     "execution_count": 11,
     "metadata": {},
     "output_type": "execute_result"
    }
   ],
   "source": [
    "# Format predictions to be compatible with Kaggle upload\n",
    "sample_submission = pd.DataFrame(data=predictions, columns=['Predicted'])\n",
    "sample_submission.insert(0, \"Id\", range(1, 1 + X_test.shape[0]))\n",
    "sample_submission['Id'] = sample_submission['Id'].astype(str)\n",
    "sample_submission.head()"
   ]
  },
  {
   "cell_type": "code",
   "execution_count": 12,
   "metadata": {},
   "outputs": [],
   "source": [
    "# Save predictions to .csv file for upload to Kaggle\n",
    "sample_submission.to_csv(\"sample_submission.csv\", index=False)"
   ]
  },
  {
   "cell_type": "code",
   "execution_count": null,
   "metadata": {},
   "outputs": [],
   "source": []
  }
 ],
 "metadata": {
  "anaconda-cloud": {},
  "kernelspec": {
   "display_name": "Python 3",
   "language": "python",
   "name": "python3"
  },
  "language_info": {
   "codemirror_mode": {
    "name": "ipython",
    "version": 3
   },
   "file_extension": ".py",
   "mimetype": "text/x-python",
   "name": "python",
   "nbconvert_exporter": "python",
   "pygments_lexer": "ipython3",
   "version": "3.6.6"
  }
 },
 "nbformat": 4,
 "nbformat_minor": 2
}
