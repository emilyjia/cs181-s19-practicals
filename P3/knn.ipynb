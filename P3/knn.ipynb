{
 "cells": [
  {
   "cell_type": "code",
   "execution_count": 1,
   "metadata": {},
   "outputs": [],
   "source": [
    "%matplotlib inline\n",
    "import re\n",
    "import numpy as np\n",
    "import pandas as pd\n",
    "import string\n",
    "import matplotlib.pyplot as plt\n",
    "import librosa\n",
    "import librosa.display\n",
    "import IPython.display as ipd"
   ]
  },
  {
   "cell_type": "code",
   "execution_count": 13,
   "metadata": {},
   "outputs": [],
   "source": [
    "import util\n",
    "from sklearn.ensemble import RandomForestClassifier\n",
    "from sklearn.neighbors import KNeighborsClassifier\n",
    "from sklearn.cluster import KMeans\n",
    "from sklearn.model_selection import GridSearchCV\n",
    "from sklearn.preprocessing import scale\n",
    "from sklearn.neural_network import MLPClassifier"
   ]
  },
  {
   "cell_type": "code",
   "execution_count": 3,
   "metadata": {},
   "outputs": [],
   "source": [
    "### ignore warnings caused by librosa \n",
    "import warnings\n",
    "warnings.filterwarnings(\"ignore\")"
   ]
  },
  {
   "cell_type": "code",
   "execution_count": 28,
   "metadata": {},
   "outputs": [],
   "source": [
    "SAMPLE_RATE = 22050"
   ]
  },
  {
   "cell_type": "code",
   "execution_count": 29,
   "metadata": {},
   "outputs": [],
   "source": [
    "T = 4.0    # seconds\n",
    "t = np.linspace(0, T, int(T*SAMPLE_RATE), endpoint=False) # time variable\n",
    "freq = 440\n",
    "signal = np.sin(2*np.pi*freq*t)"
   ]
  },
  {
   "cell_type": "code",
   "execution_count": 30,
   "metadata": {},
   "outputs": [],
   "source": [
    "train = np.load(\"data/train.npy\")\n",
    "X_train = train[:,1:]\n",
    "y_train = train[:,0]\n",
    "X_labeled = X_train[y_train != -1]\n",
    "y_labeled = y_train[y_train != -1]\n",
    "X_unlabeled = X_train[y_train == -1]\n",
    "y_unlabeled = y_train[y_train == -1]\n",
    "del train\n",
    "\n",
    "test = np.load(\"data/test.npy\")\n",
    "X_test = test[:,1:]\n",
    "del test"
   ]
  },
  {
   "cell_type": "code",
   "execution_count": 31,
   "metadata": {},
   "outputs": [],
   "source": [
    "# save everything so your life stops ending every time kernel crashes\n",
    "np.save(\"X_train.npy\", X_train)\n",
    "np.save(\"y_train.npy\", y_train)\n",
    "np.save(\"X_labeled.npy\", X_labeled)\n",
    "np.save(\"y_labeled.npy\", y_labeled)\n",
    "np.save(\"X_test.npy\", X_test)"
   ]
  },
  {
   "cell_type": "code",
   "execution_count": 32,
   "metadata": {},
   "outputs": [
    {
     "name": "stdout",
     "output_type": "stream",
     "text": [
      "N: 6374\n",
      "Train shape (6374, 88200)\n"
     ]
    }
   ],
   "source": [
    "# Just some re-shaping and dimension finding\n",
    "N = 6374\n",
    "print(\"N:\",N)\n",
    "print(\"Train shape\",X_train.shape)\n",
    "N_train = X_train.shape[0]\n",
    "NUM_SAMPLES = X_train.shape[1]-1"
   ]
  },
  {
   "cell_type": "code",
   "execution_count": 33,
   "metadata": {},
   "outputs": [],
   "source": [
    "# JUST SOME FOURIER TRANSFORM PARAMETERS\n",
    "BINS_OCTAVE = 12*2\n",
    "N_OCTAVES = 7\n",
    "NUM_BINS = BINS_OCTAVE * N_OCTAVES"
   ]
  },
  {
   "cell_type": "code",
   "execution_count": 34,
   "metadata": {},
   "outputs": [],
   "source": [
    "# Given a wav time series, makes a mel spectrogram\n",
    "# which is a short-time fourier transform with\n",
    "# frequencies on the mel (log) scale.\n",
    "def mel_spec(y):\n",
    "    Q = librosa.cqt(y=y, sr=SAMPLE_RATE, bins_per_octave=BINS_OCTAVE,n_bins=NUM_BINS)\n",
    "    Q_db = librosa.amplitude_to_db(Q,ref=np.max)\n",
    "    return Q_db"
   ]
  },
  {
   "cell_type": "code",
   "execution_count": 16,
   "metadata": {},
   "outputs": [
    {
     "name": "stdout",
     "output_type": "stream",
     "text": [
      "(168, 173)\n"
     ]
    }
   ],
   "source": [
    "# This means that the spectrograms are 168 rows (frequencies)\n",
    "# By 173 columns (time frames)\n",
    "song = X_train[0]\n",
    "test_spec = mel_spec(song)\n",
    "print(test_spec.shape)\n",
    "FEATS = test_spec.shape[0]\n",
    "FRAMES = test_spec.shape[1]"
   ]
  },
  {
   "cell_type": "code",
   "execution_count": 26,
   "metadata": {},
   "outputs": [
    {
     "data": {
      "text/plain": [
       "<matplotlib.axes._subplots.AxesSubplot at 0x1b1ba991c88>"
      ]
     },
     "execution_count": 26,
     "metadata": {},
     "output_type": "execute_result"
    },
    {
     "data": {
      "image/png": "[encoded data removed]",
      "text/plain": [
       "<Figure size 432x288 with 1 Axes>"
      ]
     },
     "metadata": {},
     "output_type": "display_data"
    }
   ],
   "source": [
    "# librosa.display.specshow(tmp_train[2], y_axis='hz')\n",
    "librosa.display.specshow(mfccs[17])#, y_axis='hz')"
   ]
  },
  {
   "cell_type": "code",
   "execution_count": 50,
   "metadata": {},
   "outputs": [
    {
     "data": {
      "text/plain": [
       "(20, 173)"
      ]
     },
     "execution_count": 50,
     "metadata": {},
     "output_type": "execute_result"
    }
   ],
   "source": [
    "mfccs[17].shape"
   ]
  },
  {
   "cell_type": "code",
   "execution_count": 18,
   "metadata": {},
   "outputs": [
    {
     "data": {
      "text/plain": [
       "(168, 173)"
      ]
     },
     "execution_count": 18,
     "metadata": {},
     "output_type": "execute_result"
    }
   ],
   "source": [
    "signal = X_train[0]\n",
    "librosa.feature.mfcc(signal).shape\n",
    "mel_spec(signal).shape"
   ]
  },
  {
   "cell_type": "code",
   "execution_count": 35,
   "metadata": {},
   "outputs": [],
   "source": [
    "def get_feats(d):\n",
    "    mfccs = []\n",
    "    mels = []\n",
    "    tempos = []\n",
    "    tempograms = []\n",
    "    for signal in d:\n",
    "        mfcc = librosa.feature.mfcc(signal)\n",
    "        mel = np.mean(mel_spec(signal), axis = 0)\n",
    "        tempo = librosa.beat.tempo(signal)[0]\n",
    "        tempogram = np.mean(librosa.beat.tempogram(signal), axis = 0)\n",
    "        mfccs.append(mfcc)\n",
    "        mels.append(mel)\n",
    "        tempos.append(tempo)\n",
    "        tempograms.append(tempograms)\n",
    "    return mfccs, mels, tempos, tempograms"
   ]
  },
  {
   "cell_type": "code",
   "execution_count": null,
   "metadata": {
    "scrolled": true
   },
   "outputs": [],
   "source": [
    "data = zip(X_labeled, y_labeled)\n",
    "\n",
    "\n",
    "\n",
    "mfccs, mels, tempos, tempograms = get_feats(data)\n",
    "\n",
    "# save your features otherwise you will be sad\n",
    "np.save(\"mfccs.npy\", mfccs)\n",
    "np.save(\"mels.npy\", mels)\n",
    "np.save(\"tempos.npy\", tempos)\n",
    "np.save(\"tempograms.npy\", tempograms)"
   ]
  },
  {
   "cell_type": "code",
   "execution_count": 4,
   "metadata": {},
   "outputs": [],
   "source": [
    "X_labeled = np.load(\"X_labeled.npy\")\n",
    "y_labeled = np.load(\"y_labeled.npy\")\n",
    "data = zip(X_labeled, y_labeled)"
   ]
  },
  {
   "cell_type": "code",
   "execution_count": 5,
   "metadata": {},
   "outputs": [],
   "source": [
    "mfccs = np.load(\"mfccs.npy\")\n",
    "mels = np.load(\"mels.npy\")\n",
    "tempos = np.load(\"tempos.npy\")\n",
    "tempograms = np.load(\"tempograms.npy\")"
   ]
  },
  {
   "cell_type": "code",
   "execution_count": 7,
   "metadata": {},
   "outputs": [],
   "source": [
    "X_train = np.load(\"X_train.npy\")"
   ]
  },
  {
   "cell_type": "code",
   "execution_count": 9,
   "metadata": {},
   "outputs": [],
   "source": [
    "feats = []\n",
    "for i in range(len(tempos)):\n",
    "    feat = np.concatenate((mfccs[i].flatten(), mels[i]))\n",
    "    feats.append(feat)      \n",
    "\n",
    "            "
   ]
  },
  {
   "cell_type": "code",
   "execution_count": 63,
   "metadata": {},
   "outputs": [
    {
     "data": {
      "text/plain": [
       "2941"
      ]
     },
     "execution_count": 63,
     "metadata": {},
     "output_type": "execute_result"
    }
   ],
   "source": [
    "len(mfccs[i][3:].flatten())"
   ]
  },
  {
   "cell_type": "code",
   "execution_count": 67,
   "metadata": {},
   "outputs": [],
   "source": []
  },
  {
   "cell_type": "code",
   "execution_count": 73,
   "metadata": {},
   "outputs": [
    {
     "data": {
      "text/plain": [
       "3634"
      ]
     },
     "execution_count": 73,
     "metadata": {},
     "output_type": "execute_result"
    }
   ],
   "source": []
  },
  {
   "cell_type": "code",
   "execution_count": 10,
   "metadata": {},
   "outputs": [],
   "source": [
    "scale0 = scale(feats)"
   ]
  },
  {
   "cell_type": "code",
   "execution_count": 52,
   "metadata": {},
   "outputs": [],
   "source": [
    "scale2 = scale(feats2)"
   ]
  },
  {
   "cell_type": "code",
   "execution_count": 8,
   "metadata": {},
   "outputs": [],
   "source": [
    "labels = np.load(\"y_labeled.npy\")"
   ]
  },
  {
   "cell_type": "code",
   "execution_count": 54,
   "metadata": {},
   "outputs": [
    {
     "name": "stdout",
     "output_type": "stream",
     "text": [
      "Fitting 4 folds for each of 1 candidates, totalling 4 fits\n"
     ]
    },
    {
     "name": "stderr",
     "output_type": "stream",
     "text": [
      "[Parallel(n_jobs=-1)]: Using backend LokyBackend with 4 concurrent workers.\n",
      "[Parallel(n_jobs=-1)]: Done   4 out of   4 | elapsed:   11.5s finished\n"
     ]
    },
    {
     "data": {
      "text/plain": [
       "GridSearchCV(cv=4, error_score='raise-deprecating',\n",
       "       estimator=KNeighborsClassifier(algorithm='auto', leaf_size=30, metric='minkowski',\n",
       "           metric_params=None, n_jobs=None, n_neighbors=5, p=2,\n",
       "           weights='uniform'),\n",
       "       fit_params=None, iid='warn', n_jobs=-1,\n",
       "       param_grid={'n_neighbors': [1]}, pre_dispatch='2*n_jobs',\n",
       "       refit=True, return_train_score='warn', scoring='accuracy',\n",
       "       verbose=3)"
      ]
     },
     "execution_count": 54,
     "metadata": {},
     "output_type": "execute_result"
    }
   ],
   "source": [
    "params = {\"n_neighbors\": [1]}\n",
    "gs = GridSearchCV(KNeighborsClassifier(), params, n_jobs=-1, scoring='accuracy', cv=4, verbose=3)\n",
    "gs.fit(scale0, labels)"
   ]
  },
  {
   "cell_type": "code",
   "execution_count": 55,
   "metadata": {},
   "outputs": [
    {
     "name": "stdout",
     "output_type": "stream",
     "text": [
      "{'n_neighbors': 1}"
     ]
    },
    {
     "data": {
      "text/plain": [
       "0.6545296922410057"
      ]
     },
     "execution_count": 55,
     "metadata": {},
     "output_type": "execute_result"
    },
    {
     "name": "stdout",
     "output_type": "stream",
     "text": [
      "\n"
     ]
    }
   ],
   "source": [
    "print(gs.best_params_), \n",
    "gs.best_score_"
   ]
  },
  {
   "cell_type": "code",
   "execution_count": 65,
   "metadata": {
    "scrolled": true
   },
   "outputs": [
    {
     "name": "stdout",
     "output_type": "stream",
     "text": [
      "Fitting 4 folds for each of 1 candidates, totalling 4 fits\n"
     ]
    },
    {
     "name": "stderr",
     "output_type": "stream",
     "text": [
      "[Parallel(n_jobs=-1)]: Using backend LokyBackend with 4 concurrent workers.\n",
      "[Parallel(n_jobs=-1)]: Done   4 out of   4 | elapsed:    4.8s finished\n"
     ]
    },
    {
     "data": {
      "text/plain": [
       "GridSearchCV(cv=4, error_score='raise-deprecating',\n",
       "       estimator=RandomForestClassifier(bootstrap=True, class_weight=None, criterion='gini',\n",
       "            max_depth=None, max_features='auto', max_leaf_nodes=None,\n",
       "            min_impurity_decrease=0.0, min_impurity_split=None,\n",
       "            min_samples_leaf=1, min_samples_split=2,\n",
       "            min_weight_fraction_leaf=0.0, n_estimators='warn', n_jobs=None,\n",
       "            oob_score=False, random_state=None, verbose=0,\n",
       "            warm_start=False),\n",
       "       fit_params=None, iid='warn', n_jobs=-1, param_grid={},\n",
       "       pre_dispatch='2*n_jobs', refit=True, return_train_score='warn',\n",
       "       scoring='accuracy', verbose=3)"
      ]
     },
     "execution_count": 65,
     "metadata": {},
     "output_type": "execute_result"
    }
   ],
   "source": [
    "params = { }\n",
    "gs = GridSearchCV(RandomForestClassifier(), params, n_jobs=-1, scoring='accuracy', cv=4, verbose=3)\n",
    "gs.fit(scale0, labels)"
   ]
  },
  {
   "cell_type": "code",
   "execution_count": 66,
   "metadata": {},
   "outputs": [
    {
     "name": "stdout",
     "output_type": "stream",
     "text": [
      "{}"
     ]
    },
    {
     "data": {
      "text/plain": [
       "0.6376246207195492"
      ]
     },
     "execution_count": 66,
     "metadata": {},
     "output_type": "execute_result"
    },
    {
     "name": "stdout",
     "output_type": "stream",
     "text": [
      "\n"
     ]
    }
   ],
   "source": [
    "print(gs.best_params_), \n",
    "gs.best_score_"
   ]
  },
  {
   "cell_type": "code",
   "execution_count": 11,
   "metadata": {},
   "outputs": [
    {
     "name": "stdout",
     "output_type": "stream",
     "text": [
      "Fitting 4 folds for each of 1 candidates, totalling 4 fits\n"
     ]
    },
    {
     "name": "stderr",
     "output_type": "stream",
     "text": [
      "[Parallel(n_jobs=-1)]: Done   4 out of   4 | elapsed:   32.1s finished\n"
     ]
    },
    {
     "data": {
      "text/plain": [
       "GridSearchCV(cv=4, error_score='raise',\n",
       "       estimator=KMeans(algorithm='auto', copy_x=True, init='k-means++', max_iter=5000,\n",
       "    n_clusters=10, n_init=10, n_jobs=1, precompute_distances='auto',\n",
       "    random_state=None, tol=0.0001, verbose=0),\n",
       "       fit_params=None, iid=True, n_jobs=-1, param_grid={},\n",
       "       pre_dispatch='2*n_jobs', refit=True, return_train_score='warn',\n",
       "       scoring='accuracy', verbose=3)"
      ]
     },
     "execution_count": 11,
     "metadata": {},
     "output_type": "execute_result"
    }
   ],
   "source": [
    "\n",
    "params = {}\n",
    "gs2 = GridSearchCV(KMeans(n_clusters=10,max_iter=5000), params, n_jobs=-1, scoring='accuracy', cv=4, verbose=3)\n",
    "gs2.fit(scale0, labels)"
   ]
  },
  {
   "cell_type": "code",
   "execution_count": 12,
   "metadata": {},
   "outputs": [
    {
     "data": {
      "text/plain": [
       "0.09406155179887299"
      ]
     },
     "execution_count": 12,
     "metadata": {},
     "output_type": "execute_result"
    }
   ],
   "source": [
    "gs2.best_score_"
   ]
  },
  {
   "cell_type": "code",
   "execution_count": 14,
   "metadata": {},
   "outputs": [],
   "source": [
    "mfccs_trunc = mfccs[:,3:,:]\n",
    "mfccs_trunc.shape\n",
    "mfccs_trunc = mfccs_trunc.reshape((2307, 17*173))"
   ]
  },
  {
   "cell_type": "code",
   "execution_count": 19,
   "metadata": {},
   "outputs": [
    {
     "name": "stdout",
     "output_type": "stream",
     "text": [
      "Fitting 4 folds for each of 1 candidates, totalling 4 fits\n"
     ]
    },
    {
     "name": "stderr",
     "output_type": "stream",
     "text": [
      "[Parallel(n_jobs=-1)]: Done   4 out of   4 | elapsed:  1.0min finished\n"
     ]
    },
    {
     "data": {
      "text/plain": [
       "GridSearchCV(cv=4, error_score='raise',\n",
       "       estimator=RandomForestClassifier(bootstrap=True, class_weight=None, criterion='gini',\n",
       "            max_depth=None, max_features='auto', max_leaf_nodes=None,\n",
       "            min_impurity_decrease=0.0, min_impurity_split=None,\n",
       "            min_samples_leaf=1, min_samples_split=2,\n",
       "            min_weight_fraction_leaf=0.0, n_estimators=200, n_jobs=1,\n",
       "            oob_score=False, random_state=None, verbose=0,\n",
       "            warm_start=False),\n",
       "       fit_params=None, iid=True, n_jobs=-1, param_grid={},\n",
       "       pre_dispatch='2*n_jobs', refit=True, return_train_score='warn',\n",
       "       scoring='accuracy', verbose=3)"
      ]
     },
     "execution_count": 19,
     "metadata": {},
     "output_type": "execute_result"
    }
   ],
   "source": [
    "rfc = RandomForestClassifier(n_estimators=200)\n",
    "params = { }\n",
    "gs3 = GridSearchCV(rfc, params, n_jobs=-1, scoring='accuracy', cv=4, verbose=3)\n",
    "gs3.fit(scale(mfccs_trunc), labels)"
   ]
  },
  {
   "cell_type": "code",
   "execution_count": 20,
   "metadata": {},
   "outputs": [
    {
     "data": {
      "text/plain": [
       "0.6419592544429996"
      ]
     },
     "execution_count": 20,
     "metadata": {},
     "output_type": "execute_result"
    }
   ],
   "source": [
    "gs3.best_score_"
   ]
  },
  {
   "cell_type": "code",
   "execution_count": 17,
   "metadata": {},
   "outputs": [
    {
     "name": "stdout",
     "output_type": "stream",
     "text": [
      "Fitting 4 folds for each of 1 candidates, totalling 4 fits\n"
     ]
    },
    {
     "name": "stderr",
     "output_type": "stream",
     "text": [
      "[Parallel(n_jobs=-1)]: Done   4 out of   4 | elapsed:  1.2min finished\n"
     ]
    },
    {
     "data": {
      "text/plain": [
       "GridSearchCV(cv=4, error_score='raise',\n",
       "       estimator=MLPClassifier(activation='relu', alpha=0.0001, batch_size='auto', beta_1=0.9,\n",
       "       beta_2=0.999, early_stopping=False, epsilon=1e-08,\n",
       "       hidden_layer_sizes=(100,), learning_rate='constant',\n",
       "       learning_rate_init=0.001, max_iter=200, momentum=0.9,\n",
       "       nesterovs_momentum=True, power_t=0.5, random_state=None,\n",
       "       shuffle=True, solver='adam', tol=0.0001, validation_fraction=0.1,\n",
       "       verbose=False, warm_start=False),\n",
       "       fit_params=None, iid=True, n_jobs=-1, param_grid={},\n",
       "       pre_dispatch='2*n_jobs', refit=True, return_train_score='warn',\n",
       "       scoring='accuracy', verbose=3)"
      ]
     },
     "execution_count": 17,
     "metadata": {},
     "output_type": "execute_result"
    }
   ],
   "source": [
    "params = { }\n",
    "gs4 = GridSearchCV(MLPClassifier(), params, n_jobs=-1, scoring='accuracy', cv=4, verbose=3)\n",
    "gs4.fit(scale(mfccs_trunc), labels)"
   ]
  },
  {
   "cell_type": "code",
   "execution_count": 18,
   "metadata": {},
   "outputs": [
    {
     "data": {
      "text/plain": [
       "0.5929778933680104"
      ]
     },
     "execution_count": 18,
     "metadata": {},
     "output_type": "execute_result"
    }
   ],
   "source": [
    "gs4.best_score_"
   ]
  },
  {
   "cell_type": "markdown",
   "metadata": {},
   "source": [
    "## predicting stuff"
   ]
  },
  {
   "cell_type": "code",
   "execution_count": null,
   "metadata": {},
   "outputs": [],
   "source": []
  },
  {
   "cell_type": "code",
   "execution_count": 73,
   "metadata": {},
   "outputs": [],
   "source": [
    "X_test = np.load(\"X_test.npy\")\n",
    "test_feats = []\n",
    "\n",
    "mfccs, mels, tempos, tempograms = get_feats(X_test)\n",
    "for i in range(len(tempos)):\n",
    "    feat = np.concatenate((np.array([tempos[i]]), mfccs[i].flatten(), mels[i]))\n",
    "    test_feats.append(feat)      \n"
   ]
  },
  {
   "cell_type": "code",
   "execution_count": 74,
   "metadata": {},
   "outputs": [],
   "source": [
    "preds = gs.best_estimator_.predict(test_feats)\n",
    "# util.write_predictions(preds, range(len(preds)), \"rfc, mfccflat, melmean, tempo, scaled.csv\")"
   ]
  },
  {
   "cell_type": "code",
   "execution_count": 76,
   "metadata": {},
   "outputs": [
    {
     "name": "stdout",
     "output_type": "stream",
     "text": [
      "2.0\n",
      "2.0\n",
      "5.0\n",
      "2.0\n",
      "5.0\n",
      "2.0\n",
      "2.0\n",
      "3.0\n",
      "2.0\n",
      "5.0\n",
      "2.0\n",
      "5.0\n",
      "2.0\n",
      "5.0\n",
      "2.0\n",
      "5.0\n",
      "5.0\n",
      "5.0\n",
      "5.0\n",
      "9.0\n",
      "2.0\n",
      "5.0\n",
      "5.0\n",
      "5.0\n",
      "5.0\n",
      "0.0\n",
      "5.0\n",
      "2.0\n",
      "3.0\n",
      "3.0\n",
      "5.0\n",
      "5.0\n",
      "5.0\n",
      "2.0\n",
      "5.0\n",
      "0.0\n",
      "2.0\n",
      "3.0\n",
      "2.0\n",
      "5.0\n",
      "5.0\n",
      "5.0\n",
      "5.0\n",
      "5.0\n",
      "9.0\n",
      "5.0\n",
      "3.0\n",
      "2.0\n",
      "5.0\n",
      "5.0\n",
      "2.0\n",
      "5.0\n",
      "5.0\n",
      "3.0\n",
      "5.0\n",
      "3.0\n",
      "2.0\n",
      "5.0\n",
      "5.0\n",
      "2.0\n",
      "5.0\n",
      "5.0\n",
      "5.0\n",
      "5.0\n",
      "5.0\n",
      "5.0\n",
      "3.0\n",
      "2.0\n",
      "0.0\n",
      "5.0\n",
      "2.0\n",
      "5.0\n",
      "5.0\n",
      "5.0\n",
      "5.0\n",
      "5.0\n",
      "5.0\n",
      "5.0\n",
      "2.0\n",
      "5.0\n",
      "5.0\n",
      "2.0\n",
      "5.0\n",
      "5.0\n",
      "3.0\n",
      "5.0\n",
      "5.0\n",
      "5.0\n",
      "5.0\n",
      "5.0\n",
      "5.0\n",
      "5.0\n",
      "5.0\n",
      "0.0\n",
      "5.0\n",
      "2.0\n",
      "5.0\n",
      "5.0\n",
      "5.0\n",
      "3.0\n",
      "5.0\n",
      "3.0\n",
      "2.0\n",
      "5.0\n",
      "2.0\n",
      "2.0\n",
      "0.0\n",
      "2.0\n",
      "5.0\n",
      "2.0\n",
      "5.0\n",
      "2.0\n",
      "2.0\n",
      "0.0\n",
      "3.0\n",
      "5.0\n",
      "5.0\n",
      "2.0\n",
      "5.0\n",
      "0.0\n",
      "5.0\n",
      "5.0\n",
      "5.0\n",
      "5.0\n",
      "3.0\n",
      "5.0\n",
      "0.0\n",
      "5.0\n",
      "2.0\n",
      "2.0\n",
      "0.0\n",
      "5.0\n",
      "5.0\n",
      "2.0\n",
      "5.0\n",
      "5.0\n",
      "2.0\n",
      "5.0\n",
      "9.0\n",
      "5.0\n",
      "5.0\n",
      "5.0\n",
      "5.0\n",
      "3.0\n",
      "2.0\n",
      "5.0\n",
      "0.0\n",
      "5.0\n",
      "2.0\n",
      "2.0\n",
      "5.0\n",
      "5.0\n",
      "5.0\n",
      "2.0\n",
      "2.0\n",
      "5.0\n",
      "3.0\n",
      "5.0\n",
      "5.0\n",
      "2.0\n",
      "2.0\n",
      "5.0\n",
      "5.0\n",
      "5.0\n",
      "5.0\n",
      "2.0\n",
      "5.0\n",
      "3.0\n",
      "5.0\n",
      "3.0\n",
      "3.0\n",
      "2.0\n",
      "5.0\n",
      "5.0\n",
      "2.0\n",
      "5.0\n",
      "3.0\n",
      "5.0\n",
      "5.0\n",
      "2.0\n",
      "5.0\n",
      "5.0\n",
      "2.0\n",
      "5.0\n",
      "2.0\n",
      "2.0\n",
      "2.0\n",
      "5.0\n",
      "5.0\n",
      "2.0\n",
      "3.0\n",
      "5.0\n",
      "5.0\n",
      "2.0\n",
      "2.0\n",
      "5.0\n",
      "2.0\n",
      "2.0\n",
      "5.0\n",
      "5.0\n",
      "5.0\n",
      "3.0\n",
      "5.0\n",
      "5.0\n",
      "5.0\n",
      "5.0\n",
      "2.0\n",
      "2.0\n",
      "5.0\n",
      "5.0\n",
      "5.0\n",
      "2.0\n",
      "5.0\n",
      "5.0\n",
      "3.0\n",
      "2.0\n",
      "5.0\n",
      "2.0\n",
      "5.0\n",
      "2.0\n",
      "5.0\n",
      "5.0\n",
      "5.0\n",
      "5.0\n",
      "5.0\n",
      "3.0\n",
      "5.0\n",
      "5.0\n",
      "2.0\n",
      "5.0\n",
      "5.0\n",
      "2.0\n",
      "5.0\n",
      "2.0\n",
      "5.0\n",
      "2.0\n",
      "2.0\n",
      "2.0\n",
      "2.0\n",
      "2.0\n",
      "2.0\n",
      "5.0\n",
      "5.0\n",
      "2.0\n",
      "5.0\n",
      "5.0\n",
      "2.0\n",
      "5.0\n",
      "5.0\n",
      "2.0\n",
      "5.0\n",
      "2.0\n",
      "5.0\n",
      "5.0\n",
      "5.0\n",
      "5.0\n",
      "2.0\n",
      "5.0\n",
      "2.0\n",
      "5.0\n",
      "5.0\n",
      "5.0\n",
      "2.0\n",
      "2.0\n",
      "5.0\n",
      "2.0\n",
      "5.0\n",
      "5.0\n",
      "2.0\n",
      "2.0\n",
      "5.0\n",
      "2.0\n",
      "2.0\n",
      "2.0\n",
      "5.0\n",
      "0.0\n",
      "3.0\n",
      "5.0\n",
      "5.0\n",
      "5.0\n",
      "2.0\n",
      "2.0\n",
      "0.0\n",
      "0.0\n",
      "5.0\n",
      "5.0\n",
      "2.0\n",
      "5.0\n",
      "3.0\n",
      "2.0\n",
      "5.0\n",
      "5.0\n",
      "5.0\n",
      "2.0\n",
      "2.0\n",
      "5.0\n",
      "5.0\n",
      "2.0\n",
      "5.0\n",
      "5.0\n",
      "2.0\n",
      "2.0\n",
      "2.0\n",
      "5.0\n",
      "5.0\n",
      "2.0\n",
      "5.0\n",
      "2.0\n",
      "5.0\n",
      "5.0\n",
      "5.0\n",
      "2.0\n",
      "2.0\n",
      "2.0\n",
      "5.0\n",
      "5.0\n",
      "5.0\n",
      "5.0\n",
      "2.0\n",
      "5.0\n",
      "5.0\n",
      "2.0\n",
      "3.0\n",
      "2.0\n",
      "2.0\n",
      "5.0\n",
      "9.0\n",
      "9.0\n",
      "5.0\n",
      "3.0\n",
      "5.0\n",
      "5.0\n",
      "5.0\n",
      "2.0\n",
      "5.0\n",
      "5.0\n",
      "5.0\n",
      "5.0\n",
      "5.0\n",
      "5.0\n",
      "5.0\n",
      "5.0\n",
      "5.0\n",
      "5.0\n",
      "3.0\n",
      "5.0\n",
      "5.0\n",
      "5.0\n",
      "2.0\n",
      "3.0\n",
      "2.0\n",
      "3.0\n",
      "9.0\n",
      "2.0\n",
      "3.0\n",
      "2.0\n",
      "5.0\n",
      "3.0\n",
      "0.0\n",
      "5.0\n",
      "2.0\n",
      "5.0\n",
      "5.0\n",
      "2.0\n",
      "2.0\n",
      "5.0\n",
      "2.0\n",
      "2.0\n",
      "9.0\n",
      "3.0\n",
      "2.0\n",
      "5.0\n",
      "2.0\n",
      "0.0\n",
      "2.0\n",
      "0.0\n",
      "2.0\n",
      "2.0\n",
      "3.0\n",
      "3.0\n",
      "2.0\n",
      "3.0\n",
      "5.0\n",
      "5.0\n",
      "2.0\n",
      "2.0\n",
      "2.0\n",
      "5.0\n",
      "5.0\n",
      "2.0\n",
      "5.0\n",
      "5.0\n",
      "5.0\n",
      "2.0\n",
      "5.0\n",
      "5.0\n",
      "2.0\n",
      "5.0\n",
      "5.0\n",
      "5.0\n",
      "5.0\n",
      "2.0\n",
      "2.0\n",
      "5.0\n",
      "3.0\n",
      "2.0\n",
      "5.0\n",
      "5.0\n",
      "5.0\n",
      "3.0\n",
      "3.0\n",
      "5.0\n",
      "2.0\n",
      "2.0\n",
      "5.0\n",
      "5.0\n",
      "5.0\n",
      "2.0\n",
      "5.0\n",
      "5.0\n",
      "5.0\n",
      "0.0\n",
      "5.0\n",
      "2.0\n",
      "3.0\n",
      "5.0\n",
      "5.0\n",
      "2.0\n",
      "5.0\n",
      "5.0\n",
      "3.0\n",
      "5.0\n",
      "5.0\n",
      "5.0\n",
      "5.0\n",
      "5.0\n",
      "2.0\n",
      "5.0\n",
      "2.0\n",
      "5.0\n",
      "5.0\n",
      "2.0\n",
      "2.0\n",
      "5.0\n",
      "3.0\n",
      "0.0\n",
      "5.0\n",
      "2.0\n",
      "2.0\n",
      "5.0\n",
      "5.0\n",
      "2.0\n",
      "2.0\n",
      "5.0\n",
      "5.0\n",
      "3.0\n",
      "5.0\n",
      "3.0\n",
      "5.0\n",
      "5.0\n",
      "2.0\n",
      "5.0\n",
      "5.0\n",
      "2.0\n",
      "9.0\n",
      "2.0\n",
      "5.0\n",
      "5.0\n",
      "3.0\n",
      "5.0\n",
      "5.0\n",
      "5.0\n",
      "2.0\n",
      "5.0\n",
      "5.0\n",
      "3.0\n",
      "2.0\n",
      "5.0\n",
      "5.0\n",
      "5.0\n",
      "0.0\n",
      "2.0\n",
      "5.0\n",
      "5.0\n",
      "2.0\n",
      "2.0\n",
      "2.0\n",
      "2.0\n",
      "2.0\n",
      "5.0\n",
      "3.0\n",
      "2.0\n",
      "5.0\n",
      "2.0\n",
      "2.0\n",
      "3.0\n",
      "3.0\n",
      "5.0\n",
      "5.0\n",
      "5.0\n",
      "2.0\n",
      "5.0\n",
      "5.0\n",
      "5.0\n",
      "5.0\n",
      "5.0\n",
      "0.0\n",
      "5.0\n",
      "5.0\n",
      "3.0\n",
      "3.0\n",
      "2.0\n",
      "5.0\n",
      "5.0\n",
      "5.0\n",
      "5.0\n",
      "5.0\n",
      "5.0\n",
      "2.0\n",
      "2.0\n",
      "5.0\n",
      "2.0\n",
      "5.0\n",
      "5.0\n",
      "0.0\n",
      "5.0\n",
      "5.0\n",
      "9.0\n",
      "5.0\n",
      "2.0\n",
      "3.0\n",
      "2.0\n",
      "3.0\n",
      "5.0\n",
      "5.0\n",
      "2.0\n",
      "5.0\n",
      "2.0\n",
      "5.0\n",
      "5.0\n",
      "5.0\n",
      "5.0\n",
      "2.0\n",
      "5.0\n",
      "2.0\n",
      "2.0\n",
      "5.0\n",
      "2.0\n",
      "2.0\n",
      "5.0\n",
      "5.0\n",
      "2.0\n",
      "5.0\n",
      "2.0\n",
      "2.0\n",
      "5.0\n",
      "2.0\n",
      "5.0\n",
      "5.0\n",
      "2.0\n",
      "2.0\n",
      "2.0\n",
      "5.0\n",
      "3.0\n",
      "3.0\n",
      "3.0\n",
      "3.0\n",
      "5.0\n",
      "5.0\n",
      "5.0\n",
      "5.0\n",
      "5.0\n",
      "5.0\n",
      "3.0\n",
      "3.0\n",
      "2.0\n",
      "5.0\n",
      "2.0\n",
      "3.0\n",
      "2.0\n",
      "5.0\n",
      "3.0\n",
      "5.0\n",
      "5.0\n",
      "5.0\n",
      "3.0\n",
      "5.0\n",
      "5.0\n",
      "5.0\n",
      "2.0\n",
      "2.0\n",
      "2.0\n",
      "5.0\n",
      "2.0\n",
      "2.0\n",
      "5.0\n",
      "2.0\n",
      "5.0\n",
      "5.0\n",
      "5.0\n",
      "2.0\n",
      "5.0\n",
      "5.0\n",
      "5.0\n",
      "2.0\n",
      "5.0\n",
      "9.0\n",
      "5.0\n",
      "2.0\n",
      "5.0\n",
      "2.0\n",
      "2.0\n",
      "5.0\n",
      "5.0\n",
      "5.0\n",
      "2.0\n",
      "5.0\n",
      "5.0\n",
      "5.0\n",
      "2.0\n",
      "2.0\n",
      "3.0\n",
      "5.0\n",
      "2.0\n",
      "5.0\n",
      "5.0\n",
      "5.0\n",
      "5.0\n",
      "5.0\n",
      "5.0\n",
      "5.0\n",
      "5.0\n",
      "3.0\n",
      "5.0\n",
      "2.0\n",
      "2.0\n",
      "5.0\n",
      "2.0\n",
      "5.0\n",
      "5.0\n",
      "5.0\n",
      "3.0\n",
      "2.0\n",
      "5.0\n",
      "5.0\n",
      "2.0\n",
      "2.0\n",
      "5.0\n",
      "3.0\n",
      "5.0\n",
      "3.0\n",
      "5.0\n",
      "5.0\n",
      "3.0\n",
      "2.0\n",
      "5.0\n",
      "5.0\n",
      "2.0\n",
      "3.0\n",
      "5.0\n",
      "2.0\n",
      "5.0\n",
      "5.0\n",
      "5.0\n",
      "2.0\n",
      "2.0\n",
      "2.0\n",
      "5.0\n",
      "2.0\n",
      "5.0\n",
      "2.0\n",
      "2.0\n",
      "3.0\n",
      "2.0\n",
      "2.0\n",
      "5.0\n",
      "5.0\n",
      "5.0\n",
      "2.0\n",
      "3.0\n",
      "5.0\n",
      "3.0\n",
      "5.0\n",
      "2.0\n",
      "5.0\n",
      "5.0\n",
      "0.0\n",
      "2.0\n",
      "5.0\n",
      "5.0\n",
      "2.0\n",
      "5.0\n",
      "2.0\n",
      "2.0\n",
      "2.0\n",
      "5.0\n",
      "5.0\n",
      "5.0\n",
      "5.0\n",
      "5.0\n",
      "3.0\n",
      "3.0\n",
      "5.0\n",
      "0.0\n",
      "2.0\n",
      "5.0\n",
      "5.0\n",
      "2.0\n",
      "2.0\n",
      "5.0\n",
      "2.0\n",
      "2.0\n",
      "5.0\n",
      "3.0\n",
      "5.0\n",
      "5.0\n",
      "5.0\n",
      "5.0\n",
      "2.0\n",
      "0.0\n",
      "5.0\n",
      "2.0\n",
      "2.0\n",
      "2.0\n",
      "5.0\n",
      "5.0\n",
      "9.0\n",
      "3.0\n",
      "5.0\n",
      "5.0\n",
      "5.0\n",
      "5.0\n",
      "2.0\n",
      "2.0\n",
      "5.0\n",
      "5.0\n",
      "2.0\n",
      "3.0\n",
      "3.0\n",
      "2.0\n",
      "2.0\n",
      "5.0\n",
      "5.0\n",
      "0.0\n",
      "5.0\n",
      "5.0\n",
      "2.0\n",
      "5.0\n",
      "9.0\n",
      "2.0\n",
      "2.0\n",
      "5.0\n",
      "2.0\n",
      "5.0\n",
      "2.0\n",
      "5.0\n",
      "2.0\n",
      "2.0\n",
      "2.0\n",
      "5.0\n",
      "5.0\n",
      "5.0\n",
      "2.0\n",
      "2.0\n",
      "9.0\n",
      "5.0\n",
      "5.0\n",
      "5.0\n",
      "2.0\n",
      "2.0\n",
      "5.0\n",
      "9.0\n",
      "5.0\n",
      "5.0\n",
      "5.0\n",
      "2.0\n",
      "9.0\n",
      "5.0\n",
      "5.0\n",
      "0.0\n",
      "5.0\n",
      "5.0\n",
      "3.0\n",
      "5.0\n",
      "5.0\n",
      "9.0\n",
      "5.0\n",
      "5.0\n",
      "5.0\n",
      "2.0\n",
      "5.0\n",
      "2.0\n",
      "9.0\n",
      "5.0\n",
      "2.0\n",
      "5.0\n",
      "3.0\n",
      "2.0\n",
      "5.0\n",
      "2.0\n",
      "3.0\n",
      "5.0\n",
      "5.0\n",
      "5.0\n",
      "2.0\n",
      "9.0\n",
      "3.0\n",
      "0.0\n",
      "5.0\n",
      "2.0\n",
      "5.0\n",
      "5.0\n",
      "5.0\n",
      "5.0\n",
      "5.0\n",
      "5.0\n",
      "5.0\n",
      "5.0\n",
      "5.0\n",
      "0.0\n",
      "3.0\n",
      "5.0\n",
      "5.0\n",
      "2.0\n",
      "5.0\n",
      "5.0\n",
      "5.0\n",
      "5.0\n",
      "5.0\n",
      "3.0\n",
      "2.0\n",
      "5.0\n",
      "9.0\n",
      "5.0\n",
      "0.0\n",
      "2.0\n",
      "5.0\n",
      "5.0\n",
      "2.0\n",
      "2.0\n",
      "5.0\n",
      "5.0\n",
      "5.0\n",
      "5.0\n",
      "5.0\n",
      "5.0\n",
      "5.0\n",
      "5.0\n",
      "0.0\n",
      "2.0\n",
      "5.0\n",
      "3.0\n",
      "5.0\n",
      "2.0\n",
      "3.0\n",
      "5.0\n",
      "5.0\n",
      "5.0\n",
      "0.0\n",
      "2.0\n",
      "2.0\n",
      "2.0\n",
      "5.0\n",
      "5.0\n",
      "3.0\n",
      "3.0\n",
      "5.0\n",
      "2.0\n",
      "2.0\n",
      "5.0\n",
      "5.0\n",
      "5.0\n",
      "5.0\n",
      "5.0\n",
      "5.0\n",
      "5.0\n",
      "2.0\n",
      "5.0\n",
      "5.0\n",
      "5.0\n",
      "5.0\n",
      "5.0\n",
      "5.0\n",
      "2.0\n",
      "5.0\n",
      "2.0\n",
      "5.0\n",
      "5.0\n",
      "5.0\n",
      "2.0\n",
      "5.0\n",
      "2.0\n",
      "5.0\n",
      "3.0\n",
      "5.0\n",
      "5.0\n",
      "5.0\n",
      "2.0\n",
      "5.0\n",
      "5.0\n",
      "5.0\n",
      "5.0\n",
      "0.0\n",
      "0.0\n",
      "5.0\n",
      "2.0\n",
      "5.0\n",
      "5.0\n",
      "5.0\n",
      "5.0\n",
      "3.0\n",
      "5.0\n",
      "5.0\n",
      "2.0\n",
      "2.0\n",
      "5.0\n",
      "2.0\n",
      "9.0\n",
      "5.0\n",
      "5.0\n",
      "2.0\n",
      "2.0\n",
      "5.0\n",
      "5.0\n",
      "2.0\n",
      "9.0\n",
      "5.0\n",
      "2.0\n",
      "5.0\n",
      "2.0\n",
      "5.0\n",
      "2.0\n",
      "5.0\n",
      "2.0\n",
      "5.0\n",
      "5.0\n",
      "3.0\n",
      "5.0\n",
      "3.0\n",
      "5.0\n",
      "2.0\n",
      "5.0\n",
      "5.0\n",
      "5.0\n",
      "5.0\n",
      "2.0\n",
      "5.0\n",
      "5.0\n",
      "5.0\n",
      "5.0\n",
      "9.0\n"
     ]
    }
   ],
   "source": [
    "for x in preds:\n",
    "    print x"
   ]
  },
  {
   "cell_type": "code",
   "execution_count": null,
   "metadata": {},
   "outputs": [],
   "source": []
  }
 ],
 "metadata": {
  "kernelspec": {
   "display_name": "Python 3",
   "language": "python",
   "name": "python3"
  },
  "language_info": {
   "codemirror_mode": {
    "name": "ipython",
    "version": 3
   },
   "file_extension": ".py",
   "mimetype": "text/x-python",
   "name": "python",
   "nbconvert_exporter": "python",
   "pygments_lexer": "ipython3",
   "version": "3.6.5"
  }
 },
 "nbformat": 4,
 "nbformat_minor": 2
}
