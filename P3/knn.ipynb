{
 "cells": [
  {
   "cell_type": "code",
   "execution_count": 1,
   "metadata": {},
   "outputs": [],
   "source": [
    "%matplotlib inline\n",
    "import re\n",
    "import numpy as np\n",
    "import pandas as pd\n",
    "import string\n",
    "import matplotlib.pyplot as plt\n",
    "import librosa\n",
    "import librosa.display\n",
    "import IPython.display as ipd"
   ]
  },
  {
   "cell_type": "code",
   "execution_count": 2,
   "metadata": {},
   "outputs": [],
   "source": [
    "import util\n",
    "from sklearn.ensemble import RandomForestClassifier, GradientBoostingClassifier\n",
    "from sklearn.neighbors import KNeighborsClassifier\n",
    "from sklearn.cluster import KMeans\n",
    "from sklearn.model_selection import GridSearchCV\n",
    "from sklearn.preprocessing import scale\n",
    "from sklearn.neural_network import MLPClassifier"
   ]
  },
  {
   "cell_type": "code",
   "execution_count": 3,
   "metadata": {},
   "outputs": [],
   "source": [
    "### ignore warnings caused by librosa \n",
    "import warnings\n",
    "warnings.filterwarnings(\"ignore\")"
   ]
  },
  {
   "cell_type": "code",
   "execution_count": 4,
   "metadata": {},
   "outputs": [],
   "source": [
    "SAMPLE_RATE = 22050"
   ]
  },
  {
   "cell_type": "code",
   "execution_count": 5,
   "metadata": {},
   "outputs": [],
   "source": [
    "T = 4.0    # seconds\n",
    "t = np.linspace(0, T, int(T*SAMPLE_RATE), endpoint=False) # time variable\n",
    "freq = 440\n",
    "signal = np.sin(2*np.pi*freq*t)"
   ]
  },
  {
   "cell_type": "code",
   "execution_count": 5,
   "metadata": {},
   "outputs": [],
   "source": [
    "train = np.load(\"data/train.npy\")\n",
    "X_train = train[:,1:]\n",
    "y_train = train[:,0]\n",
    "X_labeled = X_train[y_train != -1]\n",
    "y_labeled = y_train[y_train != -1]\n",
    "X_unlabeled = X_train[y_train == -1]\n",
    "y_unlabeled = y_train[y_train == -1]\n",
    "del train\n",
    "\n",
    "test = np.load(\"data/test.npy\")\n",
    "X_test = test[:,1:]\n",
    "del test"
   ]
  },
  {
   "cell_type": "code",
   "execution_count": 6,
   "metadata": {},
   "outputs": [
    {
     "ename": "NameError",
     "evalue": "name 'X_train' is not defined",
     "output_type": "error",
     "traceback": [
      "\u001b[1;31m---------------------------------------------------------------------------\u001b[0m",
      "\u001b[1;31mNameError\u001b[0m                                 Traceback (most recent call last)",
      "\u001b[1;32m<ipython-input-6-7603372bdab4>\u001b[0m in \u001b[0;36m<module>\u001b[1;34m()\u001b[0m\n\u001b[0;32m      1\u001b[0m \u001b[1;31m# save everything so your life stops ending every time kernel crashes\u001b[0m\u001b[1;33m\u001b[0m\u001b[1;33m\u001b[0m\u001b[0m\n\u001b[1;32m----> 2\u001b[1;33m \u001b[0mnp\u001b[0m\u001b[1;33m.\u001b[0m\u001b[0msave\u001b[0m\u001b[1;33m(\u001b[0m\u001b[1;34m\"X_train.npy\"\u001b[0m\u001b[1;33m,\u001b[0m \u001b[0mX_train\u001b[0m\u001b[1;33m)\u001b[0m\u001b[1;33m\u001b[0m\u001b[0m\n\u001b[0m\u001b[0;32m      3\u001b[0m \u001b[0mnp\u001b[0m\u001b[1;33m.\u001b[0m\u001b[0msave\u001b[0m\u001b[1;33m(\u001b[0m\u001b[1;34m\"y_train.npy\"\u001b[0m\u001b[1;33m,\u001b[0m \u001b[0my_train\u001b[0m\u001b[1;33m)\u001b[0m\u001b[1;33m\u001b[0m\u001b[0m\n\u001b[0;32m      4\u001b[0m \u001b[0mnp\u001b[0m\u001b[1;33m.\u001b[0m\u001b[0msave\u001b[0m\u001b[1;33m(\u001b[0m\u001b[1;34m\"X_labeled.npy\"\u001b[0m\u001b[1;33m,\u001b[0m \u001b[0mX_labeled\u001b[0m\u001b[1;33m)\u001b[0m\u001b[1;33m\u001b[0m\u001b[0m\n\u001b[0;32m      5\u001b[0m \u001b[0mnp\u001b[0m\u001b[1;33m.\u001b[0m\u001b[0msave\u001b[0m\u001b[1;33m(\u001b[0m\u001b[1;34m\"y_labeled.npy\"\u001b[0m\u001b[1;33m,\u001b[0m \u001b[0my_labeled\u001b[0m\u001b[1;33m)\u001b[0m\u001b[1;33m\u001b[0m\u001b[0m\n",
      "\u001b[1;31mNameError\u001b[0m: name 'X_train' is not defined"
     ]
    }
   ],
   "source": [
    "# save everything so your life stops ending every time kernel crashes\n",
    "np.save(\"X_train.npy\", X_train)\n",
    "np.save(\"y_train.npy\", y_train)\n",
    "np.save(\"X_labeled.npy\", X_labeled)\n",
    "np.save(\"y_labeled.npy\", y_labeled)\n",
    "np.save(\"X_test.npy\", X_test)"
   ]
  },
  {
   "cell_type": "code",
   "execution_count": 7,
   "metadata": {},
   "outputs": [
    {
     "name": "stdout",
     "output_type": "stream",
     "text": [
      "N: 6374\n"
     ]
    },
    {
     "ename": "NameError",
     "evalue": "name 'X_train' is not defined",
     "output_type": "error",
     "traceback": [
      "\u001b[1;31m---------------------------------------------------------------------------\u001b[0m",
      "\u001b[1;31mNameError\u001b[0m                                 Traceback (most recent call last)",
      "\u001b[1;32m<ipython-input-7-0b99ed01c57a>\u001b[0m in \u001b[0;36m<module>\u001b[1;34m()\u001b[0m\n\u001b[0;32m      2\u001b[0m \u001b[0mN\u001b[0m \u001b[1;33m=\u001b[0m \u001b[1;36m6374\u001b[0m\u001b[1;33m\u001b[0m\u001b[0m\n\u001b[0;32m      3\u001b[0m \u001b[0mprint\u001b[0m\u001b[1;33m(\u001b[0m\u001b[1;34m\"N:\"\u001b[0m\u001b[1;33m,\u001b[0m\u001b[0mN\u001b[0m\u001b[1;33m)\u001b[0m\u001b[1;33m\u001b[0m\u001b[0m\n\u001b[1;32m----> 4\u001b[1;33m \u001b[0mprint\u001b[0m\u001b[1;33m(\u001b[0m\u001b[1;34m\"Train shape\"\u001b[0m\u001b[1;33m,\u001b[0m\u001b[0mX_train\u001b[0m\u001b[1;33m.\u001b[0m\u001b[0mshape\u001b[0m\u001b[1;33m)\u001b[0m\u001b[1;33m\u001b[0m\u001b[0m\n\u001b[0m\u001b[0;32m      5\u001b[0m \u001b[0mN_train\u001b[0m \u001b[1;33m=\u001b[0m \u001b[0mX_train\u001b[0m\u001b[1;33m.\u001b[0m\u001b[0mshape\u001b[0m\u001b[1;33m[\u001b[0m\u001b[1;36m0\u001b[0m\u001b[1;33m]\u001b[0m\u001b[1;33m\u001b[0m\u001b[0m\n\u001b[0;32m      6\u001b[0m \u001b[0mNUM_SAMPLES\u001b[0m \u001b[1;33m=\u001b[0m \u001b[0mX_train\u001b[0m\u001b[1;33m.\u001b[0m\u001b[0mshape\u001b[0m\u001b[1;33m[\u001b[0m\u001b[1;36m1\u001b[0m\u001b[1;33m]\u001b[0m\u001b[1;33m-\u001b[0m\u001b[1;36m1\u001b[0m\u001b[1;33m\u001b[0m\u001b[0m\n",
      "\u001b[1;31mNameError\u001b[0m: name 'X_train' is not defined"
     ]
    }
   ],
   "source": [
    "# Just some re-shaping and dimension finding\n",
    "N = 6374\n",
    "print(\"N:\",N)\n",
    "print(\"Train shape\",X_train.shape)\n",
    "N_train = X_train.shape[0]\n",
    "NUM_SAMPLES = X_train.shape[1]-1"
   ]
  },
  {
   "cell_type": "code",
   "execution_count": 8,
   "metadata": {},
   "outputs": [],
   "source": [
    "# JUST SOME FOURIER TRANSFORM PARAMETERS\n",
    "BINS_OCTAVE = 12*2\n",
    "N_OCTAVES = 7\n",
    "NUM_BINS = BINS_OCTAVE * N_OCTAVES"
   ]
  },
  {
   "cell_type": "code",
   "execution_count": 9,
   "metadata": {},
   "outputs": [],
   "source": [
    "# Given a wav time series, makes a mel spectrogram\n",
    "# which is a short-time fourier transform with\n",
    "# frequencies on the mel (log) scale.\n",
    "def mel_spec(y):\n",
    "    Q = librosa.cqt(y=y, sr=SAMPLE_RATE, bins_per_octave=BINS_OCTAVE,n_bins=NUM_BINS)\n",
    "    Q_db = librosa.amplitude_to_db(Q,ref=np.max)\n",
    "    return Q_db"
   ]
  },
  {
   "cell_type": "code",
   "execution_count": 10,
   "metadata": {},
   "outputs": [
    {
     "name": "stdout",
     "output_type": "stream",
     "text": [
      "(168, 173)\n"
     ]
    }
   ],
   "source": [
    "# This means that the spectrograms are 168 rows (frequencies)\n",
    "# By 173 columns (time frames)\n",
    "song = X_train[0]\n",
    "test_spec = mel_spec(song)\n",
    "print(test_spec.shape)\n",
    "FEATS = test_spec.shape[0]\n",
    "FRAMES = test_spec.shape[1]"
   ]
  },
  {
   "cell_type": "code",
   "execution_count": 13,
   "metadata": {},
   "outputs": [
    {
     "data": {
      "text/plain": [
       "<matplotlib.axes._subplots.AxesSubplot at 0x1e638d12e8>"
      ]
     },
     "execution_count": 13,
     "metadata": {},
     "output_type": "execute_result"
    },
    {
     "data": {
      "image/png": "[encoded data removed]",
      "text/plain": [
       "<Figure size 432x288 with 1 Axes>"
      ]
     },
     "metadata": {},
     "output_type": "display_data"
    }
   ],
   "source": [
    "# librosa.display.specshow(tmp_train[2], y_axis='hz')\n",
    "librosa.display.specshow(mfccs[17])#, y_axis='hz')"
   ]
  },
  {
   "cell_type": "code",
   "execution_count": 50,
   "metadata": {},
   "outputs": [
    {
     "data": {
      "text/plain": [
       "(20, 173)"
      ]
     },
     "execution_count": 50,
     "metadata": {},
     "output_type": "execute_result"
    }
   ],
   "source": [
    "mfccs[17].shape"
   ]
  },
  {
   "cell_type": "code",
   "execution_count": 12,
   "metadata": {},
   "outputs": [
    {
     "data": {
      "text/plain": [
       "(168, 173)"
      ]
     },
     "execution_count": 12,
     "metadata": {},
     "output_type": "execute_result"
    }
   ],
   "source": [
    "signal = X_train[0]\n",
    "librosa.feature.mfcc(signal).shape\n",
    "mel_spec(signal).shape"
   ]
  },
  {
   "cell_type": "code",
   "execution_count": 60,
   "metadata": {},
   "outputs": [],
   "source": [
    "def get_feats(d):\n",
    "    mfccs = []\n",
    "    mels = []\n",
    "    tempos = []\n",
    "    tempograms = []\n",
    "    for signal in d:\n",
    "        mfcc = librosa.feature.mfcc(signal)\n",
    "        mel = np.mean(mel_spec(signal), axis = 0)\n",
    "        tempo = librosa.beat.tempo(signal)[0]\n",
    "        tempogram = np.mean(librosa.beat.tempogram(signal), axis = 0)\n",
    "        mfccs.append(mfcc)\n",
    "        mels.append(mel)\n",
    "        tempos.append(tempo)\n",
    "        tempograms.append(tempograms)\n",
    "    return mfccs, mels, tempos, tempograms"
   ]
  },
  {
   "cell_type": "code",
   "execution_count": null,
   "metadata": {},
   "outputs": [],
   "source": [
    "contrasts = []\n",
    "for signal in X_labeled:\n",
    "    contrasts.append(librosa.feature.spectral_contrast(signal))"
   ]
  },
  {
   "cell_type": "code",
   "execution_count": null,
   "metadata": {},
   "outputs": [
    {
     "name": "stdout",
     "output_type": "stream",
     "text": [
      "contrast done\n",
      "flatness done\n",
      "centroid done\n",
      "bandwidth done\n"
     ]
    }
   ],
   "source": [
    "contrasts = []\n",
    "for signal in X_labeled:\n",
    "    contrasts.append(librosa.feature.spectral_contrast(signal))\n",
    "np.save(\"contrasts.npy\", contrasts)\n",
    "del contrasts\n",
    "print(\"contrast done\")\n",
    "\n",
    "flatness = []\n",
    "for signal in X_labeled:\n",
    "    flatness.append(librosa.feature.spectral_flatness(signal))\n",
    "np.save(\"flatnesses.npy\", flatness)\n",
    "del flatness\n",
    "print(\"flatness done\")\n",
    "\n",
    "centroids = []\n",
    "for signal in X_labeled:\n",
    "    centroids.append(librosa.feature.spectral_centroid(signal))\n",
    "np.save(\"centroids.npy\", centroids)\n",
    "del centroids\n",
    "print(\"centroid done\")\n",
    "\n",
    "bandwidths = []\n",
    "for signal in X_labeled:\n",
    "    bandwidths.append(librosa.feature.spectral_bandwidth(signal))\n",
    "np.save(\"bandwidths.npy\", bandwidths)\n",
    "del bandwidths\n",
    "print(\"bandwidth done\")\n",
    "\n",
    "chroma = []\n",
    "for signal in X_labeled:\n",
    "    chroma.append(librosa.feature.chroma_cens(signal))\n",
    "np.save(\"chromas.npy\", chroma)\n",
    "del chroma\n",
    "print(\"chroma done\")"
   ]
  },
  {
   "cell_type": "code",
   "execution_count": null,
   "metadata": {
    "scrolled": true
   },
   "outputs": [],
   "source": [
    "data = zip(X_labeled, y_labeled)\n",
    "\n",
    "mfccs, mels, tempos, tempograms = get_feats(data)\n",
    "\n",
    "# save your features otherwise you will be sad\n",
    "np.save(\"mfccs.npy\", mfccs)\n",
    "np.save(\"mels.npy\", mels)\n",
    "np.save(\"tempos.npy\", tempos)\n",
    "np.save(\"tempograms.npy\", tempograms)"
   ]
  },
  {
   "cell_type": "code",
   "execution_count": 10,
   "metadata": {},
   "outputs": [],
   "source": [
    "X_labeled = np.load(\"X_labeled.npy\")\n",
    "y_labeled = np.load(\"y_labeled.npy\")\n",
    "data = zip(X_labeled, y_labeled)"
   ]
  },
  {
   "cell_type": "code",
   "execution_count": 11,
   "metadata": {},
   "outputs": [],
   "source": [
    "mfccs = np.load(\"mfccs.npy\")\n",
    "mels = np.load(\"mels.npy\")\n",
    "tempos = np.load(\"tempos.npy\")\n",
    "tempograms = np.load(\"tempograms.npy\")"
   ]
  },
  {
   "cell_type": "code",
   "execution_count": 12,
   "metadata": {},
   "outputs": [],
   "source": [
    "X_train = np.load(\"X_train.npy\")"
   ]
  },
  {
   "cell_type": "code",
   "execution_count": 9,
   "metadata": {},
   "outputs": [],
   "source": [
    "feats = []\n",
    "for i in range(len(tempos)):\n",
    "    feat = np.concatenate((mfccs[i].flatten(), mels[i]))\n",
    "    feats.append(feat)      \n",
    "\n",
    "            "
   ]
  },
  {
   "cell_type": "code",
   "execution_count": 63,
   "metadata": {},
   "outputs": [
    {
     "data": {
      "text/plain": [
       "2941"
      ]
     },
     "execution_count": 63,
     "metadata": {},
     "output_type": "execute_result"
    }
   ],
   "source": [
    "len(mfccs[i][3:].flatten())"
   ]
  },
  {
   "cell_type": "code",
   "execution_count": 67,
   "metadata": {},
   "outputs": [],
   "source": []
  },
  {
   "cell_type": "code",
   "execution_count": 73,
   "metadata": {},
   "outputs": [
    {
     "data": {
      "text/plain": [
       "3634"
      ]
     },
     "execution_count": 73,
     "metadata": {},
     "output_type": "execute_result"
    }
   ],
   "source": []
  },
  {
   "cell_type": "code",
   "execution_count": 10,
   "metadata": {},
   "outputs": [],
   "source": [
    "scale0 = scale(feats)"
   ]
  },
  {
   "cell_type": "code",
   "execution_count": 52,
   "metadata": {},
   "outputs": [],
   "source": [
    "scale2 = scale(feats2)"
   ]
  },
  {
   "cell_type": "code",
   "execution_count": 13,
   "metadata": {},
   "outputs": [],
   "source": [
    "labels = np.load(\"y_labeled.npy\")"
   ]
  },
  {
   "cell_type": "code",
   "execution_count": 54,
   "metadata": {},
   "outputs": [
    {
     "name": "stdout",
     "output_type": "stream",
     "text": [
      "Fitting 4 folds for each of 1 candidates, totalling 4 fits\n"
     ]
    },
    {
     "name": "stderr",
     "output_type": "stream",
     "text": [
      "[Parallel(n_jobs=-1)]: Using backend LokyBackend with 4 concurrent workers.\n",
      "[Parallel(n_jobs=-1)]: Done   4 out of   4 | elapsed:   11.5s finished\n"
     ]
    },
    {
     "data": {
      "text/plain": [
       "GridSearchCV(cv=4, error_score='raise-deprecating',\n",
       "       estimator=KNeighborsClassifier(algorithm='auto', leaf_size=30, metric='minkowski',\n",
       "           metric_params=None, n_jobs=None, n_neighbors=5, p=2,\n",
       "           weights='uniform'),\n",
       "       fit_params=None, iid='warn', n_jobs=-1,\n",
       "       param_grid={'n_neighbors': [1]}, pre_dispatch='2*n_jobs',\n",
       "       refit=True, return_train_score='warn', scoring='accuracy',\n",
       "       verbose=3)"
      ]
     },
     "execution_count": 54,
     "metadata": {},
     "output_type": "execute_result"
    }
   ],
   "source": [
    "params = {\"n_neighbors\": [1]}\n",
    "gs = GridSearchCV(KNeighborsClassifier(), params, n_jobs=-1, scoring='accuracy', cv=4, verbose=3)\n",
    "gs.fit(scale0, labels)"
   ]
  },
  {
   "cell_type": "code",
   "execution_count": 55,
   "metadata": {},
   "outputs": [
    {
     "name": "stdout",
     "output_type": "stream",
     "text": [
      "{'n_neighbors': 1}"
     ]
    },
    {
     "data": {
      "text/plain": [
       "0.6545296922410057"
      ]
     },
     "execution_count": 55,
     "metadata": {},
     "output_type": "execute_result"
    },
    {
     "name": "stdout",
     "output_type": "stream",
     "text": [
      "\n"
     ]
    }
   ],
   "source": [
    "print(gs.best_params_), \n",
    "gs.best_score_"
   ]
  },
  {
   "cell_type": "code",
   "execution_count": 65,
   "metadata": {
    "scrolled": true
   },
   "outputs": [
    {
     "name": "stdout",
     "output_type": "stream",
     "text": [
      "Fitting 4 folds for each of 1 candidates, totalling 4 fits\n"
     ]
    },
    {
     "name": "stderr",
     "output_type": "stream",
     "text": [
      "[Parallel(n_jobs=-1)]: Using backend LokyBackend with 4 concurrent workers.\n",
      "[Parallel(n_jobs=-1)]: Done   4 out of   4 | elapsed:    4.8s finished\n"
     ]
    },
    {
     "data": {
      "text/plain": [
       "GridSearchCV(cv=4, error_score='raise-deprecating',\n",
       "       estimator=RandomForestClassifier(bootstrap=True, class_weight=None, criterion='gini',\n",
       "            max_depth=None, max_features='auto', max_leaf_nodes=None,\n",
       "            min_impurity_decrease=0.0, min_impurity_split=None,\n",
       "            min_samples_leaf=1, min_samples_split=2,\n",
       "            min_weight_fraction_leaf=0.0, n_estimators='warn', n_jobs=None,\n",
       "            oob_score=False, random_state=None, verbose=0,\n",
       "            warm_start=False),\n",
       "       fit_params=None, iid='warn', n_jobs=-1, param_grid={},\n",
       "       pre_dispatch='2*n_jobs', refit=True, return_train_score='warn',\n",
       "       scoring='accuracy', verbose=3)"
      ]
     },
     "execution_count": 65,
     "metadata": {},
     "output_type": "execute_result"
    }
   ],
   "source": [
    "params = { }\n",
    "gs = GridSearchCV(RandomForestClassifier(), params, n_jobs=-1, scoring='accuracy', cv=4, verbose=3)\n",
    "gs.fit(scale0, labels)"
   ]
  },
  {
   "cell_type": "code",
   "execution_count": 66,
   "metadata": {},
   "outputs": [
    {
     "name": "stdout",
     "output_type": "stream",
     "text": [
      "{}"
     ]
    },
    {
     "data": {
      "text/plain": [
       "0.6376246207195492"
      ]
     },
     "execution_count": 66,
     "metadata": {},
     "output_type": "execute_result"
    },
    {
     "name": "stdout",
     "output_type": "stream",
     "text": [
      "\n"
     ]
    }
   ],
   "source": [
    "print(gs.best_params_), \n",
    "gs.best_score_"
   ]
  },
  {
   "cell_type": "code",
   "execution_count": 11,
   "metadata": {},
   "outputs": [
    {
     "name": "stdout",
     "output_type": "stream",
     "text": [
      "Fitting 4 folds for each of 1 candidates, totalling 4 fits\n"
     ]
    },
    {
     "name": "stderr",
     "output_type": "stream",
     "text": [
      "[Parallel(n_jobs=-1)]: Done   4 out of   4 | elapsed:   32.1s finished\n"
     ]
    },
    {
     "data": {
      "text/plain": [
       "GridSearchCV(cv=4, error_score='raise',\n",
       "       estimator=KMeans(algorithm='auto', copy_x=True, init='k-means++', max_iter=5000,\n",
       "    n_clusters=10, n_init=10, n_jobs=1, precompute_distances='auto',\n",
       "    random_state=None, tol=0.0001, verbose=0),\n",
       "       fit_params=None, iid=True, n_jobs=-1, param_grid={},\n",
       "       pre_dispatch='2*n_jobs', refit=True, return_train_score='warn',\n",
       "       scoring='accuracy', verbose=3)"
      ]
     },
     "execution_count": 11,
     "metadata": {},
     "output_type": "execute_result"
    }
   ],
   "source": [
    "\n",
    "params = {}\n",
    "gs2 = GridSearchCV(KMeans(n_clusters=10,max_iter=5000), params, n_jobs=-1, scoring='accuracy', cv=4, verbose=3)\n",
    "gs2.fit(scale0, labels)"
   ]
  },
  {
   "cell_type": "code",
   "execution_count": 12,
   "metadata": {},
   "outputs": [
    {
     "data": {
      "text/plain": [
       "0.09406155179887299"
      ]
     },
     "execution_count": 12,
     "metadata": {},
     "output_type": "execute_result"
    }
   ],
   "source": [
    "gs2.best_score_"
   ]
  },
  {
   "cell_type": "code",
   "execution_count": 14,
   "metadata": {},
   "outputs": [],
   "source": [
    "mfccs_trunc = mfccs[:,3:,:]\n",
    "mfccs_trunc.shape\n",
    "mfccs_trunc = mfccs_trunc.reshape((2307, 17*173))"
   ]
  },
  {
   "cell_type": "code",
   "execution_count": 19,
   "metadata": {},
   "outputs": [
    {
     "name": "stdout",
     "output_type": "stream",
     "text": [
      "Fitting 4 folds for each of 1 candidates, totalling 4 fits\n"
     ]
    },
    {
     "name": "stderr",
     "output_type": "stream",
     "text": [
      "[Parallel(n_jobs=-1)]: Done   4 out of   4 | elapsed:  1.0min finished\n"
     ]
    },
    {
     "data": {
      "text/plain": [
       "GridSearchCV(cv=4, error_score='raise',\n",
       "       estimator=RandomForestClassifier(bootstrap=True, class_weight=None, criterion='gini',\n",
       "            max_depth=None, max_features='auto', max_leaf_nodes=None,\n",
       "            min_impurity_decrease=0.0, min_impurity_split=None,\n",
       "            min_samples_leaf=1, min_samples_split=2,\n",
       "            min_weight_fraction_leaf=0.0, n_estimators=200, n_jobs=1,\n",
       "            oob_score=False, random_state=None, verbose=0,\n",
       "            warm_start=False),\n",
       "       fit_params=None, iid=True, n_jobs=-1, param_grid={},\n",
       "       pre_dispatch='2*n_jobs', refit=True, return_train_score='warn',\n",
       "       scoring='accuracy', verbose=3)"
      ]
     },
     "execution_count": 19,
     "metadata": {},
     "output_type": "execute_result"
    }
   ],
   "source": [
    "rfc = RandomForestClassifier(n_estimators=200)\n",
    "params = { }\n",
    "gs3 = GridSearchCV(rfc, params, n_jobs=-1, scoring='accuracy', cv=4, verbose=3)\n",
    "gs3.fit(scale(mfccs_trunc), labels)"
   ]
  },
  {
   "cell_type": "code",
   "execution_count": 20,
   "metadata": {},
   "outputs": [
    {
     "data": {
      "text/plain": [
       "0.6419592544429996"
      ]
     },
     "execution_count": 20,
     "metadata": {},
     "output_type": "execute_result"
    }
   ],
   "source": [
    "gs3.best_score_"
   ]
  },
  {
   "cell_type": "code",
   "execution_count": 20,
   "metadata": {},
   "outputs": [],
   "source": [
    "N_labeled = X_labeled.shape[0]\n",
    "X_labeled_train = np.zeros((N_labeled,FEATS,FRAMES))\n",
    "for i in range(N_labeled):\n",
    "    X_labeled_train[i,:,:] = mel_spec(X_labeled[i])"
   ]
  },
  {
   "cell_type": "code",
   "execution_count": 21,
   "metadata": {},
   "outputs": [],
   "source": [
    "Xltz = X_labeled_train.copy()\n",
    "# zero out bottom \n",
    "trunc_freq = 0\n",
    "Xltz[:,:trunc_freq,:] = 0\n",
    "Xltz = Xltz.reshape((Xltz.shape[0],Xltz.shape[1]*Xltz.shape[2]))"
   ]
  },
  {
   "cell_type": "code",
   "execution_count": 31,
   "metadata": {},
   "outputs": [
    {
     "name": "stdout",
     "output_type": "stream",
     "text": [
      "Fitting 8 folds for each of 1 candidates, totalling 8 fits\n",
      "[CV]  ................................................................\n",
      "[CV]  ................................................................\n",
      "[CV]  ................................................................\n",
      "[CV]  ................................................................\n",
      "[CV] ....................... , score=0.6438356164383562, total= 1.9min\n",
      "[CV] ....................... , score=0.6095890410958904, total= 1.8min\n",
      "[CV]  ................................................................\n",
      "[CV] ....................... , score=0.5938566552901023, total= 1.9min\n",
      "[CV]  ................................................................\n",
      "[CV] ....................... , score=0.6061643835616438, total= 1.9min\n"
     ]
    },
    {
     "name": "stderr",
     "output_type": "stream",
     "text": [
      "[Parallel(n_jobs=-1)]: Done   4 out of   8 | elapsed:  2.0min remaining:  2.0min\n"
     ]
    },
    {
     "name": "stdout",
     "output_type": "stream",
     "text": [
      "[CV]  ................................................................\n",
      "[CV]  ................................................................\n",
      "[CV] ....................... , score=0.6140350877192983, total= 1.7min\n",
      "[CV] ....................... , score=0.6097560975609756, total= 1.7min\n",
      "[CV] ........................ , score=0.607773851590106, total= 1.6min\n",
      "[CV] ....................... , score=0.6113074204946997, total= 1.6min\n"
     ]
    },
    {
     "name": "stderr",
     "output_type": "stream",
     "text": [
      "[Parallel(n_jobs=-1)]: Done   8 out of   8 | elapsed:  3.7min finished\n"
     ]
    },
    {
     "data": {
      "text/plain": [
       "GridSearchCV(cv=8, error_score='raise',\n",
       "       estimator=RandomForestClassifier(bootstrap=True, class_weight=None, criterion='gini',\n",
       "            max_depth=None, max_features='auto', max_leaf_nodes=None,\n",
       "            min_impurity_decrease=0.0, min_impurity_split=None,\n",
       "            min_samples_leaf=1, min_samples_split=2,\n",
       "            min_weight_fraction_leaf=0.0, n_estimators=200, n_jobs=1,\n",
       "            oob_score=False, random_state=None, verbose=0,\n",
       "            warm_start=False),\n",
       "       fit_params=None, iid=True, n_jobs=-1, param_grid={},\n",
       "       pre_dispatch='2*n_jobs', refit=True, return_train_score='warn',\n",
       "       scoring='accuracy', verbose=3)"
      ]
     },
     "execution_count": 31,
     "metadata": {},
     "output_type": "execute_result"
    }
   ],
   "source": [
    "gbc = GradientBoostingClassifier(n_estimators=100)\n",
    "rbc = RandomForestClassifier(n_estimators=200)\n",
    "params = {}\n",
    "gs = GridSearchCV(rbc, params, n_jobs=-1, scoring='accuracy', cv=8, verbose=3)\n",
    "gs.fit(X_labeled_train.reshape((X_labeled_train.shape[0],X_labeled_train.shape[1]*X_labeled_train.shape[2])), y_labeled)"
   ]
  },
  {
   "cell_type": "code",
   "execution_count": 32,
   "metadata": {},
   "outputs": [
    {
     "name": "stdout",
     "output_type": "stream",
     "text": [
      "Fitting 8 folds for each of 1 candidates, totalling 8 fits\n",
      "[CV]  ................................................................\n",
      "[CV]  ................................................................\n",
      "[CV]  ................................................................\n",
      "[CV]  ................................................................\n",
      "[CV] ....................... , score=0.5938566552901023, total= 1.4min\n",
      "[CV]  ................................................................\n",
      "[CV] ....................... , score=0.6027397260273972, total= 1.4min\n",
      "[CV]  ................................................................\n",
      "[CV] ....................... , score=0.6027397260273972, total= 1.4min\n",
      "[CV]  ................................................................\n",
      "[CV] ....................... , score=0.6027397260273972, total= 1.5min\n"
     ]
    },
    {
     "name": "stderr",
     "output_type": "stream",
     "text": [
      "[Parallel(n_jobs=-1)]: Done   4 out of   8 | elapsed:  1.6min remaining:  1.6min\n"
     ]
    },
    {
     "name": "stdout",
     "output_type": "stream",
     "text": [
      "[CV]  ................................................................\n",
      "[CV] ....................... , score=0.6167247386759582, total= 2.6min\n",
      "[CV] ........................ , score=0.607773851590106, total= 2.6min\n",
      "[CV] ....................... , score=0.5929824561403508, total= 2.6min\n",
      "[CV] ....................... , score=0.6007067137809188, total= 2.5min\n"
     ]
    },
    {
     "name": "stderr",
     "output_type": "stream",
     "text": [
      "[Parallel(n_jobs=-1)]: Done   8 out of   8 | elapsed:  4.2min finished\n"
     ]
    },
    {
     "data": {
      "text/plain": [
       "GridSearchCV(cv=8, error_score='raise',\n",
       "       estimator=RandomForestClassifier(bootstrap=True, class_weight=None, criterion='gini',\n",
       "            max_depth=None, max_features='auto', max_leaf_nodes=None,\n",
       "            min_impurity_decrease=0.0, min_impurity_split=None,\n",
       "            min_samples_leaf=1, min_samples_split=2,\n",
       "            min_weight_fraction_leaf=0.0, n_estimators=200, n_jobs=1,\n",
       "            oob_score=False, random_state=None, verbose=0,\n",
       "            warm_start=False),\n",
       "       fit_params=None, iid=True, n_jobs=-1, param_grid={},\n",
       "       pre_dispatch='2*n_jobs', refit=True, return_train_score='warn',\n",
       "       scoring='accuracy', verbose=3)"
      ]
     },
     "execution_count": 32,
     "metadata": {},
     "output_type": "execute_result"
    }
   ],
   "source": [
    "gs2 = GridSearchCV(rbc, {'n_estimators': [50, 70, 100, 125, 150, 200]}, n_jobs=-1, scoring='accuracy', cv=8, verbose=3)\n",
    "gs2.fit(X_labeled_train.\n",
    "       reshape((X_labeled_train.shape[0],X_labeled_train.shape[1]*X_labeled_train.shape[2])), y_labeled)"
   ]
  },
  {
   "cell_type": "code",
   "execution_count": 36,
   "metadata": {},
   "outputs": [
    {
     "data": {
      "text/plain": [
       "([mean: 0.60251, std: 0.00706, params: {}],)"
      ]
     },
     "execution_count": 36,
     "metadata": {},
     "output_type": "execute_result"
    }
   ],
   "source": [
    "gs2.grid_scores_,"
   ]
  },
  {
   "cell_type": "code",
   "execution_count": 30,
   "metadata": {},
   "outputs": [],
   "source": [
    "del X_unlabeled\n",
    "del y_unlabeled"
   ]
  },
  {
   "cell_type": "code",
   "execution_count": 41,
   "metadata": {},
   "outputs": [],
   "source": [
    "del mfccs,mels,tempos,tempograms"
   ]
  },
  {
   "cell_type": "code",
   "execution_count": 111,
   "metadata": {},
   "outputs": [
    {
     "data": {
      "text/html": [
       "\n",
       "                <audio controls=\"controls\" >\n",
       "                    <source src=\"data:audio/wav;base64,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\" type=\"audio/wav\" />\n",
       "                    Your browser does not support the audio element.\n",
       "                </audio>\n",
       "              "
      ],
      "text/plain": [
       "<IPython.lib.display.Audio object>"
      ]
     },
     "execution_count": 111,
     "metadata": {},
     "output_type": "execute_result"
    }
   ],
   "source": [
    " ipd.Audio(X_test[470], rate=SAMPLE_RATE)"
   ]
  },
  {
   "cell_type": "code",
   "execution_count": 14,
   "metadata": {},
   "outputs": [],
   "source": [
    "flatnesses=np.load('flatnesses.npy')\n",
    "contrasts=np.load('contrasts.npy')\n",
    "chromas=np.load('chromas.npy')\n",
    "centroids=np.load('centroids.npy')\n",
    "bandwidths=np.load('bandwidths.npy')"
   ]
  },
  {
   "cell_type": "code",
   "execution_count": 46,
   "metadata": {},
   "outputs": [
    {
     "name": "stdout",
     "output_type": "stream",
     "text": [
      "(2307, 20, 173) (2307, 173) (2307, 1, 173) (2307, 7, 173) (2307, 12, 173) (2307, 1, 173) (2307, 1, 173)\n"
     ]
    }
   ],
   "source": [
    "print(mfccs.shape,mels.shape,flatnesses.shape, contrasts.shape, chromas.shape, centroids.shape, bandwidths.shape)"
   ]
  },
  {
   "cell_type": "code",
   "execution_count": 14,
   "metadata": {},
   "outputs": [
    {
     "data": {
      "text/plain": [
       "(2307, 20, 173)"
      ]
     },
     "execution_count": 14,
     "metadata": {},
     "output_type": "execute_result"
    }
   ],
   "source": [
    "mfccs.shape"
   ]
  },
  {
   "cell_type": "code",
   "execution_count": 16,
   "metadata": {},
   "outputs": [],
   "source": [
    "feats_ham = []\n",
    "for i in range(2307):\n",
    "    feat = np.concatenate((mfccs[i].flatten(), \n",
    "                           mels[i],\n",
    "                           contrasts[i].flatten(),\n",
    "                           centroids[i].flatten()))\n",
    "    feats_ham.append(feat)   \n",
    "np.save('feats_ham.npy',feats_ham)"
   ]
  },
  {
   "cell_type": "code",
   "execution_count": 57,
   "metadata": {},
   "outputs": [
    {
     "name": "stdout",
     "output_type": "stream",
     "text": [
      "Fitting 4 folds for each of 1 candidates, totalling 4 fits\n"
     ]
    },
    {
     "name": "stderr",
     "output_type": "stream",
     "text": [
      "[Parallel(n_jobs=-1)]: Done   4 out of   4 | elapsed:   35.5s finished\n"
     ]
    },
    {
     "data": {
      "text/plain": [
       "GridSearchCV(cv=4, error_score='raise',\n",
       "       estimator=RandomForestClassifier(bootstrap=True, class_weight=None, criterion='gini',\n",
       "            max_depth=None, max_features='auto', max_leaf_nodes=None,\n",
       "            min_impurity_decrease=0.0, min_impurity_split=None,\n",
       "            min_samples_leaf=1, min_samples_split=2,\n",
       "            min_weight_fraction_leaf=0.0, n_estimators=200, n_jobs=1,\n",
       "            oob_score=False, random_state=None, verbose=0,\n",
       "            warm_start=False),\n",
       "       fit_params=None, iid=True, n_jobs=-1, param_grid={},\n",
       "       pre_dispatch='2*n_jobs', refit=True, return_train_score='warn',\n",
       "       scoring='accuracy', verbose=3)"
      ]
     },
     "execution_count": 57,
     "metadata": {},
     "output_type": "execute_result"
    }
   ],
   "source": [
    "params={}\n",
    "gs_ham = GridSearchCV(RandomForestClassifier(n_estimators=200), params, n_jobs=-1, scoring='accuracy', cv=4, verbose=3)\n",
    "gs_ham.fit(feats_ham, labels)"
   ]
  },
  {
   "cell_type": "code",
   "execution_count": 17,
   "metadata": {},
   "outputs": [
    {
     "name": "stdout",
     "output_type": "stream",
     "text": [
      "Fitting 4 folds for each of 1 candidates, totalling 4 fits\n"
     ]
    },
    {
     "name": "stderr",
     "output_type": "stream",
     "text": [
      "[Parallel(n_jobs=-1)]: Done   4 out of   4 | elapsed: 40.9min finished\n"
     ]
    },
    {
     "data": {
      "text/plain": [
       "GridSearchCV(cv=4, error_score='raise',\n",
       "       estimator=GradientBoostingClassifier(criterion='friedman_mse', init=None,\n",
       "              learning_rate=0.01, loss='deviance', max_depth=3,\n",
       "              max_features=None, max_leaf_nodes=None,\n",
       "              min_impurity_decrease=0.0, min_impurity_split=None,\n",
       "              min_samples_leaf=1, min_samples_split=2,\n",
       "              min_weight_fraction_leaf=0.0, n_estimators=80,\n",
       "              presort='auto', random_state=None, subsample=1.0, verbose=0,\n",
       "              warm_start=False),\n",
       "       fit_params=None, iid=True, n_jobs=-1, param_grid={},\n",
       "       pre_dispatch='2*n_jobs', refit=True, return_train_score='warn',\n",
       "       scoring='accuracy', verbose=3)"
      ]
     },
     "execution_count": 17,
     "metadata": {},
     "output_type": "execute_result"
    }
   ],
   "source": [
    "params={}\n",
    "gs_ham = GridSearchCV(GradientBoostingClassifier(learning_rate=0.01, n_estimators=80), params, n_jobs=-1, scoring='accuracy', cv=4, verbose=3)\n",
    "gs_ham.fit(feats_ham, labels)"
   ]
  },
  {
   "cell_type": "code",
   "execution_count": 18,
   "metadata": {},
   "outputs": [
    {
     "data": {
      "text/plain": [
       "0.6107498916341569"
      ]
     },
     "execution_count": 18,
     "metadata": {},
     "output_type": "execute_result"
    }
   ],
   "source": [
    "gs_ham.best_score_"
   ]
  },
  {
   "cell_type": "code",
   "execution_count": 41,
   "metadata": {},
   "outputs": [
    {
     "data": {
      "text/plain": [
       "array([2.25740660e-04, 2.51052543e-04, 1.04243776e-04, ...,\n",
       "       4.16664506e-05, 9.48958175e-05, 7.69669465e-05])"
      ]
     },
     "execution_count": 41,
     "metadata": {},
     "output_type": "execute_result"
    }
   ],
   "source": [
    "f_i=gs_ham.best_estimator_.feature_importances_\n",
    "f_i"
   ]
  },
  {
   "cell_type": "code",
   "execution_count": 54,
   "metadata": {},
   "outputs": [
    {
     "name": "stdout",
     "output_type": "stream",
     "text": [
      "0.00013849151172696562 0.0005173069550800912 0.00010893751613869719 0.00014372205826781212 9.544532719652551e-05 0.0001475160947190967 8.535768609905999e-05\n"
     ]
    }
   ],
   "source": [
    "i_mfcc = np.mean(f_i[:20*173])\n",
    "i_mels = np.mean(f_i[20*173:20*173+173])\n",
    "i_flat = np.mean(f_i[20*173+173:20*173+173+173])\n",
    "i_cont = np.mean(f_i[20*173+173+173 : 20*173+173+173+7*173])\n",
    "i_chro = np.mean(f_i[20*173+173+173+7*173 : 20*173+173+173+7*173+12*173])\n",
    "i_cent = np.mean(f_i[20*173+173+173+7*173+12*173 : 20*173+173+173+7*173+12*173+173])\n",
    "i_band = np.mean(f_i[20*173+173+173+7*173+12*173+173 : 20*173+173+173+7*173+12*173+173+173])\n",
    "\n",
    "print(i_mfcc,i_mels,i_flat,i_cont,i_chro,i_cent,i_band)"
   ]
  },
  {
   "cell_type": "code",
   "execution_count": 37,
   "metadata": {},
   "outputs": [
    {
     "data": {
      "text/plain": [
       "array([3627, 3586, 3568, ..., 6318, 4140, 6724], dtype=int64)"
      ]
     },
     "execution_count": 37,
     "metadata": {},
     "output_type": "execute_result"
    }
   ],
   "source": [
    "np.flipud(np.argsort(f_i))"
   ]
  },
  {
   "cell_type": "code",
   "execution_count": null,
   "metadata": {},
   "outputs": [],
   "source": [
    "preds = gs_ham.best_estimator_.predict(X)\n",
    "util.write_predictions(preds, range(len(preds)), \"rf_basic.csv\")"
   ]
  },
  {
   "cell_type": "markdown",
   "metadata": {},
   "source": [
    "## predicting stuff"
   ]
  },
  {
   "cell_type": "code",
   "execution_count": 59,
   "metadata": {},
   "outputs": [
    {
     "name": "stdout",
     "output_type": "stream",
     "text": [
      "contrast done\n",
      "centroid done\n"
     ]
    }
   ],
   "source": [
    "contrasts = []\n",
    "for signal in X_test:\n",
    "    contrasts.append(librosa.feature.spectral_contrast(signal))\n",
    "np.save(\"contrasts_test.npy\", contrasts)\n",
    "del contrasts\n",
    "print(\"contrast done\")\n",
    "\n",
    "\n",
    "\n",
    "centroids = []\n",
    "for signal in X_test:\n",
    "    centroids.append(librosa.feature.spectral_centroid(signal))\n",
    "np.save(\"centroids_test.npy\", centroids)\n",
    "del centroids\n",
    "print(\"centroid done\")\n"
   ]
  },
  {
   "cell_type": "code",
   "execution_count": 61,
   "metadata": {},
   "outputs": [],
   "source": [
    "def get_mfcc_mel(d):\n",
    "    mfccs = []\n",
    "    mels = []\n",
    "    for signal in d:\n",
    "        mfcc = librosa.feature.mfcc(signal)\n",
    "        mel = np.mean(mel_spec(signal), axis = 0)\n",
    "        mfccs.append(mfcc)\n",
    "        mels.append(mel)\n",
    "    return mfccs, mels"
   ]
  },
  {
   "cell_type": "code",
   "execution_count": 21,
   "metadata": {},
   "outputs": [
    {
     "ename": "NameError",
     "evalue": "name 'get_mfcc_mel' is not defined",
     "output_type": "error",
     "traceback": [
      "\u001b[1;31m---------------------------------------------------------------------------\u001b[0m",
      "\u001b[1;31mNameError\u001b[0m                                 Traceback (most recent call last)",
      "\u001b[1;32m<ipython-input-21-91f256f0bb32>\u001b[0m in \u001b[0;36m<module>\u001b[1;34m()\u001b[0m\n\u001b[0;32m      1\u001b[0m \u001b[1;33m\u001b[0m\u001b[0m\n\u001b[0;32m      2\u001b[0m \u001b[1;33m\u001b[0m\u001b[0m\n\u001b[1;32m----> 3\u001b[1;33m \u001b[0mmfccs_test\u001b[0m\u001b[1;33m,\u001b[0m \u001b[0mmels_test\u001b[0m \u001b[1;33m=\u001b[0m \u001b[0mget_mfcc_mel\u001b[0m\u001b[1;33m(\u001b[0m\u001b[0mX_test\u001b[0m\u001b[1;33m)\u001b[0m\u001b[1;33m\u001b[0m\u001b[0m\n\u001b[0m\u001b[0;32m      4\u001b[0m \u001b[1;33m\u001b[0m\u001b[0m\n\u001b[0;32m      5\u001b[0m \u001b[1;31m# save your features otherwise you will be sad\u001b[0m\u001b[1;33m\u001b[0m\u001b[1;33m\u001b[0m\u001b[0m\n",
      "\u001b[1;31mNameError\u001b[0m: name 'get_mfcc_mel' is not defined"
     ]
    }
   ],
   "source": [
    "\n",
    "\n",
    "mfccs_test, mels_test = get_mfcc_mel(X_test)\n",
    "\n",
    "# save your features otherwise you will be sad\n",
    "# np.save(\"mfccs.npy\", mfccs)\n",
    "# np.save(\"mels.npy\", mels)\n",
    "# np.save(\"tempos.npy\", tempos)\n",
    "# np.save(\"tempograms.npy\", tempograms)"
   ]
  },
  {
   "cell_type": "code",
   "execution_count": 71,
   "metadata": {},
   "outputs": [],
   "source": [
    "np.save(\"mfccs_test.npy\", mfccs_test)\n",
    "np.save(\"mels_test.npy\", mels_test)"
   ]
  },
  {
   "cell_type": "code",
   "execution_count": 24,
   "metadata": {},
   "outputs": [],
   "source": [
    "mfccs_test = np.load('mfccs_test.npy')\n",
    "mels_test = np.load('mels_test.npy')"
   ]
  },
  {
   "cell_type": "code",
   "execution_count": 25,
   "metadata": {},
   "outputs": [],
   "source": [
    "contrasts_test = np.load('contrasts_test.npy')\n",
    "centroids_test = np.load('centroids_test.npy')\n",
    "\n",
    "feats_ham_test = []\n",
    "for i in range(951):\n",
    "    feat = np.concatenate((mfccs_test[i].flatten(), \n",
    "                           mels_test[i],\n",
    "                           contrasts_test[i].flatten(),\n",
    "                           centroids_test[i].flatten()))\n",
    "    feats_ham_test.append(feat)  "
   ]
  },
  {
   "cell_type": "code",
   "execution_count": 75,
   "metadata": {},
   "outputs": [],
   "source": [
    "preds = gs_ham.best_estimator_.predict(feats_ham_test)\n",
    "util.write_predictions(preds, range(len(preds)), \"rf_ham.csv\")"
   ]
  },
  {
   "cell_type": "code",
   "execution_count": 26,
   "metadata": {},
   "outputs": [],
   "source": [
    "preds = gs_ham.best_estimator_.predict(feats_ham_test)\n",
    "util.write_predictions(preds, range(len(preds)), \"gb_ham.csv\")"
   ]
  },
  {
   "cell_type": "code",
   "execution_count": null,
   "metadata": {},
   "outputs": [],
   "source": []
  },
  {
   "cell_type": "code",
   "execution_count": 73,
   "metadata": {},
   "outputs": [],
   "source": [
    "X_test = np.load(\"X_test.npy\")\n",
    "test_feats = []\n",
    "\n",
    "mfccs, mels, tempos, tempograms = get_feats(X_test)\n",
    "for i in range(len(tempos)):\n",
    "    feat = np.concatenate((np.array([tempos[i]]), mfccs[i].flatten(), mels[i]))\n",
    "    test_feats.append(feat)      \n"
   ]
  },
  {
   "cell_type": "code",
   "execution_count": 74,
   "metadata": {},
   "outputs": [],
   "source": [
    "preds = gs.best_estimator_.predict(test_feats)\n",
    "# util.write_predictions(preds, range(len(preds)), \"rfc, mfccflat, melmean, tempo, scaled.csv\")"
   ]
  },
  {
   "cell_type": "code",
   "execution_count": 76,
   "metadata": {},
   "outputs": [
    {
     "name": "stdout",
     "output_type": "stream",
     "text": [
      "2.0\n",
      "2.0\n",
      "5.0\n",
      "2.0\n",
      "5.0\n",
      "2.0\n",
      "2.0\n",
      "3.0\n",
      "2.0\n",
      "5.0\n",
      "2.0\n",
      "5.0\n",
      "2.0\n",
      "5.0\n",
      "2.0\n",
      "5.0\n",
      "5.0\n",
      "5.0\n",
      "5.0\n",
      "9.0\n",
      "2.0\n",
      "5.0\n",
      "5.0\n",
      "5.0\n",
      "5.0\n",
      "0.0\n",
      "5.0\n",
      "2.0\n",
      "3.0\n",
      "3.0\n",
      "5.0\n",
      "5.0\n",
      "5.0\n",
      "2.0\n",
      "5.0\n",
      "0.0\n",
      "2.0\n",
      "3.0\n",
      "2.0\n",
      "5.0\n",
      "5.0\n",
      "5.0\n",
      "5.0\n",
      "5.0\n",
      "9.0\n",
      "5.0\n",
      "3.0\n",
      "2.0\n",
      "5.0\n",
      "5.0\n",
      "2.0\n",
      "5.0\n",
      "5.0\n",
      "3.0\n",
      "5.0\n",
      "3.0\n",
      "2.0\n",
      "5.0\n",
      "5.0\n",
      "2.0\n",
      "5.0\n",
      "5.0\n",
      "5.0\n",
      "5.0\n",
      "5.0\n",
      "5.0\n",
      "3.0\n",
      "2.0\n",
      "0.0\n",
      "5.0\n",
      "2.0\n",
      "5.0\n",
      "5.0\n",
      "5.0\n",
      "5.0\n",
      "5.0\n",
      "5.0\n",
      "5.0\n",
      "2.0\n",
      "5.0\n",
      "5.0\n",
      "2.0\n",
      "5.0\n",
      "5.0\n",
      "3.0\n",
      "5.0\n",
      "5.0\n",
      "5.0\n",
      "5.0\n",
      "5.0\n",
      "5.0\n",
      "5.0\n",
      "5.0\n",
      "0.0\n",
      "5.0\n",
      "2.0\n",
      "5.0\n",
      "5.0\n",
      "5.0\n",
      "3.0\n",
      "5.0\n",
      "3.0\n",
      "2.0\n",
      "5.0\n",
      "2.0\n",
      "2.0\n",
      "0.0\n",
      "2.0\n",
      "5.0\n",
      "2.0\n",
      "5.0\n",
      "2.0\n",
      "2.0\n",
      "0.0\n",
      "3.0\n",
      "5.0\n",
      "5.0\n",
      "2.0\n",
      "5.0\n",
      "0.0\n",
      "5.0\n",
      "5.0\n",
      "5.0\n",
      "5.0\n",
      "3.0\n",
      "5.0\n",
      "0.0\n",
      "5.0\n",
      "2.0\n",
      "2.0\n",
      "0.0\n",
      "5.0\n",
      "5.0\n",
      "2.0\n",
      "5.0\n",
      "5.0\n",
      "2.0\n",
      "5.0\n",
      "9.0\n",
      "5.0\n",
      "5.0\n",
      "5.0\n",
      "5.0\n",
      "3.0\n",
      "2.0\n",
      "5.0\n",
      "0.0\n",
      "5.0\n",
      "2.0\n",
      "2.0\n",
      "5.0\n",
      "5.0\n",
      "5.0\n",
      "2.0\n",
      "2.0\n",
      "5.0\n",
      "3.0\n",
      "5.0\n",
      "5.0\n",
      "2.0\n",
      "2.0\n",
      "5.0\n",
      "5.0\n",
      "5.0\n",
      "5.0\n",
      "2.0\n",
      "5.0\n",
      "3.0\n",
      "5.0\n",
      "3.0\n",
      "3.0\n",
      "2.0\n",
      "5.0\n",
      "5.0\n",
      "2.0\n",
      "5.0\n",
      "3.0\n",
      "5.0\n",
      "5.0\n",
      "2.0\n",
      "5.0\n",
      "5.0\n",
      "2.0\n",
      "5.0\n",
      "2.0\n",
      "2.0\n",
      "2.0\n",
      "5.0\n",
      "5.0\n",
      "2.0\n",
      "3.0\n",
      "5.0\n",
      "5.0\n",
      "2.0\n",
      "2.0\n",
      "5.0\n",
      "2.0\n",
      "2.0\n",
      "5.0\n",
      "5.0\n",
      "5.0\n",
      "3.0\n",
      "5.0\n",
      "5.0\n",
      "5.0\n",
      "5.0\n",
      "2.0\n",
      "2.0\n",
      "5.0\n",
      "5.0\n",
      "5.0\n",
      "2.0\n",
      "5.0\n",
      "5.0\n",
      "3.0\n",
      "2.0\n",
      "5.0\n",
      "2.0\n",
      "5.0\n",
      "2.0\n",
      "5.0\n",
      "5.0\n",
      "5.0\n",
      "5.0\n",
      "5.0\n",
      "3.0\n",
      "5.0\n",
      "5.0\n",
      "2.0\n",
      "5.0\n",
      "5.0\n",
      "2.0\n",
      "5.0\n",
      "2.0\n",
      "5.0\n",
      "2.0\n",
      "2.0\n",
      "2.0\n",
      "2.0\n",
      "2.0\n",
      "2.0\n",
      "5.0\n",
      "5.0\n",
      "2.0\n",
      "5.0\n",
      "5.0\n",
      "2.0\n",
      "5.0\n",
      "5.0\n",
      "2.0\n",
      "5.0\n",
      "2.0\n",
      "5.0\n",
      "5.0\n",
      "5.0\n",
      "5.0\n",
      "2.0\n",
      "5.0\n",
      "2.0\n",
      "5.0\n",
      "5.0\n",
      "5.0\n",
      "2.0\n",
      "2.0\n",
      "5.0\n",
      "2.0\n",
      "5.0\n",
      "5.0\n",
      "2.0\n",
      "2.0\n",
      "5.0\n",
      "2.0\n",
      "2.0\n",
      "2.0\n",
      "5.0\n",
      "0.0\n",
      "3.0\n",
      "5.0\n",
      "5.0\n",
      "5.0\n",
      "2.0\n",
      "2.0\n",
      "0.0\n",
      "0.0\n",
      "5.0\n",
      "5.0\n",
      "2.0\n",
      "5.0\n",
      "3.0\n",
      "2.0\n",
      "5.0\n",
      "5.0\n",
      "5.0\n",
      "2.0\n",
      "2.0\n",
      "5.0\n",
      "5.0\n",
      "2.0\n",
      "5.0\n",
      "5.0\n",
      "2.0\n",
      "2.0\n",
      "2.0\n",
      "5.0\n",
      "5.0\n",
      "2.0\n",
      "5.0\n",
      "2.0\n",
      "5.0\n",
      "5.0\n",
      "5.0\n",
      "2.0\n",
      "2.0\n",
      "2.0\n",
      "5.0\n",
      "5.0\n",
      "5.0\n",
      "5.0\n",
      "2.0\n",
      "5.0\n",
      "5.0\n",
      "2.0\n",
      "3.0\n",
      "2.0\n",
      "2.0\n",
      "5.0\n",
      "9.0\n",
      "9.0\n",
      "5.0\n",
      "3.0\n",
      "5.0\n",
      "5.0\n",
      "5.0\n",
      "2.0\n",
      "5.0\n",
      "5.0\n",
      "5.0\n",
      "5.0\n",
      "5.0\n",
      "5.0\n",
      "5.0\n",
      "5.0\n",
      "5.0\n",
      "5.0\n",
      "3.0\n",
      "5.0\n",
      "5.0\n",
      "5.0\n",
      "2.0\n",
      "3.0\n",
      "2.0\n",
      "3.0\n",
      "9.0\n",
      "2.0\n",
      "3.0\n",
      "2.0\n",
      "5.0\n",
      "3.0\n",
      "0.0\n",
      "5.0\n",
      "2.0\n",
      "5.0\n",
      "5.0\n",
      "2.0\n",
      "2.0\n",
      "5.0\n",
      "2.0\n",
      "2.0\n",
      "9.0\n",
      "3.0\n",
      "2.0\n",
      "5.0\n",
      "2.0\n",
      "0.0\n",
      "2.0\n",
      "0.0\n",
      "2.0\n",
      "2.0\n",
      "3.0\n",
      "3.0\n",
      "2.0\n",
      "3.0\n",
      "5.0\n",
      "5.0\n",
      "2.0\n",
      "2.0\n",
      "2.0\n",
      "5.0\n",
      "5.0\n",
      "2.0\n",
      "5.0\n",
      "5.0\n",
      "5.0\n",
      "2.0\n",
      "5.0\n",
      "5.0\n",
      "2.0\n",
      "5.0\n",
      "5.0\n",
      "5.0\n",
      "5.0\n",
      "2.0\n",
      "2.0\n",
      "5.0\n",
      "3.0\n",
      "2.0\n",
      "5.0\n",
      "5.0\n",
      "5.0\n",
      "3.0\n",
      "3.0\n",
      "5.0\n",
      "2.0\n",
      "2.0\n",
      "5.0\n",
      "5.0\n",
      "5.0\n",
      "2.0\n",
      "5.0\n",
      "5.0\n",
      "5.0\n",
      "0.0\n",
      "5.0\n",
      "2.0\n",
      "3.0\n",
      "5.0\n",
      "5.0\n",
      "2.0\n",
      "5.0\n",
      "5.0\n",
      "3.0\n",
      "5.0\n",
      "5.0\n",
      "5.0\n",
      "5.0\n",
      "5.0\n",
      "2.0\n",
      "5.0\n",
      "2.0\n",
      "5.0\n",
      "5.0\n",
      "2.0\n",
      "2.0\n",
      "5.0\n",
      "3.0\n",
      "0.0\n",
      "5.0\n",
      "2.0\n",
      "2.0\n",
      "5.0\n",
      "5.0\n",
      "2.0\n",
      "2.0\n",
      "5.0\n",
      "5.0\n",
      "3.0\n",
      "5.0\n",
      "3.0\n",
      "5.0\n",
      "5.0\n",
      "2.0\n",
      "5.0\n",
      "5.0\n",
      "2.0\n",
      "9.0\n",
      "2.0\n",
      "5.0\n",
      "5.0\n",
      "3.0\n",
      "5.0\n",
      "5.0\n",
      "5.0\n",
      "2.0\n",
      "5.0\n",
      "5.0\n",
      "3.0\n",
      "2.0\n",
      "5.0\n",
      "5.0\n",
      "5.0\n",
      "0.0\n",
      "2.0\n",
      "5.0\n",
      "5.0\n",
      "2.0\n",
      "2.0\n",
      "2.0\n",
      "2.0\n",
      "2.0\n",
      "5.0\n",
      "3.0\n",
      "2.0\n",
      "5.0\n",
      "2.0\n",
      "2.0\n",
      "3.0\n",
      "3.0\n",
      "5.0\n",
      "5.0\n",
      "5.0\n",
      "2.0\n",
      "5.0\n",
      "5.0\n",
      "5.0\n",
      "5.0\n",
      "5.0\n",
      "0.0\n",
      "5.0\n",
      "5.0\n",
      "3.0\n",
      "3.0\n",
      "2.0\n",
      "5.0\n",
      "5.0\n",
      "5.0\n",
      "5.0\n",
      "5.0\n",
      "5.0\n",
      "2.0\n",
      "2.0\n",
      "5.0\n",
      "2.0\n",
      "5.0\n",
      "5.0\n",
      "0.0\n",
      "5.0\n",
      "5.0\n",
      "9.0\n",
      "5.0\n",
      "2.0\n",
      "3.0\n",
      "2.0\n",
      "3.0\n",
      "5.0\n",
      "5.0\n",
      "2.0\n",
      "5.0\n",
      "2.0\n",
      "5.0\n",
      "5.0\n",
      "5.0\n",
      "5.0\n",
      "2.0\n",
      "5.0\n",
      "2.0\n",
      "2.0\n",
      "5.0\n",
      "2.0\n",
      "2.0\n",
      "5.0\n",
      "5.0\n",
      "2.0\n",
      "5.0\n",
      "2.0\n",
      "2.0\n",
      "5.0\n",
      "2.0\n",
      "5.0\n",
      "5.0\n",
      "2.0\n",
      "2.0\n",
      "2.0\n",
      "5.0\n",
      "3.0\n",
      "3.0\n",
      "3.0\n",
      "3.0\n",
      "5.0\n",
      "5.0\n",
      "5.0\n",
      "5.0\n",
      "5.0\n",
      "5.0\n",
      "3.0\n",
      "3.0\n",
      "2.0\n",
      "5.0\n",
      "2.0\n",
      "3.0\n",
      "2.0\n",
      "5.0\n",
      "3.0\n",
      "5.0\n",
      "5.0\n",
      "5.0\n",
      "3.0\n",
      "5.0\n",
      "5.0\n",
      "5.0\n",
      "2.0\n",
      "2.0\n",
      "2.0\n",
      "5.0\n",
      "2.0\n",
      "2.0\n",
      "5.0\n",
      "2.0\n",
      "5.0\n",
      "5.0\n",
      "5.0\n",
      "2.0\n",
      "5.0\n",
      "5.0\n",
      "5.0\n",
      "2.0\n",
      "5.0\n",
      "9.0\n",
      "5.0\n",
      "2.0\n",
      "5.0\n",
      "2.0\n",
      "2.0\n",
      "5.0\n",
      "5.0\n",
      "5.0\n",
      "2.0\n",
      "5.0\n",
      "5.0\n",
      "5.0\n",
      "2.0\n",
      "2.0\n",
      "3.0\n",
      "5.0\n",
      "2.0\n",
      "5.0\n",
      "5.0\n",
      "5.0\n",
      "5.0\n",
      "5.0\n",
      "5.0\n",
      "5.0\n",
      "5.0\n",
      "3.0\n",
      "5.0\n",
      "2.0\n",
      "2.0\n",
      "5.0\n",
      "2.0\n",
      "5.0\n",
      "5.0\n",
      "5.0\n",
      "3.0\n",
      "2.0\n",
      "5.0\n",
      "5.0\n",
      "2.0\n",
      "2.0\n",
      "5.0\n",
      "3.0\n",
      "5.0\n",
      "3.0\n",
      "5.0\n",
      "5.0\n",
      "3.0\n",
      "2.0\n",
      "5.0\n",
      "5.0\n",
      "2.0\n",
      "3.0\n",
      "5.0\n",
      "2.0\n",
      "5.0\n",
      "5.0\n",
      "5.0\n",
      "2.0\n",
      "2.0\n",
      "2.0\n",
      "5.0\n",
      "2.0\n",
      "5.0\n",
      "2.0\n",
      "2.0\n",
      "3.0\n",
      "2.0\n",
      "2.0\n",
      "5.0\n",
      "5.0\n",
      "5.0\n",
      "2.0\n",
      "3.0\n",
      "5.0\n",
      "3.0\n",
      "5.0\n",
      "2.0\n",
      "5.0\n",
      "5.0\n",
      "0.0\n",
      "2.0\n",
      "5.0\n",
      "5.0\n",
      "2.0\n",
      "5.0\n",
      "2.0\n",
      "2.0\n",
      "2.0\n",
      "5.0\n",
      "5.0\n",
      "5.0\n",
      "5.0\n",
      "5.0\n",
      "3.0\n",
      "3.0\n",
      "5.0\n",
      "0.0\n",
      "2.0\n",
      "5.0\n",
      "5.0\n",
      "2.0\n",
      "2.0\n",
      "5.0\n",
      "2.0\n",
      "2.0\n",
      "5.0\n",
      "3.0\n",
      "5.0\n",
      "5.0\n",
      "5.0\n",
      "5.0\n",
      "2.0\n",
      "0.0\n",
      "5.0\n",
      "2.0\n",
      "2.0\n",
      "2.0\n",
      "5.0\n",
      "5.0\n",
      "9.0\n",
      "3.0\n",
      "5.0\n",
      "5.0\n",
      "5.0\n",
      "5.0\n",
      "2.0\n",
      "2.0\n",
      "5.0\n",
      "5.0\n",
      "2.0\n",
      "3.0\n",
      "3.0\n",
      "2.0\n",
      "2.0\n",
      "5.0\n",
      "5.0\n",
      "0.0\n",
      "5.0\n",
      "5.0\n",
      "2.0\n",
      "5.0\n",
      "9.0\n",
      "2.0\n",
      "2.0\n",
      "5.0\n",
      "2.0\n",
      "5.0\n",
      "2.0\n",
      "5.0\n",
      "2.0\n",
      "2.0\n",
      "2.0\n",
      "5.0\n",
      "5.0\n",
      "5.0\n",
      "2.0\n",
      "2.0\n",
      "9.0\n",
      "5.0\n",
      "5.0\n",
      "5.0\n",
      "2.0\n",
      "2.0\n",
      "5.0\n",
      "9.0\n",
      "5.0\n",
      "5.0\n",
      "5.0\n",
      "2.0\n",
      "9.0\n",
      "5.0\n",
      "5.0\n",
      "0.0\n",
      "5.0\n",
      "5.0\n",
      "3.0\n",
      "5.0\n",
      "5.0\n",
      "9.0\n",
      "5.0\n",
      "5.0\n",
      "5.0\n",
      "2.0\n",
      "5.0\n",
      "2.0\n",
      "9.0\n",
      "5.0\n",
      "2.0\n",
      "5.0\n",
      "3.0\n",
      "2.0\n",
      "5.0\n",
      "2.0\n",
      "3.0\n",
      "5.0\n",
      "5.0\n",
      "5.0\n",
      "2.0\n",
      "9.0\n",
      "3.0\n",
      "0.0\n",
      "5.0\n",
      "2.0\n",
      "5.0\n",
      "5.0\n",
      "5.0\n",
      "5.0\n",
      "5.0\n",
      "5.0\n",
      "5.0\n",
      "5.0\n",
      "5.0\n",
      "0.0\n",
      "3.0\n",
      "5.0\n",
      "5.0\n",
      "2.0\n",
      "5.0\n",
      "5.0\n",
      "5.0\n",
      "5.0\n",
      "5.0\n",
      "3.0\n",
      "2.0\n",
      "5.0\n",
      "9.0\n",
      "5.0\n",
      "0.0\n",
      "2.0\n",
      "5.0\n",
      "5.0\n",
      "2.0\n",
      "2.0\n",
      "5.0\n",
      "5.0\n",
      "5.0\n",
      "5.0\n",
      "5.0\n",
      "5.0\n",
      "5.0\n",
      "5.0\n",
      "0.0\n",
      "2.0\n",
      "5.0\n",
      "3.0\n",
      "5.0\n",
      "2.0\n",
      "3.0\n",
      "5.0\n",
      "5.0\n",
      "5.0\n",
      "0.0\n",
      "2.0\n",
      "2.0\n",
      "2.0\n",
      "5.0\n",
      "5.0\n",
      "3.0\n",
      "3.0\n",
      "5.0\n",
      "2.0\n",
      "2.0\n",
      "5.0\n",
      "5.0\n",
      "5.0\n",
      "5.0\n",
      "5.0\n",
      "5.0\n",
      "5.0\n",
      "2.0\n",
      "5.0\n",
      "5.0\n",
      "5.0\n",
      "5.0\n",
      "5.0\n",
      "5.0\n",
      "2.0\n",
      "5.0\n",
      "2.0\n",
      "5.0\n",
      "5.0\n",
      "5.0\n",
      "2.0\n",
      "5.0\n",
      "2.0\n",
      "5.0\n",
      "3.0\n",
      "5.0\n",
      "5.0\n",
      "5.0\n",
      "2.0\n",
      "5.0\n",
      "5.0\n",
      "5.0\n",
      "5.0\n",
      "0.0\n",
      "0.0\n",
      "5.0\n",
      "2.0\n",
      "5.0\n",
      "5.0\n",
      "5.0\n",
      "5.0\n",
      "3.0\n",
      "5.0\n",
      "5.0\n",
      "2.0\n",
      "2.0\n",
      "5.0\n",
      "2.0\n",
      "9.0\n",
      "5.0\n",
      "5.0\n",
      "2.0\n",
      "2.0\n",
      "5.0\n",
      "5.0\n",
      "2.0\n",
      "9.0\n",
      "5.0\n",
      "2.0\n",
      "5.0\n",
      "2.0\n",
      "5.0\n",
      "2.0\n",
      "5.0\n",
      "2.0\n",
      "5.0\n",
      "5.0\n",
      "3.0\n",
      "5.0\n",
      "3.0\n",
      "5.0\n",
      "2.0\n",
      "5.0\n",
      "5.0\n",
      "5.0\n",
      "5.0\n",
      "2.0\n",
      "5.0\n",
      "5.0\n",
      "5.0\n",
      "5.0\n",
      "9.0\n"
     ]
    }
   ],
   "source": [
    "for x in preds:\n",
    "    print x"
   ]
  },
  {
   "cell_type": "code",
   "execution_count": 40,
   "metadata": {},
   "outputs": [
    {
     "data": {
      "text/plain": [
       "(2307, 20, 173)"
      ]
     },
     "execution_count": 40,
     "metadata": {},
     "output_type": "execute_result"
    }
   ],
   "source": []
  },
  {
   "cell_type": "code",
   "execution_count": null,
   "metadata": {},
   "outputs": [],
   "source": []
  }
 ],
 "metadata": {
  "kernelspec": {
   "display_name": "Python 3",
   "language": "python",
   "name": "python3"
  },
  "language_info": {
   "codemirror_mode": {
    "name": "ipython",
    "version": 3
   },
   "file_extension": ".py",
   "mimetype": "text/x-python",
   "name": "python",
   "nbconvert_exporter": "python",
   "pygments_lexer": "ipython3",
   "version": "3.6.5"
  }
 },
 "nbformat": 4,
 "nbformat_minor": 2
}
