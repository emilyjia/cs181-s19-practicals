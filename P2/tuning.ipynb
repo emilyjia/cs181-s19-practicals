{
 "cells": [
  {
   "cell_type": "code",
   "execution_count": 14,
   "metadata": {},
   "outputs": [],
   "source": [
    "import os\n",
    "from collections import Counter\n",
    "try:\n",
    "    import xml.etree.cElementTree as ET\n",
    "except ImportError:\n",
    "    import xml.etree.ElementTree as ET\n",
    "import numpy as np\n",
    "from scipy import sparse\n",
    "\n",
    "import util\n",
    "from sklearn.ensemble import RandomForestClassifier\n",
    "from sklearn.model_selection import GridSearchCV"
   ]
  },
  {
   "cell_type": "code",
   "execution_count": 19,
   "metadata": {},
   "outputs": [],
   "source": [
    "def extract_feats(ffs, direc=\"train\", global_feat_dict=None):\n",
    "    \"\"\"\n",
    "    arguments:\n",
    "      ffs are a list of feature-functions.\n",
    "      direc is a directory containing xml files (expected to be train or test).\n",
    "      global_feat_dict is a dictionary mapping feature_names to column-numbers; it\n",
    "      should only be provided when extracting features from test data, so that\n",
    "      the columns of the test matrix align correctly.\n",
    "\n",
    "    returns:\n",
    "      a sparse design matrix, a dict mapping features to column-numbers,\n",
    "      a vector of target classes, and a list of system-call-history ids in order\n",
    "      of their rows in the design matrix.\n",
    "\n",
    "      Note: the vector of target classes returned will contain the true indices of the\n",
    "      target classes on the training data, but will contain only -1's on the test\n",
    "      data\n",
    "    \"\"\"\n",
    "    fds = [] # list of feature dicts\n",
    "    classes = []\n",
    "    ids = []\n",
    "    # x = os.listdir(direc)[1:]\n",
    "    for datafile in os.listdir(direc):\n",
    "        # extract id and true class (if available) from filename\n",
    "        id_str,clazz = datafile.split('.')[:2]\n",
    "        ids.append(id_str)\n",
    "        # add target class if this is training data\n",
    "        try:\n",
    "            classes.append(util.malware_classes.index(clazz))\n",
    "        except ValueError:\n",
    "            # we should only fail to find the label in our list of malware classes\n",
    "            # if this is test data, which always has an \"X\" label\n",
    "#             print clazz\n",
    "            assert clazz == \"X\"\n",
    "            classes.append(-1)\n",
    "        rowfd = {}\n",
    "        # parse file as an xml document\n",
    "        tree = ET.parse(os.path.join(direc,datafile))\n",
    "        # accumulate features\n",
    "        [rowfd.update(ff(tree)) for ff in ffs]\n",
    "        fds.append(rowfd)\n",
    "\n",
    "    X,feat_dict = make_design_mat(fds,global_feat_dict)\n",
    "    return X, feat_dict, np.array(classes), ids\n",
    "\n",
    "\n",
    "def make_design_mat(fds, global_feat_dict=None):\n",
    "    \"\"\"\n",
    "    arguments:\n",
    "      fds is a list of feature dicts (one for each row).\n",
    "      global_feat_dict is a dictionary mapping feature_names to column-numbers; it\n",
    "      should only be provided when extracting features from test data, so that\n",
    "      the columns of the test matrix align correctly.\n",
    "\n",
    "    returns:\n",
    "        a sparse NxD design matrix, where N == len(fds) and D is the number of\n",
    "        the union of features defined in any of the fds\n",
    "    \"\"\"\n",
    "    if global_feat_dict is None:\n",
    "        all_feats = set()\n",
    "        [all_feats.update(list(fd.keys())) for fd in fds]\n",
    "        feat_dict = dict([(feat, i) for i, feat in enumerate(sorted(all_feats))])\n",
    "    else:\n",
    "        feat_dict = global_feat_dict\n",
    "\n",
    "    cols = []\n",
    "    rows = []\n",
    "    data = []\n",
    "    for i in range(len(fds)):\n",
    "        temp_cols = []\n",
    "        temp_data = []\n",
    "        for feat,val in list(fds[i].items()):\n",
    "            try:\n",
    "                # update temp_cols iff update temp_data\n",
    "                temp_cols.append(feat_dict[feat])\n",
    "                temp_data.append(val)\n",
    "            except KeyError as ex:\n",
    "                if global_feat_dict is not None:\n",
    "                    pass  # new feature in test data; nbd\n",
    "                else:\n",
    "                    raise ex\n",
    "\n",
    "        # all fd's features in the same row\n",
    "        k = len(temp_cols)\n",
    "        cols.extend(temp_cols)\n",
    "        data.extend(temp_data)\n",
    "        rows.extend([i]*k)\n",
    "\n",
    "    assert len(cols) == len(rows) and len(rows) == len(data)\n",
    "\n",
    "\n",
    "    X = sparse.csr_matrix((np.array(data),\n",
    "                   (np.array(rows), np.array(cols))),\n",
    "                   shape=(len(fds), len(feat_dict)))\n",
    "    return X, feat_dict"
   ]
  },
  {
   "cell_type": "code",
   "execution_count": 71,
   "metadata": {},
   "outputs": [],
   "source": [
    "def count_file_hash(tree):\n",
    "    c = Counter()\n",
    "    for el in tree.iter():\n",
    "        if el.attrib.get(\"filename_hash\") == None:\n",
    "            continue\n",
    "        elif el.attrib[\"filename_hash\"] == \"hash_error\":\n",
    "            c[\"file_hash_error\"] += 1\n",
    "    return c\n",
    "        \n",
    "\n",
    "def count_src_hash(tree):\n",
    "    c = Counter()\n",
    "    for el in tree.iter():\n",
    "        if el.attrib.get(\"srcfile_hash\") == None:\n",
    "            continue\n",
    "        elif el.attrib[\"srcfile_hash\"] == \"hash_error\":\n",
    "            c[\"src_hash_error\"] += 1\n",
    "    return c\n",
    "        \n",
    "    \n",
    "def count_all_reasons(tree):\n",
    "    c = Counter()\n",
    "    for el in tree.iter():\n",
    "        if el.tag == \"process\":\n",
    "            c[\"term\" + el.attrib[\"terminationreason\"]] += 1\n",
    "            c[\"start\" + el.attrib[\"startreason\"]] += 1\n",
    "            c[el.attrib[\"executionstatus\"]] += 1\n",
    "    return c\n",
    "\n",
    "def count_all_attrib(tree):\n",
    "    c = Counter()\n",
    "    for el in tree.iter():\n",
    "        for attrib in el.attrib.keys():\n",
    "            if attrib in [\"shareaccess\", \"desiredaccess\", \"filetype\", \"flags\", \"protect\"]:\n",
    "                c[el.attrib[attrib]] += 1\n",
    "            c[attrib] += 1\n",
    "    return c\n",
    "\n",
    "\n",
    "# def count_all_flags(tree):\n",
    "#     c = Counter()\n",
    "#     for el in tree.iter():\n",
    "#         if el.attrib.get(\"flags\") == None:\n",
    "#             continue\n",
    "#         else:\n",
    "#             c[el.attrib[\"flags\"]] += 1\n",
    "#     return c\n",
    "\n",
    "\n",
    "def count_all_sleep(tree):\n",
    "    c = Counter()\n",
    "    for el in tree.iter():\n",
    "        if el.tag == \"sleep\":\n",
    "            c[el.attrib[\"milliseconds\"]] += 1\n",
    "    return c\n",
    "\n",
    "def first_last_system_call_feats(tree):\n",
    "    \"\"\"\n",
    "    arguments:\n",
    "      tree is an xml.etree.ElementTree object\n",
    "    returns:\n",
    "      a dictionary mapping 'first_call-x' to 1 if x was the first system call\n",
    "      made, and 'last_call-y' to 1 if y was the last system call made.\n",
    "      (in other words, it returns a dictionary indicating what the first and\n",
    "      last system calls made by an executable were.)\n",
    "    \"\"\"\n",
    "    c = Counter()\n",
    "    in_all_section = False\n",
    "    first = True # is this the first system call\n",
    "    last_call = None # keep track of last call we've seen\n",
    "    for el in tree.iter():\n",
    "        # ignore everything outside the \"all_section\" element\n",
    "        if el.tag == \"all_section\" and not in_all_section:\n",
    "            in_all_section = True\n",
    "        elif el.tag == \"all_section\" and in_all_section:\n",
    "            in_all_section = False\n",
    "        elif in_all_section:\n",
    "            if first:\n",
    "                c[\"first_call-\"+el.tag] = 1\n",
    "                first = False\n",
    "            last_call = el.tag  # update last call seen\n",
    "\n",
    "    # finally, mark last call seen\n",
    "    c[\"last_call-\"+last_call] = 1\n",
    "    return c\n",
    "\n",
    "def system_call_count_feats(tree):\n",
    "    c = Counter()\n",
    "    in_all_section = False\n",
    "    for el in tree.iter():\n",
    "        # ignore everything outside the \"all_section\" element\n",
    "        if el.tag == \"all_section\" and not in_all_section:\n",
    "            in_all_section = True\n",
    "        elif el.tag == \"all_section\" and in_all_section:\n",
    "            in_all_section = False\n",
    "        elif in_all_section:\n",
    "            c[el.tag] += 1\n",
    "    return c"
   ]
  },
  {
   "cell_type": "code",
   "execution_count": 72,
   "metadata": {},
   "outputs": [],
   "source": [
    "ffs = [count_file_hash, count_src_hash, count_all_reasons, count_all_attrib, count_all_sleep, first_last_system_call_feats, system_call_count_feats]\n",
    "X_train, global_feat_dict, t_train, train_ids = extract_feats(ffs, \"train\")"
   ]
  },
  {
   "cell_type": "code",
   "execution_count": 36,
   "metadata": {},
   "outputs": [
    {
     "ename": "NameError",
     "evalue": "name 'X_train' is not defined",
     "output_type": "error",
     "traceback": [
      "\u001b[0;31m---------------------------------------------------------------------------\u001b[0m",
      "\u001b[0;31mNameError\u001b[0m                                 Traceback (most recent call last)",
      "\u001b[0;32m<ipython-input-36-eb79ef5cc1a2>\u001b[0m in \u001b[0;36m<module>\u001b[0;34m()\u001b[0m\n\u001b[1;32m      5\u001b[0m \u001b[0mrfc\u001b[0m \u001b[0;34m=\u001b[0m \u001b[0mRandomForestClassifier\u001b[0m\u001b[0;34m(\u001b[0m\u001b[0mn_estimators\u001b[0m\u001b[0;34m=\u001b[0m\u001b[0;36m300\u001b[0m\u001b[0;34m,\u001b[0m \u001b[0mrandom_state\u001b[0m\u001b[0;34m=\u001b[0m\u001b[0;36m50\u001b[0m\u001b[0;34m)\u001b[0m\u001b[0;34m\u001b[0m\u001b[0m\n\u001b[1;32m      6\u001b[0m \u001b[0mgs\u001b[0m \u001b[0;34m=\u001b[0m \u001b[0mGridSearchCV\u001b[0m\u001b[0;34m(\u001b[0m\u001b[0mrfc\u001b[0m\u001b[0;34m,\u001b[0m \u001b[0mparams\u001b[0m\u001b[0;34m,\u001b[0m \u001b[0mn_jobs\u001b[0m\u001b[0;34m=\u001b[0m\u001b[0;34m-\u001b[0m\u001b[0;36m1\u001b[0m\u001b[0;34m,\u001b[0m \u001b[0mscoring\u001b[0m\u001b[0;34m=\u001b[0m\u001b[0;34m'accuracy'\u001b[0m\u001b[0;34m,\u001b[0m \u001b[0mcv\u001b[0m\u001b[0;34m=\u001b[0m\u001b[0;36m4\u001b[0m\u001b[0;34m,\u001b[0m \u001b[0mverbose\u001b[0m\u001b[0;34m=\u001b[0m\u001b[0;36m3\u001b[0m\u001b[0;34m)\u001b[0m\u001b[0;34m\u001b[0m\u001b[0m\n\u001b[0;32m----> 7\u001b[0;31m \u001b[0mgs\u001b[0m\u001b[0;34m.\u001b[0m\u001b[0mfit\u001b[0m\u001b[0;34m(\u001b[0m\u001b[0mX_train\u001b[0m\u001b[0;34m,\u001b[0m \u001b[0mt_train\u001b[0m\u001b[0;34m)\u001b[0m\u001b[0;34m\u001b[0m\u001b[0m\n\u001b[0m",
      "\u001b[0;31mNameError\u001b[0m: name 'X_train' is not defined"
     ]
    }
   ],
   "source": [
    "params = {'max_depth': [5, 10, 25, None],\n",
    "          'min_samples_split': [2, 5, 10, 15, 20],\n",
    "          'min_samples_leaf': [1, 5, 10, 15, 20]}\n",
    "          #'max_features': ['auto', None]}\n",
    "rfc = RandomForestClassifier(n_estimators=300, random_state=50)\n",
    "gs = GridSearchCV(rfc, params, n_jobs=-1, scoring='accuracy', cv=4, verbose=3)\n",
    "gs.fit(X_train, t_train)"
   ]
  },
  {
   "cell_type": "code",
   "execution_count": 21,
   "metadata": {},
   "outputs": [
    {
     "data": {
      "text/plain": [
       "({'max_depth': 25, 'min_samples_leaf': 1, 'min_samples_split': 5},\n",
       " 0.8976020738820479)"
      ]
     },
     "execution_count": 21,
     "metadata": {},
     "output_type": "execute_result"
    }
   ],
   "source": [
    "gs.best_params_, gs.best_score_"
   ]
  },
  {
   "cell_type": "code",
   "execution_count": 22,
   "metadata": {
    "scrolled": true
   },
   "outputs": [
    {
     "name": "stdout",
     "output_type": "stream",
     "text": [
      "Fitting 4 folds for each of 18 candidates, totalling 72 fits\n"
     ]
    },
    {
     "name": "stderr",
     "output_type": "stream",
     "text": [
      "[Parallel(n_jobs=-1)]: Done  24 tasks      | elapsed:  4.0min\n",
      "[Parallel(n_jobs=-1)]: Done  72 out of  72 | elapsed: 11.5min finished\n"
     ]
    },
    {
     "data": {
      "text/plain": [
       "GridSearchCV(cv=4, error_score='raise',\n",
       "       estimator=RandomForestClassifier(bootstrap=True, class_weight=None, criterion='gini',\n",
       "            max_depth=None, max_features='auto', max_leaf_nodes=None,\n",
       "            min_impurity_decrease=0.0, min_impurity_split=None,\n",
       "            min_samples_leaf=1, min_samples_split=2,\n",
       "            min_weight_fraction_leaf=0.0, n_estimators=300, n_jobs=1,\n",
       "            oob_score=False, random_state=50, verbose=0, warm_start=False),\n",
       "       fit_params=None, iid=True, n_jobs=-1,\n",
       "       param_grid={'max_depth': [22, 25, 28], 'max_features': ['auto', None], 'min_samples_split': [4, 5, 6]},\n",
       "       pre_dispatch='2*n_jobs', refit=True, return_train_score='warn',\n",
       "       scoring='accuracy', verbose=3)"
      ]
     },
     "execution_count": 22,
     "metadata": {},
     "output_type": "execute_result"
    }
   ],
   "source": [
    "params2 = {'max_depth': [22, 25, 28],\n",
    "           'max_features': ['auto', None],\n",
    "           'min_samples_split' : [4,5,6]}\n",
    "gs2 = GridSearchCV(rfc, params2, n_jobs=-1, scoring='accuracy', cv=4, verbose=3)\n",
    "gs2.fit(X_train, t_train)"
   ]
  },
  {
   "cell_type": "code",
   "execution_count": 23,
   "metadata": {},
   "outputs": [
    {
     "data": {
      "text/plain": [
       "({'max_depth': 28, 'max_features': 'auto', 'min_samples_split': 4},\n",
       " 0.9005184705119896)"
      ]
     },
     "execution_count": 23,
     "metadata": {},
     "output_type": "execute_result"
    }
   ],
   "source": [
    "gs2.best_params_, gs2.best_score_"
   ]
  },
  {
   "cell_type": "code",
   "execution_count": 24,
   "metadata": {},
   "outputs": [
    {
     "name": "stdout",
     "output_type": "stream",
     "text": [
      "Fitting 4 folds for each of 9 candidates, totalling 36 fits\n"
     ]
    },
    {
     "name": "stderr",
     "output_type": "stream",
     "text": [
      "[Parallel(n_jobs=-1)]: Done  24 tasks      | elapsed:   47.9s\n",
      "[Parallel(n_jobs=-1)]: Done  36 out of  36 | elapsed:  1.1min finished\n"
     ]
    },
    {
     "data": {
      "text/plain": [
       "({'max_depth': 26, 'min_samples_split': 4}, 0.9008425145819832)"
      ]
     },
     "execution_count": 24,
     "metadata": {},
     "output_type": "execute_result"
    }
   ],
   "source": [
    "params3 = {'min_samples_split' : [3,4,5],\n",
    "           'max_depth' : [26,28,30]}\n",
    "gs3 = GridSearchCV(rfc, params3, n_jobs=-1, scoring='accuracy', cv=4, verbose=3)\n",
    "gs3.fit(X_train, t_train)\n",
    "gs3.best_params_, gs3.best_score_"
   ]
  },
  {
   "cell_type": "code",
   "execution_count": null,
   "metadata": {},
   "outputs": [],
   "source": []
  },
  {
   "cell_type": "code",
   "execution_count": 76,
   "metadata": {},
   "outputs": [],
   "source": [
    "X_test,_,t_ignore,test_ids = extract_feats(ffs, \"test\", global_feat_dict=global_feat_dict)"
   ]
  },
  {
   "cell_type": "code",
   "execution_count": 18,
   "metadata": {},
   "outputs": [],
   "source": [
    "preds = gs3.best_estimator_.predict(X_test)"
   ]
  },
  {
   "cell_type": "code",
   "execution_count": 19,
   "metadata": {},
   "outputs": [],
   "source": [
    "util.write_predictions(preds, test_ids, \"021.csv\")"
   ]
  },
  {
   "cell_type": "code",
   "execution_count": 84,
   "metadata": {},
   "outputs": [],
   "source": [
    "rfc = RandomForestClassifier(n_estimators=300, random_state=50, min_samples_split =4, max_depth = 26)"
   ]
  },
  {
   "cell_type": "code",
   "execution_count": 85,
   "metadata": {},
   "outputs": [
    {
     "data": {
      "text/plain": [
       "RandomForestClassifier(bootstrap=True, class_weight=None, criterion='gini',\n",
       "            max_depth=26, max_features='auto', max_leaf_nodes=None,\n",
       "            min_impurity_decrease=0.0, min_impurity_split=None,\n",
       "            min_samples_leaf=1, min_samples_split=4,\n",
       "            min_weight_fraction_leaf=0.0, n_estimators=300, n_jobs=None,\n",
       "            oob_score=False, random_state=50, verbose=0, warm_start=False)"
      ]
     },
     "execution_count": 85,
     "metadata": {},
     "output_type": "execute_result"
    }
   ],
   "source": [
    "rfc.fit(X_train, t_train)"
   ]
  },
  {
   "cell_type": "code",
   "execution_count": 86,
   "metadata": {},
   "outputs": [],
   "source": [
    "preds = rfc.predict(X_test)"
   ]
  },
  {
   "cell_type": "code",
   "execution_count": 87,
   "metadata": {},
   "outputs": [],
   "source": [
    "util.write_predictions(preds, test_ids, \"024.csv\")"
   ]
  },
  {
   "cell_type": "code",
   "execution_count": 95,
   "metadata": {},
   "outputs": [
    {
     "data": {
      "image/png": "[encoded data removed]",
      "text/plain": [
       "<matplotlib.figure.Figure at 0x109e26fd0>"
      ]
     },
     "metadata": {},
     "output_type": "display_data"
    }
   ],
   "source": [
    "import matplotlib.pyplot as plt\n",
    "%matplotlib inline\n",
    "importances = rfc.feature_importances_\n",
    "indices = np.argsort(importances)[::-1]\n",
    "plt.figure()\n",
    "plt.title(\"Feature importances\")\n",
    "plt.bar(range(X_train.shape[1]), importances[indices],\n",
    "       color=\"r\", align=\"center\")\n",
    "plt.xticks(range(X_train.shape[1]), indices)\n",
    "plt.xlim([-1, X_train.shape[1]])\n",
    "plt.show()"
   ]
  },
  {
   "cell_type": "code",
   "execution_count": 97,
   "metadata": {},
   "outputs": [
    {
     "name": "stdout",
     "output_type": "stream",
     "text": [
      "{'FILE_ANY_ACCESS FILE_WRITE_ACCESS FILE_WRITE_DATA FILE_ADD_FILE': 143, 'sleep': 464, 'FILE_ATTRIBUTE_NOT_CONTENT_INDEXED SECURITY_ANONYMOUS': 180, 'load_driver': 404, 'get_host_by_addr': 349, 'create_interface': 287, 'last_call-open_process': 390, '0': 0, 'FILE_ATTRIBUTE_ARCHIVE SECURITY_ANONYMOUS': 164, 'enum_keys': 322, '22000': 46, 'wantedaddress': 511, 'creationflags': 302, 'logon_as_user': 409, 'write_value': 516, 'PAGE_EXECUTE_WRITECOPY': 240, 'PROCESS_ALL_ACCESS PROCESS_CREATE_PROCESS PROCESS_CREATE_THREAD PROCESS_DUP_HANDLE PROCESS_QUERY_INFORMATION PROCESS_SET_INFORMATION PROCESS_TERMINATE PROCESS_VM_OPERATION PROCESS_VM_READ PROCESS_VM_WRITE PROCESS_SET_SESSIONID PROCESS_SET_QUOTA SYNCHRONIZE': 246, 'CouldNotCreateProcess': 129, 'allocationtype': 263, 'starttime': 480, 'PAGE_EXECUTE_READ': 238, 'dump_line': 318, '199': 36, 'INTERNET_FLAG_RELOAD INTERNET_FLAG_NO_CACHE_WRITE INTERNET_FLAG_DONT_CACHE INTERNET_FLAG_NO_COOKIES': 221, 'FILE_ATTRIBUTE_HIDDEN FILE_ATTRIBUTE_SYSTEM FILE_ATTRIBUTE_NOT_CONTENT_INDEXED SECURITY_ANONYMOUS': 173, 'port': 434, 'get_userinfo': 353, 'index': 367, 'PROCESS_QUERY_INFORMATION SYNCHRONIZE': 256, 'find_file': 343, 'section': 447, 'PROCESS_QUERY_INFORMATION PROCESS_TERMINATE': 252, 'PROCESS_CREATE_THREAD PROCESS_QUERY_INFORMATION PROCESS_VM_OPERATION PROCESS_VM_WRITE': 249, '18467': 33, 'move_file': 414, 'FILE_ANY_ACCESS FILE_ADD_SUBDIRECTORY FILE_APPEND_DATA FILE_CREATE_PIPE_INSTANCE FILE_READ_EA FILE_WRITE_EA': 132, '927000': 121, '5000': 89, 'INTERNET_FLAG_KEEP_CONNECTION INTERNET_FLAG_RESYNCHRONIZE INTERNET_FLAG_PRAGMA_NOCACHE': 197, 'last_call-vm_protect': 399, 'FILE_ANY_ACCESS FILE_WRITE_ATTRIBUTES': 146, 'commandline': 278, '909000': 117, '60000': 98, 'create_mailslot': 289, 'address': 262, 'INTERNET_FLAG_NO_CACHE_WRITE INTERNET_FLAG_DONT_CACHE INTERNET_FLAG_SECURE INTERNET_FLAG_NO_AUTO_REDIRECT INTERNET_FLAG_NO_COOKIES INTERNET_FLAG_IGNORE_CERT_CN_INVALID INTERNET_FLAG_IGNORE_CERT_DATE_INVALID': 205, 'last_call-thread': 398, '100': 3, 'last_call-create_window': 376, '39': 78, '38': 77, 'enum_share': 326, '33': 69, '32': 68, '31': 67, '30': 60, '37': 76, '36': 73, '35': 71, '34': 70, 'creationdistribution': 301, 'PAGE_WRITECOPY': 245, 'FILE_ATTRIBUTE_ARCHIVE FILE_ATTRIBUTE_COMPRESSED FILE_ATTRIBUTE_HIDDEN FILE_ATTRIBUTE_NORMAL FILE_ATTRIBUTE_OFFLINE FILE_ATTRIBUTE_SYSTEM FILE_ATTRIBUTE_TEMPORARY FILE_ATTRIBUTE_SPARSE_FILE FILE_ATTRIBUTE_REPARSE_POINT FILE_ATTRIBUTE_COMPRESSED FILE_ATTRIBUTE_OFFLINE FILE_ATTRIBUTE_NOT_CONTENT_INDEXED FILE_ATTRIBUTE_ENCRYPTED SECURITY_ANONYMOUS': 151, 'FILE_SHARE_DELETE FILE_SHARE_READ FILE_SHARE_WRITE': 185, 'INTERNET_FLAG_RELOAD INTERNET_FLAG_NO_CACHE_WRITE INTERNET_FLAG_DONT_CACHE INTERNET_FLAG_KEEP_CONNECTION': 216, 'INTERNET_FLAG_HYPERLINK INTERNET_FLAG_NEED_FILE INTERNET_FLAG_MUST_CACHE_REQUEST': 191, 'INTERNET_FLAG_NO_CACHE_WRITE INTERNET_FLAG_DONT_CACHE INTERNET_FLAG_NO_UI': 203, 'filetype': 342, '90000': 115, 'last_call-create_open_file': 374, 'INTERNET_FLAG_RELOAD INTERNET_FLAG_EXISTING_CONNECT INTERNET_FLAG_NO_CACHE_WRITE INTERNET_FLAG_DONT_CACHE INTERNET_FLAG_KEEP_CONNECTION': 211, 'FILE_ATTRIBUTE_HIDDEN FILE_ATTRIBUTE_TEMPORARY SECURITY_ANONYMOUS': 175, 'last_call-set_value': 394, 'last_call-enum_window': 378, 'parameteraddress': 430, 'process': 435, 'last_call-load_dll': 386, '6': 96, 'tokenhandle': 497, 'set_thread_context': 456, 'milliseconds': 413, 'MOVEFILE_DELAY_UNTIL_REBOOT': 232, 'successful': 485, 'find_window': 344, 'last_call-set_windows_hook': 395, 'iid': 365, 'PAGE_NOACCESS': 241, '20000': 41, '7000': 102, '92': 119, '97': 125, 'interfaceid': 369, 'last_call-process': 391, 'start_service': 478, 'winsock_result': 515, 'impersonate_user': 366, 'control': 281, 'read_value': 440, 'PROCESS_CREATE_THREAD PROCESS_DUP_HANDLE PROCESS_QUERY_INFORMATION PROCESS_VM_OPERATION PROCESS_VM_READ PROCESS_VM_WRITE': 247, 'namedpipe': 416, 'vm_read': 509, 'check_for_debugger': 272, '1033000': 11, 'INTERNET_FLAG_RELOAD INTERNET_FLAG_NO_CACHE_WRITE INTERNET_FLAG_DONT_CACHE': 214, 'showwindow': 462, 'FILE_ANY_ACCESS FILE_READ_ACCESS FILE_READ_DATA FILE_LIST_DIRECTORY FILE_READ_ATTRIBUTES': 136, 'delete_service': 306, 'hookid': 359, '1056000': 13, 'last_call-query_value': 392, '86500000': 112, 'INTERNET_FLAG_KEEP_CONNECTION INTERNET_FLAG_NEED_FILE INTERNET_FLAG_MUST_CACHE_REQUEST': 194, 'srcfile': 469, 'exitflags': 334, 'protect': 437, 'last_call-show_window': 396, '1': 1, 'last_call-listen_socket': 385, '120000': 22, 'accept_socket': 260, 'trimmed_bytes': 499, 'vm_mapviewofsection': 507, 'WindowsLoaderError': 259, 'data': 303, 'end_address': 319, 'startDCOMService': 474, 'MOVEFILE_REPLACE_EXISTING': 235, 'delete_key': 305, 'remove_directory': 445, 'create_namedpipe': 291, 'FILE_ATTRIBUTE_ARCHIVE FILE_ATTRIBUTE_COMPRESSED FILE_ATTRIBUTE_HIDDEN FILE_ATTRIBUTE_READONLY FILE_ATTRIBUTE_SYSTEM FILE_ATTRIBUTE_COMPRESSED SECURITY_ANONYMOUS': 152, 'PROCESS_QUERY_INFORMATION PROCESS_TERMINATE PROCESS_VM_READ': 253, 'termUnknown': 491, 'FILE_ANY_ACCESS FILE_WRITE_ACCESS FILE_WRITE_DATA FILE_ADD_FILE FILE_ADD_SUBDIRECTORY FILE_APPEND_DATA FILE_CREATE_PIPE_INSTANCE FILE_WRITE_EA FILE_WRITE_ATTRIBUTES': 145, 'apifunction': 264, 'INTERNET_FLAG_RELOAD INTERNET_FLAG_NO_COOKIES INTERNET_FLAG_IGNORE_CERT_CN_INVALID INTERNET_FLAG_IGNORE_CERT_DATE_INVALID INTERNET_FLAG_IGNORE_REDIRECT_TO_HTTPS INTERNET_FLAG_IGNORE_REDIRECT_TO_HTTP': 224, 'termKilledByWindowsLoader': 488, '913000': 118, 'last_call-open_key': 389, '25': 49, '26': 53, '27': 55, '20': 38, '21': 43, 'INTERNET_FLAG_RELOAD INTERNET_FLAG_NO_CACHE_WRITE INTERNET_FLAG_DONT_CACHE INTERNET_FLAG_PRAGMA_NOCACHE': 222, '3600000': 74, '28': 56, '29': 58, 'wantedsize': 512, 'create_mutex': 290, '400': 81, 'FILE_ANY_ACCESS FILE_READ_ACCESS FILE_READ_DATA FILE_LIST_DIRECTORY FILE_WRITE_ACCESS FILE_WRITE_DATA FILE_ADD_FILE FILE_ADD_SUBDIRECTORY FILE_APPEND_DATA FILE_CREATE_PIPE_INSTANCE FILE_READ_EA FILE_WRITE_EA FILE_EXECUTE FILE_TRAVERSE FILE_READ_ATTRIBUTES FILE_WRITE_ATTRIBUTES': 140, 'enum_values': 329, 'enum_items': 321, 'last_call-get_file_attributes': 380, 'FILE_SHARE_READ': 186, 'MOVEFILE_DELAY_UNTIL_REBOOT MOVEFILE_REPLACE_EXISTING': 233, 'bind_socket': 269, 'INTERNET_FLAG_RESYNCHRONIZE': 228, 'FILE_ANY_ACCESS FILE_WRITE_ACCESS FILE_WRITE_DATA FILE_ADD_FILE FILE_ADD_SUBDIRECTORY FILE_APPEND_DATA FILE_CREATE_PIPE_INSTANCE': 144, 'PROCESS_CREATE_THREAD PROCESS_QUERY_INFORMATION PROCESS_VM_OPERATION PROCESS_VM_READ PROCESS_VM_WRITE': 248, 'set_value': 457, 'name': 415, 'vm_write': 510, 'FILE_ANY_ACCESS FILE_READ_ACCESS FILE_READ_DATA FILE_LIST_DIRECTORY FILE_WRITE_ACCESS FILE_WRITE_DATA FILE_ADD_FILE FILE_ADD_SUBDIRECTORY FILE_APPEND_DATA FILE_CREATE_PIPE_INSTANCE FILE_READ_EA FILE_WRITE_EA FILE_EXECUTE FILE_TRAVERSE FILE_DELETE_CHILD FILE_READ_ATTRIBUTES FILE_WRITE_ATTRIBUTES': 139, 'windowname': 514, 'INTERNET_FLAG_RELOAD': 209, 'domain': 312, 'FILE_SHARE_DELETE FILE_SHARE_READ': 184, 'INTERNET_FLAG_NO_CACHE_WRITE INTERNET_FLAG_DONT_CACHE INTERNET_FLAG_KEEP_CONNECTION INTERNET_FLAG_PRAGMA_NOCACHE': 201, 'connect': 279, '83': 109, '80': 107, '84': 110, 'FILE_ATTRIBUTE_ARCHIVE FILE_ATTRIBUTE_HIDDEN FILE_ATTRIBUTE_NORMAL FILE_ATTRIBUTE_OFFLINE FILE_ATTRIBUTE_SYSTEM FILE_ATTRIBUTE_OFFLINE FILE_ATTRIBUTE_ENCRYPTED SECURITY_ANONYMOUS': 156, 'open_file': 422, 'INTERNET_FLAG_RELOAD INTERNET_FLAG_NO_CACHE_WRITE INTERNET_FLAG_DONT_CACHE INTERNET_FLAG_KEEP_CONNECTION INTERNET_FLAG_NO_AUTH INTERNET_FLAG_IGNORE_CERT_CN_INVALID INTERNET_FLAG_IGNORE_CERT_DATE_INVALID INTERNET_FLAG_IGNORE_REDIRECT_TO_HTTPS INTERNET_FLAG_IGNORE_REDIRECT_TO_HTTP INTERNET_FLAG_NO_UI INTERNET_FLAG_PRAGMA_NOCACHE': 217, 'last_call-create_mutex': 373, 'last_call-create_thread': 375, 'clsid': 274, '11280': 16, 'PAGE_READWRITE': 243, 'last_call-open_file': 388, 'get_system_time': 352, 'terminationreason': 492, 'FILE_ATTRIBUTE_ARCHIVE FILE_ATTRIBUTE_HIDDEN FILE_ATTRIBUTE_READONLY FILE_ATTRIBUTE_SYSTEM SECURITY_ANONYMOUS': 157, 'last_call-write_value': 400, 'md5': 411, 'open_mutex': 424, 'FILE_ATTRIBUTE_COMPRESSED FILE_ATTRIBUTE_HIDDEN FILE_ATTRIBUTE_READONLY FILE_ATTRIBUTE_SYSTEM FILE_ATTRIBUTE_COMPRESSED SECURITY_ANONYMOUS': 167, 'FILE_ATTRIBUTE_ARCHIVE FILE_ATTRIBUTE_COMPRESSED FILE_ATTRIBUTE_READONLY FILE_ATTRIBUTE_COMPRESSED SECURITY_ANONYMOUS': 155, 'local_port': 406, '12000': 21, '28000': 57, '941000': 122, '100000': 6, 'target': 486, '511': 91, '1001': 7, '1000': 4, 'FILE_ATTRIBUTE_ARCHIVE FILE_ATTRIBUTE_COMPRESSED FILE_ATTRIBUTE_HIDDEN FILE_ATTRIBUTE_COMPRESSED SECURITY_ANONYMOUS': 149, 'SERVICE_ALL_ACCESS': 258, 'owned': 429, 'classname': 273, '15000': 26, '176': 30, 'message': 412, 'size': 463, '1078000': 14, 'hook_module': 358, 'service': 450, 'last_call-dump_line': 377, 'top': 498, 'INTERNET_FLAG_RELOAD INTERNET_FLAG_RESYNCHRONIZE INTERNET_FLAG_PRAGMA_NOCACHE': 227, 'INTERNET_FLAG_KEEP_CONNECTION INTERNET_FLAG_RESYNCHRONIZE INTERNET_FLAG_HYPERLINK INTERNET_FLAG_PRAGMA_NOCACHE': 196, '1500': 25, 'PAGE_EXECUTE_READWRITE': 239, 'progid': 436, '946000': 123, 'INTERNET_FLAG_RELOAD INTERNET_FLAG_KEEP_CONNECTION INTERNET_FLAG_HYPERLINK INTERNET_FLAG_PRAGMA_NOCACHE INTERNET_FLAG_FORMS_SUBMIT': 213, 'localfile': 407, 'destroy_window': 310, 'INTERNET_FLAG_NO_CACHE_WRITE INTERNET_FLAG_DONT_CACHE': 198, '11': 15, 'FILE_SHARE_READ FILE_SHARE_WRITE': 187, 'set_file_time': 454, '14': 24, '17': 29, 'PAGE_READWRITE PAGE_GUARD': 244, 'terminationtime': 493, 'create_thread_remote': 299, 'show_window': 461, 'servicename': 451, 'server': 449, '180000': 31, '1014000': 9, 'file_hash': 337, 'PROCESS_QUERY_INFORMATION PROCESS_VM_READ': 255, 'localfile_hash': 408, 'INTERNET_FLAG_RELOAD INTERNET_FLAG_RAW_DATA': 226, 'remote_addr': 443, '4000': 82, 'FILE_ATTRIBUTE_ARCHIVE FILE_ATTRIBUTE_NOT_CONTENT_INDEXED SECURITY_ANONYMOUS': 161, 'FILE_ATTRIBUTE_COMPRESSED FILE_ATTRIBUTE_HIDDEN FILE_ATTRIBUTE_COMPRESSED SECURITY_ANONYMOUS': 166, 'control_service': 282, 'flags': 346, 'startreason': 479, '200': 39, 'download_file_to_cache': 314, '25000': 52, 'targetpid': 487, 'set_file_attributes': 453, '77': 104, 'revert_to_self': 446, 'FILE_ATTRIBUTE_ARCHIVE FILE_ATTRIBUTE_HIDDEN SECURITY_ANONYMOUS': 159, '78': 105, 'INTERNET_FLAG_RELOAD INTERNET_FLAG_EXISTING_CONNECT': 210, 'url': 502, 'dstfile_hash': 316, 'INTERNET_FLAG_EXISTING_CONNECT INTERNET_FLAG_NO_AUTO_REDIRECT': 190, 'FILE_ATTRIBUTE_COMPRESSED FILE_ATTRIBUTE_READONLY FILE_ATTRIBUTE_COMPRESSED SECURITY_ANONYMOUS': 169, 'hook_address': 357, 'startBHOInstalled': 472, 'last_call-check_for_debugger': 372, 'MOVEFILE_COPY_ALLOWED MOVEFILE_REPLACE_EXISTING': 231, 'INTERNET_FLAG_SECURE': 229, 'MOVEFILE_REPLACE_EXISTING MOVEFILE_WRITE_THROUGH': 236, '1034000': 12, 'FILE_ANY_ACCESS FILE_READ_ACCESS FILE_READ_DATA FILE_LIST_DIRECTORY FILE_WRITE_ACCESS FILE_WRITE_DATA FILE_ADD_FILE FILE_ADD_SUBDIRECTORY FILE_APPEND_DATA FILE_CREATE_PIPE_INSTANCE FILE_READ_EA FILE_WRITE_EA FILE_READ_ATTRIBUTES FILE_WRITE_ATTRIBUTES': 141, 'create_open_file': 292, 'executionstatus': 332, 'shareaccess': 460, '6000': 97, 'last_call-sleep': 397, 'last_call-get_system_time': 383, '600000': 99, 'read_section': 439, 'PROCESS_DUP_HANDLE PROCESS_QUERY_INFORMATION': 250, 'executionerror': 331, 'get_computer_name': 347, '200000': 42, 'last_call-load_driver': 387, '10': 2, 'subtypename': 484, '870000': 113, 'exit_windows': 333, 'enum_modules': 323, 'MOVEFILE_DELAY_UNTIL_REBOOT MOVEFILE_REPLACE_EXISTING MOVEFILE_WRITE_THROUGH': 234, '120': 20, '86400000': 111, '125': 23, '2': 37, 'delete_value': 308, 'enum_types': 328, 'FILE_ATTRIBUTE_ARCHIVE FILE_ATTRIBUTE_NORMAL SECURITY_ANONYMOUS': 160, 'startSvcHost': 477, 'send_socket': 448, 'INTERNET_FLAG_RELOAD INTERNET_FLAG_NO_CACHE_WRITE INTERNET_FLAG_DONT_CACHE INTERNET_FLAG_KEEP_CONNECTION INTERNET_FLAG_NO_AUTO_REDIRECT INTERNET_FLAG_NO_COOKIES INTERNET_FLAG_NO_AUTH INTERNET_FLAG_IGNORE_CERT_CN_INVALID INTERNET_FLAG_IGNORE_CERT_DATE_INVALID INTERNET_FLAG_IGNORE_REDIRECT_TO_HTTPS INTERNET_FLAG_IGNORE_REDIRECT_TO_HTTP INTERNET_FLAG_NO_UI INTERNET_FLAG_PRAGMA_NOCACHE': 218, '4294967295': 85, 'INTERNET_FLAG_KEEP_CONNECTION': 192, 'user': 503, 'open_url': 428, 'unload_driver': 501, 'dump': 317, '420000': 84, 'FILE_ATTRIBUTE_COMPRESSED FILE_ATTRIBUTE_HIDDEN FILE_ATTRIBUTE_SYSTEM FILE_ATTRIBUTE_COMPRESSED SECURITY_ANONYMOUS': 168, '19472': 35, 'INTERNET_FLAG_RELOAD INTERNET_FLAG_NO_CACHE_WRITE INTERNET_FLAG_DONT_CACHE INTERNET_FLAG_NO_AUTH INTERNET_FLAG_IGNORE_CERT_CN_INVALID INTERNET_FLAG_IGNORE_CERT_DATE_INVALID INTERNET_FLAG_IGNORE_REDIRECT_TO_HTTPS INTERNET_FLAG_IGNORE_REDIRECT_TO_HTTP INTERNET_FLAG_NO_UI INTERNET_FLAG_PRAGMA_NOCACHE': 219, 'FILE_ATTRIBUTE_HIDDEN FILE_ATTRIBUTE_READONLY FILE_ATTRIBUTE_SYSTEM SECURITY_ANONYMOUS': 171, 'startAnalysisTarget': 471, 'FILE_SHARE_WRITE': 188, 'get_file_attributes': 348, 'remote_port': 444, 'FILE_ANY_ACCESS FILE_READ_ACCESS FILE_READ_DATA FILE_LIST_DIRECTORY': 134, 'filename': 339, 'query_value': 438, '3': 59, 'last_call-find_file': 379, 'open_key': 423, 'create_socket': 297, 'last_call-get_host_by_name': 381, 'create_process_as_user': 294, 'new_local_time': 420, '3660000': 75, 'style': 483, 'INTERNET_FLAG_KEEP_CONNECTION INTERNET_FLAG_NO_UI': 195, 'INTERNET_FLAG_NO_CACHE_WRITE INTERNET_FLAG_DONT_CACHE INTERNET_FLAG_KEEP_CONNECTION': 200, 'key': 370, '1006000': 8, 'srcfile_hash': 470, 'dstfile': 315, 'listen_socket': 402, '787': 106, '22': 45, 'FILE_ANY_ACCESS': 131, '11296': 17, 'last_call-kill_process': 384, 'INTERNET_FLAG_NO_CACHE_WRITE INTERNET_FLAG_DONT_CACHE INTERNET_FLAG_PRAGMA_NOCACHE': 204, '3000': 62, 'com_get_class_object': 277, '250': 50, 'INTERNET_FLAG_NO_UI INTERNET_FLAG_PRAGMA_NOCACHE': 206, 'FILE_ATTRIBUTE_COMPRESSED FILE_ATTRIBUTE_COMPRESSED SECURITY_ANONYMOUS': 165, 'load_image': 405, 'delete_share': 307, 'create_process': 293, 'FILE_ATTRIBUTE_HIDDEN FILE_ATTRIBUTE_SYSTEM SECURITY_ANONYMOUS': 174, 'INTERNET_FLAG_RELOAD INTERNET_FLAG_NO_CACHE_WRITE INTERNET_FLAG_DONT_CACHE INTERNET_FLAG_SECURE INTERNET_FLAG_PRAGMA_NOCACHE': 223, 'inprocserver32': 368, '500': 88, 'username': 504, '30000': 63, '57000': 95, 'enum_handles': 320, 'referer': 442, 'INTERNET_FLAG_SECURE INTERNET_FLAG_KEEP_CONNECTION INTERNET_FLAG_HYPERLINK': 230, 'value': 505, 'typename': 500, 'exstyle': 335, 'behavior': 268, 'last_call-get_system_directory': 382, 'httpversion': 363, 'enum_services': 325, '10000': 5, 'asuser': 267, 'startInjectedCode': 475, 'socket_type': 467, 'file_hash_error': 338, 'FILE_ATTRIBUTE_HIDDEN SECURITY_ANONYMOUS': 176, 'FILE_ANY_ACCESS FILE_READ_ACCESS FILE_READ_DATA FILE_LIST_DIRECTORY FILE_WRITE_ACCESS FILE_WRITE_DATA FILE_ADD_FILE': 138, 'displayname': 311, 'ascii': 266, 'set_system_time': 455, 'hostname': 361, 'first_call-load_image': 345, 'FILE_ATTRIBUTE_ARCHIVE FILE_ATTRIBUTE_COMPRESSED FILE_ATTRIBUTE_COMPRESSED SECURITY_ANONYMOUS': 148, '9': 114, 'FILE_ATTRIBUTE_HIDDEN FILE_ATTRIBUTE_READONLY SECURITY_ANONYMOUS': 172, 'new_client_socket': 419, 'FILE_ATTRIBUTE_TEMPORARY SECURITY_ANONYMOUS': 183, 'get_host_by_name': 350, '5203': 93, 'startCreateProcess': 473, 'FILE_ATTRIBUTE_ARCHIVE FILE_ATTRIBUTE_COMPRESSED FILE_ATTRIBUTE_READONLY FILE_ATTRIBUTE_COMPRESSED FILE_ATTRIBUTE_NOT_CONTENT_INDEXED SECURITY_ANONYMOUS': 154, 'sha1': 459, 'namedpipeopenmode': 417, 'FILE_ATTRIBUTE_ARCHIVE FILE_ATTRIBUTE_HIDDEN FILE_ATTRIBUTE_SYSTEM SECURITY_ANONYMOUS': 158, 'FILE_ATTRIBUTE_NORMAL FILE_ATTRIBUTE_NOT_CONTENT_INDEXED SECURITY_ANONYMOUS': 177, 'parentindex': 431, 'enum_subtypes': 327, 'create_directory': 285, 'INTERNET_FLAG_KEEP_CONNECTION INTERNET_FLAG_HYPERLINK': 193, '350': 72, '800': 108, 'left': 401, 'filename_hash': 340, '21000': 44, 'recv_socket': 441, '3048': 66, 'open_scmanager': 426, 'INTERNET_FLAG_NO_CACHE_WRITE INTERNET_FLAG_DONT_CACHE INTERNET_FLAG_HYPERLINK': 199, '41': 83, 'termTimeout': 490, 'INTERNET_FLAG_RELOAD INTERNET_FLAG_KEEP_CONNECTION': 212, 'termNormalTermination': 489, 'password': 432, 'struct': 482, 'INTERNET_FLAG_PRAGMA_NOCACHE': 208, '300': 61, '4': 79, 'FILE_ANY_ACCESS FILE_READ_ACCESS FILE_READ_DATA FILE_LIST_DIRECTORY FILE_EXECUTE FILE_TRAVERSE FILE_READ_ATTRIBUTES': 135, 'change_service_config': 271, 'copy_file': 283, 'INTERNET_FLAG_EXISTING_CONNECT': 189, 'height': 356, 'open_service': 427, 'OK': 237, 'hwnd': 364, '56': 94, '51': 90, '50': 87, '52': 92, '11478': 18, 'INTERNET_FLAG_PASSIVE': 207, 'thread': 494, 'SECURITY_ANONYMOUS': 257, 'com_create_instance': 275, '923000': 120, 'FILE_ANY_ACCESS FILE_READ_ATTRIBUTES': 142, 'get_username': 354, 'create_service': 296, '15724': 28, 'create_file': 286, '1030000': 10, '300000': 64, 'src_hash_error': 468, 'FILE_ATTRIBUTE_READONLY SECURITY_ANONYMOUS': 181, 'delete_file': 304, '977000': 126, 'FILE_ATTRIBUTE_ARCHIVE FILE_ATTRIBUTE_SYSTEM SECURITY_ANONYMOUS': 163, '301': 65, 'FILE_ATTRIBUTE_ARCHIVE FILE_ATTRIBUTE_COMPRESSED FILE_ATTRIBUTE_HIDDEN FILE_ATTRIBUTE_NORMAL FILE_ATTRIBUTE_OFFLINE FILE_ATTRIBUTE_READONLY FILE_ATTRIBUTE_SYSTEM FILE_ATTRIBUTE_TEMPORARY FILE_ATTRIBUTE_SPARSE_FILE FILE_ATTRIBUTE_REPARSE_POINT FILE_ATTRIBUTE_COMPRESSED FILE_ATTRIBUTE_OFFLINE FILE_ATTRIBUTE_NOT_CONTENT_INDEXED FILE_ATTRIBUTE_ENCRYPTED SECURITY_ANONYMOUS': 150, 'host': 360, 'com_createole_object': 276, 'offset': 421, 'FILE_ATTRIBUTE_ARCHIVE FILE_ATTRIBUTE_COMPRESSED FILE_ATTRIBUTE_NORMAL FILE_ATTRIBUTE_OFFLINE FILE_ATTRIBUTE_TEMPORARY FILE_ATTRIBUTE_SPARSE_FILE FILE_ATTRIBUTE_REPARSE_POINT FILE_ATTRIBUTE_COMPRESSED FILE_ATTRIBUTE_OFFLINE FILE_ATTRIBUTE_NOT_CONTENT_INDEXED FILE_ATTRIBUTE_ENCRYPTED SECURITY_ANONYMOUS': 153, 'FILE_ATTRIBUTE_NORMAL SECURITY_ANONYMOUS': 179, 'socket': 466, '995000': 127, 'PROCESS_QUERY_INFORMATION': 251, '19169': 34, 'get_windows_directory': 355, 'threadid': 495, '999000': 128, '1800000': 32, 'enum_processes': 324, 'PROCESS_QUERY_INFORMATION PROCESS_VM_OPERATION PROCESS_VM_READ PROCESS_VM_WRITE': 254, 'download_file': 313, 'kill_process': 371, 'PAGE_READONLY': 242, 'httpverb': 362, 'servicetype': 452, '24000': 48, 'width': 513, 'filesize': 341, 'get_system_directory': 351, 'create_process_nt': 295, '750': 103, 'FILE_ANY_ACCESS FILE_READ_ACCESS FILE_READ_DATA FILE_LIST_DIRECTORY FILE_READ_EA FILE_READ_ATTRIBUTES': 137, 'INTERNET_FLAG_RELOAD INTERNET_FLAG_NO_CACHE_WRITE INTERNET_FLAG_DONT_CACHE INTERNET_FLAG_NO_AUTH INTERNET_FLAG_IGNORE_CERT_CN_INVALID INTERNET_FLAG_IGNORE_CERT_DATE_INVALID INTERNET_FLAG_NO_UI INTERNET_FLAG_PRAGMA_NOCACHE': 220, 'FILE_ATTRIBUTE_NORMAL FILE_ATTRIBUTE_TEMPORARY SECURITY_ANONYMOUS': 178, 'vm_allocate': 506, 'networkressource': 418, 'connect_socket': 280, 'applicationtype': 265, 'startSCM': 476, '222': 47, 'count': 284, 'INTERNET_FLAG_RELOAD INTERNET_FLAG_PRAGMA_NOCACHE': 225, '1189': 19, '900000': 116, 'open_process': 425, 'set_windows_hook': 458, 'FILE_ATTRIBUTE_HIDDEN FILE_ATTRIBUTE_NORMAL FILE_ATTRIBUTE_SYSTEM SECURITY_ANONYMOUS': 170, 'FILE_ANY_ACCESS FILE_EXECUTE FILE_TRAVERSE': 133, 'load_dll': 403, '607': 100, 'create_window': 300, 'INTERNET_FLAG_NO_CACHE_WRITE INTERNET_FLAG_DONT_CACHE INTERNET_FLAG_NO_COOKIES': 202, 'pid': 433, 'file': 336, '15578': 27, 'snapshotfile': 465, 'enum_window': 330, '952': 124, 'vm_protect': 508, '40': 80, 'FILE_ATTRIBUTE_SYSTEM SECURITY_ANONYMOUS': 182, 'desiredaccess': 309, '5': 86, 'tid': 496, '2500': 51, 'add_netjob': 261, 'last_call-read_value': 393, 'FILE_ATTRIBUTE_ARCHIVE FILE_ATTRIBUTE_COMPRESSED FILE_ATTRIBUTE_COMPRESSED FILE_ATTRIBUTE_NOT_CONTENT_INDEXED SECURITY_ANONYMOUS': 147, 'buffer_len': 270, 'create_key': 288, '26500': 54, 'FILE_ATTRIBUTE_ARCHIVE FILE_ATTRIBUTE_READONLY SECURITY_ANONYMOUS': 162, 'create_thread': 298, 'starttype': 481, 'mailslot': 410, 'INTERNET_FLAG_RELOAD INTERNET_FLAG_NO_CACHE_WRITE INTERNET_FLAG_DONT_CACHE INTERNET_FLAG_HYPERLINK': 215, '6334': 101, 'CouldNotInstallHook': 130, '2000': 40}\n"
     ]
    }
   ],
   "source": [
    "print global_feat_dict"
   ]
  },
  {
   "cell_type": "code",
   "execution_count": null,
   "metadata": {},
   "outputs": [],
   "source": []
  }
 ],
 "metadata": {
  "kernelspec": {
   "display_name": "Python 2",
   "language": "python",
   "name": "python2"
  },
  "language_info": {
   "codemirror_mode": {
    "name": "ipython",
    "version": 2
   },
   "file_extension": ".py",
   "mimetype": "text/x-python",
   "name": "python",
   "nbconvert_exporter": "python",
   "pygments_lexer": "ipython2",
   "version": "2.7.14"
  }
 },
 "nbformat": 4,
 "nbformat_minor": 2
}
